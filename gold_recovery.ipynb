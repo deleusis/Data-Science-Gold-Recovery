{
 "cells": [
  {
   "cell_type": "markdown",
   "metadata": {},
   "source": [
    "# Комментарий ревьюра\n",
    "\n",
    "<p> Привет) Меня зовут Данил Будников, я буду проверять твой проект. Предлагаю общаться на ты, но если тебе удобнее на вы, можем перейти на вы.</p>\n",
    "\n",
    "Небольшое описание используемых обозначений:\n",
    "\n",
    "<div class=\"alert alert-success\">\n",
    "<h2> Комментарий ревьюера <a class=\"tocSkip\"></h2>\n",
    "<hr>\n",
    "<b>Хорошее решение:</b> Они послужат опорой для дальнейших проектов)\n",
    "</div>\n",
    "\n",
    "<br/>\n",
    "\n",
    "<div class=\"alert alert-warning\">\n",
    "<h2> Комментарий ревьюера <a class=\"tocSkip\"></h2>\n",
    "<hr>    \n",
    "<b>Можно доработать:</b> Решения, которые мне показались спорными и которые можно улучшить\n",
    "</div>\n",
    "\n",
    "\n",
    "<br/>\n",
    "\n",
    "<div class=\"alert alert-block alert-danger\">\n",
    "<h2> Комментарий ревьюера <a class=\"tocSkip\"></h2>\n",
    "<hr>  \n",
    "<b>Требует внимание:</b> Важные аспекты проекта, которые нужно исправить, чтобы принять проект\n",
    "</div>\n",
    "\n",
    "<br/>\n",
    "    \n",
    "Давай работать над проектом в диалоге: если что-то изменишь в проекте, то оставь комментарий или добавь ячейку `markdown`. Просьба, **не изменяй и не перемещай мои комментарии**. Это поможет мне выполнить повторную проверку оперативнее. Например можно выделить свои комментарии вот так:\n",
    "    \n",
    "<div class=\"alert alert-info\">\n",
    "<h2> Комментарий студента<a class=\"tocSkip\"></h2>\n",
    "<hr>  \n",
    "    Оставляй вопросы и замечания)\n",
    "</div>"
   ]
  },
  {
   "cell_type": "markdown",
   "metadata": {
    "id": "YBEkBx8JN3UY",
    "toc": true
   },
   "source": [
    "<h1>Содержание<span class=\"tocSkip\"></span></h1>\n",
    "<div class=\"toc\"><ul class=\"toc-item\"><li><span><a href=\"#Подготовка-данных\" data-toc-modified-id=\"Подготовка-данных-1\"><span class=\"toc-item-num\">1&nbsp;&nbsp;</span>Подготовка данных</a></span><ul class=\"toc-item\"><li><span><a href=\"#1.1-Откроем-файлы-и-изучим-их\" data-toc-modified-id=\"1.1-Откроем-файлы-и-изучим-их-1.1\"><span class=\"toc-item-num\">1.1&nbsp;&nbsp;</span>1.1 Откроем файлы и изучим их</a></span></li><li><span><a href=\"#1.2-Проверим,-что-эффективность-обогащения-рассчитана-правильно\" data-toc-modified-id=\"1.2-Проверим,-что-эффективность-обогащения-рассчитана-правильно-1.2\"><span class=\"toc-item-num\">1.2&nbsp;&nbsp;</span>1.2 Проверим, что эффективность обогащения рассчитана правильно</a></span></li><li><span><a href=\"#1.3.-Проанализируем-признаки,-недоступные-в-тестовой-выборке.-Что-это-за-параметры?-К-какому-типу-относятся?\" data-toc-modified-id=\"1.3.-Проанализируем-признаки,-недоступные-в-тестовой-выборке.-Что-это-за-параметры?-К-какому-типу-относятся?-1.3\"><span class=\"toc-item-num\">1.3&nbsp;&nbsp;</span>1.3. Проанализируем признаки, недоступные в тестовой выборке. Что это за параметры? К какому типу относятся?</a></span></li><li><span><a href=\"#1.4-Проведем-предобработку-данных\" data-toc-modified-id=\"1.4-Проведем-предобработку-данных-1.4\"><span class=\"toc-item-num\">1.4&nbsp;&nbsp;</span>1.4 Проведем предобработку данных</a></span></li></ul></li><li><span><a href=\"#Анализ-данных\" data-toc-modified-id=\"Анализ-данных-2\"><span class=\"toc-item-num\">2&nbsp;&nbsp;</span>Анализ данных</a></span><ul class=\"toc-item\"><li><span><a href=\"#2.1-Посмотрим,-как-меняется-концентрация-металлов-(Au,-Ag,-Pb)-на-различных-этапах-очистки.\" data-toc-modified-id=\"2.1-Посмотрим,-как-меняется-концентрация-металлов-(Au,-Ag,-Pb)-на-различных-этапах-очистки.-2.1\"><span class=\"toc-item-num\">2.1&nbsp;&nbsp;</span>2.1 Посмотрим, как меняется концентрация металлов (Au, Ag, Pb) на различных этапах очистки.</a></span></li><li><span><a href=\"#2.2.-Сравним-распределения-размеров-гранул-сырья-на-обучающей-и-тестовой-выборках.\" data-toc-modified-id=\"2.2.-Сравним-распределения-размеров-гранул-сырья-на-обучающей-и-тестовой-выборках.-2.2\"><span class=\"toc-item-num\">2.2&nbsp;&nbsp;</span>2.2. Сравним распределения размеров гранул сырья на обучающей и тестовой выборках.</a></span></li><li><span><a href=\"#2.3-Исследуем-суммарную-концентрацию-всех-веществ-на-разных-стадиях:-в-сырье,-в-черновом-и-финальном-концентратах.\" data-toc-modified-id=\"2.3-Исследуем-суммарную-концентрацию-всех-веществ-на-разных-стадиях:-в-сырье,-в-черновом-и-финальном-концентратах.-2.3\"><span class=\"toc-item-num\">2.3&nbsp;&nbsp;</span>2.3 Исследуем суммарную концентрацию всех веществ на разных стадиях: в сырье, в черновом и финальном концентратах.</a></span></li></ul></li><li><span><a href=\"#Модель\" data-toc-modified-id=\"Модель-3\"><span class=\"toc-item-num\">3&nbsp;&nbsp;</span>Модель</a></span><ul class=\"toc-item\"><li><span><a href=\"#3.1-Напишем-функцию-для-вычисления-итоговой-sMAPE\" data-toc-modified-id=\"3.1-Напишем-функцию-для-вычисления-итоговой-sMAPE-3.1\"><span class=\"toc-item-num\">3.1&nbsp;&nbsp;</span>3.1 Напишем функцию для вычисления итоговой sMAPE</a></span></li><li><span><a href=\"#3.2-Обучим-и-проверим-несколько-моделей\" data-toc-modified-id=\"3.2-Обучим-и-проверим-несколько-моделей-3.2\"><span class=\"toc-item-num\">3.2&nbsp;&nbsp;</span>3.2 Обучим и проверим несколько моделей</a></span></li><li><span><a href=\"#3.3-Проверим-лучшую-модель-на-тестовой-выборке\" data-toc-modified-id=\"3.3-Проверим-лучшую-модель-на-тестовой-выборке-3.3\"><span class=\"toc-item-num\">3.3&nbsp;&nbsp;</span>3.3 Проверим лучшую модель на тестовой выборке</a></span></li><li><span><a href=\"#3.4-Проверим-модель-на-адекватность\" data-toc-modified-id=\"3.4-Проверим-модель-на-адекватность-3.4\"><span class=\"toc-item-num\">3.4&nbsp;&nbsp;</span>3.4 Проверим модель на адекватность</a></span></li></ul></li><li><span><a href=\"#Чек-лист-готовности-проекта\" data-toc-modified-id=\"Чек-лист-готовности-проекта-4\"><span class=\"toc-item-num\">4&nbsp;&nbsp;</span>Чек-лист готовности проекта</a></span></li></ul></div>"
   ]
  },
  {
   "cell_type": "markdown",
   "metadata": {
    "id": "wR1I1MOKN3Ui"
   },
   "source": [
    "# Восстановление золота из руды"
   ]
  },
  {
   "cell_type": "markdown",
   "metadata": {
    "id": "aexpV0eXN3Uj"
   },
   "source": [
    "Подготовьте прототип модели машинного обучения для «Цифры». Компания разрабатывает решения для эффективной работы промышленных предприятий.\n",
    "\n",
    "Модель должна предсказать коэффициент восстановления золота из золотосодержащей руды. Используйте данные с параметрами добычи и очистки. \n",
    "\n",
    "Модель поможет оптимизировать производство, чтобы не запускать предприятие с убыточными характеристиками.\n",
    "\n",
    "Вам нужно:\n",
    "\n",
    "1. Подготовить данные;\n",
    "2. Провести исследовательский анализ данных;\n",
    "3. Построить и обучить модель.\n",
    "\n",
    "Чтобы выполнить проект, обращайтесь к библиотекам *pandas*, *matplotlib* и *sklearn.* Вам поможет их документация."
   ]
  },
  {
   "cell_type": "markdown",
   "metadata": {
    "id": "Jn2E6LX5N3Uk"
   },
   "source": [
    "## Подготовка данных"
   ]
  },
  {
   "cell_type": "code",
   "execution_count": 1,
   "metadata": {},
   "outputs": [],
   "source": [
    "#!pip install pandas_profiling"
   ]
  },
  {
   "cell_type": "code",
   "execution_count": 2,
   "metadata": {
    "id": "Kbme9G7gN3Ul"
   },
   "outputs": [],
   "source": [
    "import pandas as pd\n",
    "import numpy as np\n",
    "#import pandas_profiling\n",
    "from matplotlib import pyplot as plt\n",
    "import seaborn as sns\n",
    "from sklearn.metrics import mean_absolute_error\n",
    "from sklearn.linear_model import LinearRegression\n",
    "from sklearn.model_selection import cross_val_score\n",
    "from sklearn.model_selection import cross_val_predict\n",
    "from sklearn.metrics import fbeta_score, make_scorer\n",
    "from sklearn.tree import DecisionTreeRegressor\n",
    "from sklearn.ensemble import RandomForestRegressor\n",
    "from sklearn.dummy import DummyRegressor\n",
    "from sklearn.model_selection import GridSearchCV\n"
   ]
  },
  {
   "cell_type": "code",
   "execution_count": 3,
   "metadata": {
    "colab": {
     "base_uri": "https://localhost:8080/"
    },
    "id": "eWTYsl5jOEbR",
    "outputId": "cb2b3226-cc16-4317-a2b0-5644a31a885f"
   },
   "outputs": [],
   "source": [
    "try:\n",
    "  from google.colab import drive\n",
    "  drive.mount('/content/drive')\n",
    "  train = pd.read_csv('/content/drive/MyDrive/Colab Notebooks/сборный проект-2_золото/gold_recovery_train_new.csv')\n",
    "  test = pd.read_csv('/content/drive/MyDrive/Colab Notebooks/сборный проект-2_золото/gold_recovery_test_new.csv')\n",
    "  full = pd.read_csv('/content/drive/MyDrive/Colab Notebooks/сборный проект-2_золото/gold_recovery_full_new.csv')\n",
    "except:\n",
    "  train = pd.read_csv('/datasets/gold_recovery_train_new.csv')\n",
    "  test = pd.read_csv('/datasets/gold_recovery_test_new.csv')\n",
    "  full = pd.read_csv('/datasets/gold_recovery_full_new.csv')"
   ]
  },
  {
   "cell_type": "markdown",
   "metadata": {
    "id": "mk1TR7ENhxuS"
   },
   "source": [
    "### 1.1 Откроем файлы и изучим их"
   ]
  },
  {
   "cell_type": "code",
   "execution_count": 4,
   "metadata": {
    "colab": {
     "base_uri": "https://localhost:8080/",
     "height": 1000
    },
    "id": "syVAibk4ON3q",
    "outputId": "d9e9664b-cc90-4a64-a206-a9052ba08203"
   },
   "outputs": [
    {
     "name": "stdout",
     "output_type": "stream",
     "text": [
      "<class 'pandas.core.frame.DataFrame'>\n",
      "RangeIndex: 14149 entries, 0 to 14148\n",
      "Data columns (total 87 columns):\n",
      " #   Column                                              Non-Null Count  Dtype  \n",
      "---  ------                                              --------------  -----  \n",
      " 0   date                                                14149 non-null  object \n",
      " 1   final.output.concentrate_ag                         14148 non-null  float64\n",
      " 2   final.output.concentrate_pb                         14148 non-null  float64\n",
      " 3   final.output.concentrate_sol                        13938 non-null  float64\n",
      " 4   final.output.concentrate_au                         14149 non-null  float64\n",
      " 5   final.output.recovery                               14149 non-null  float64\n",
      " 6   final.output.tail_ag                                14149 non-null  float64\n",
      " 7   final.output.tail_pb                                14049 non-null  float64\n",
      " 8   final.output.tail_sol                               14144 non-null  float64\n",
      " 9   final.output.tail_au                                14149 non-null  float64\n",
      " 10  primary_cleaner.input.sulfate                       14129 non-null  float64\n",
      " 11  primary_cleaner.input.depressant                    14117 non-null  float64\n",
      " 12  primary_cleaner.input.feed_size                     14149 non-null  float64\n",
      " 13  primary_cleaner.input.xanthate                      14049 non-null  float64\n",
      " 14  primary_cleaner.output.concentrate_ag               14149 non-null  float64\n",
      " 15  primary_cleaner.output.concentrate_pb               14063 non-null  float64\n",
      " 16  primary_cleaner.output.concentrate_sol              13863 non-null  float64\n",
      " 17  primary_cleaner.output.concentrate_au               14149 non-null  float64\n",
      " 18  primary_cleaner.output.tail_ag                      14148 non-null  float64\n",
      " 19  primary_cleaner.output.tail_pb                      14134 non-null  float64\n",
      " 20  primary_cleaner.output.tail_sol                     14103 non-null  float64\n",
      " 21  primary_cleaner.output.tail_au                      14149 non-null  float64\n",
      " 22  primary_cleaner.state.floatbank8_a_air              14145 non-null  float64\n",
      " 23  primary_cleaner.state.floatbank8_a_level            14148 non-null  float64\n",
      " 24  primary_cleaner.state.floatbank8_b_air              14145 non-null  float64\n",
      " 25  primary_cleaner.state.floatbank8_b_level            14148 non-null  float64\n",
      " 26  primary_cleaner.state.floatbank8_c_air              14147 non-null  float64\n",
      " 27  primary_cleaner.state.floatbank8_c_level            14148 non-null  float64\n",
      " 28  primary_cleaner.state.floatbank8_d_air              14146 non-null  float64\n",
      " 29  primary_cleaner.state.floatbank8_d_level            14148 non-null  float64\n",
      " 30  rougher.calculation.sulfate_to_au_concentrate       14148 non-null  float64\n",
      " 31  rougher.calculation.floatbank10_sulfate_to_au_feed  14148 non-null  float64\n",
      " 32  rougher.calculation.floatbank11_sulfate_to_au_feed  14148 non-null  float64\n",
      " 33  rougher.calculation.au_pb_ratio                     14149 non-null  float64\n",
      " 34  rougher.input.feed_ag                               14149 non-null  float64\n",
      " 35  rougher.input.feed_pb                               14049 non-null  float64\n",
      " 36  rougher.input.feed_rate                             14141 non-null  float64\n",
      " 37  rougher.input.feed_size                             14005 non-null  float64\n",
      " 38  rougher.input.feed_sol                              14071 non-null  float64\n",
      " 39  rougher.input.feed_au                               14149 non-null  float64\n",
      " 40  rougher.input.floatbank10_sulfate                   14120 non-null  float64\n",
      " 41  rougher.input.floatbank10_xanthate                  14141 non-null  float64\n",
      " 42  rougher.input.floatbank11_sulfate                   14113 non-null  float64\n",
      " 43  rougher.input.floatbank11_xanthate                  13721 non-null  float64\n",
      " 44  rougher.output.concentrate_ag                       14149 non-null  float64\n",
      " 45  rougher.output.concentrate_pb                       14149 non-null  float64\n",
      " 46  rougher.output.concentrate_sol                      14127 non-null  float64\n",
      " 47  rougher.output.concentrate_au                       14149 non-null  float64\n",
      " 48  rougher.output.recovery                             14149 non-null  float64\n",
      " 49  rougher.output.tail_ag                              14148 non-null  float64\n",
      " 50  rougher.output.tail_pb                              14149 non-null  float64\n",
      " 51  rougher.output.tail_sol                             14149 non-null  float64\n",
      " 52  rougher.output.tail_au                              14149 non-null  float64\n",
      " 53  rougher.state.floatbank10_a_air                     14148 non-null  float64\n",
      " 54  rougher.state.floatbank10_a_level                   14148 non-null  float64\n",
      " 55  rougher.state.floatbank10_b_air                     14148 non-null  float64\n",
      " 56  rougher.state.floatbank10_b_level                   14148 non-null  float64\n",
      " 57  rougher.state.floatbank10_c_air                     14148 non-null  float64\n",
      " 58  rougher.state.floatbank10_c_level                   14148 non-null  float64\n",
      " 59  rougher.state.floatbank10_d_air                     14149 non-null  float64\n",
      " 60  rougher.state.floatbank10_d_level                   14149 non-null  float64\n",
      " 61  rougher.state.floatbank10_e_air                     13713 non-null  float64\n",
      " 62  rougher.state.floatbank10_e_level                   14149 non-null  float64\n",
      " 63  rougher.state.floatbank10_f_air                     14149 non-null  float64\n",
      " 64  rougher.state.floatbank10_f_level                   14149 non-null  float64\n",
      " 65  secondary_cleaner.output.tail_ag                    14147 non-null  float64\n",
      " 66  secondary_cleaner.output.tail_pb                    14139 non-null  float64\n",
      " 67  secondary_cleaner.output.tail_sol                   12544 non-null  float64\n",
      " 68  secondary_cleaner.output.tail_au                    14149 non-null  float64\n",
      " 69  secondary_cleaner.state.floatbank2_a_air            13932 non-null  float64\n",
      " 70  secondary_cleaner.state.floatbank2_a_level          14148 non-null  float64\n",
      " 71  secondary_cleaner.state.floatbank2_b_air            14128 non-null  float64\n",
      " 72  secondary_cleaner.state.floatbank2_b_level          14148 non-null  float64\n",
      " 73  secondary_cleaner.state.floatbank3_a_air            14145 non-null  float64\n",
      " 74  secondary_cleaner.state.floatbank3_a_level          14148 non-null  float64\n",
      " 75  secondary_cleaner.state.floatbank3_b_air            14148 non-null  float64\n",
      " 76  secondary_cleaner.state.floatbank3_b_level          14148 non-null  float64\n",
      " 77  secondary_cleaner.state.floatbank4_a_air            14143 non-null  float64\n",
      " 78  secondary_cleaner.state.floatbank4_a_level          14148 non-null  float64\n",
      " 79  secondary_cleaner.state.floatbank4_b_air            14148 non-null  float64\n",
      " 80  secondary_cleaner.state.floatbank4_b_level          14148 non-null  float64\n",
      " 81  secondary_cleaner.state.floatbank5_a_air            14148 non-null  float64\n",
      " 82  secondary_cleaner.state.floatbank5_a_level          14148 non-null  float64\n",
      " 83  secondary_cleaner.state.floatbank5_b_air            14148 non-null  float64\n",
      " 84  secondary_cleaner.state.floatbank5_b_level          14148 non-null  float64\n",
      " 85  secondary_cleaner.state.floatbank6_a_air            14147 non-null  float64\n",
      " 86  secondary_cleaner.state.floatbank6_a_level          14148 non-null  float64\n",
      "dtypes: float64(86), object(1)\n",
      "memory usage: 9.4+ MB\n"
     ]
    },
    {
     "data": {
      "text/plain": [
       "None"
      ]
     },
     "metadata": {},
     "output_type": "display_data"
    },
    {
     "name": "stdout",
     "output_type": "stream",
     "text": [
      "<class 'pandas.core.frame.DataFrame'>\n",
      "RangeIndex: 5290 entries, 0 to 5289\n",
      "Data columns (total 53 columns):\n",
      " #   Column                                      Non-Null Count  Dtype  \n",
      "---  ------                                      --------------  -----  \n",
      " 0   date                                        5290 non-null   object \n",
      " 1   primary_cleaner.input.sulfate               5286 non-null   float64\n",
      " 2   primary_cleaner.input.depressant            5285 non-null   float64\n",
      " 3   primary_cleaner.input.feed_size             5290 non-null   float64\n",
      " 4   primary_cleaner.input.xanthate              5286 non-null   float64\n",
      " 5   primary_cleaner.state.floatbank8_a_air      5290 non-null   float64\n",
      " 6   primary_cleaner.state.floatbank8_a_level    5290 non-null   float64\n",
      " 7   primary_cleaner.state.floatbank8_b_air      5290 non-null   float64\n",
      " 8   primary_cleaner.state.floatbank8_b_level    5290 non-null   float64\n",
      " 9   primary_cleaner.state.floatbank8_c_air      5290 non-null   float64\n",
      " 10  primary_cleaner.state.floatbank8_c_level    5290 non-null   float64\n",
      " 11  primary_cleaner.state.floatbank8_d_air      5290 non-null   float64\n",
      " 12  primary_cleaner.state.floatbank8_d_level    5290 non-null   float64\n",
      " 13  rougher.input.feed_ag                       5290 non-null   float64\n",
      " 14  rougher.input.feed_pb                       5290 non-null   float64\n",
      " 15  rougher.input.feed_rate                     5287 non-null   float64\n",
      " 16  rougher.input.feed_size                     5289 non-null   float64\n",
      " 17  rougher.input.feed_sol                      5269 non-null   float64\n",
      " 18  rougher.input.feed_au                       5290 non-null   float64\n",
      " 19  rougher.input.floatbank10_sulfate           5285 non-null   float64\n",
      " 20  rougher.input.floatbank10_xanthate          5290 non-null   float64\n",
      " 21  rougher.input.floatbank11_sulfate           5282 non-null   float64\n",
      " 22  rougher.input.floatbank11_xanthate          5265 non-null   float64\n",
      " 23  rougher.state.floatbank10_a_air             5290 non-null   float64\n",
      " 24  rougher.state.floatbank10_a_level           5290 non-null   float64\n",
      " 25  rougher.state.floatbank10_b_air             5290 non-null   float64\n",
      " 26  rougher.state.floatbank10_b_level           5290 non-null   float64\n",
      " 27  rougher.state.floatbank10_c_air             5290 non-null   float64\n",
      " 28  rougher.state.floatbank10_c_level           5290 non-null   float64\n",
      " 29  rougher.state.floatbank10_d_air             5290 non-null   float64\n",
      " 30  rougher.state.floatbank10_d_level           5290 non-null   float64\n",
      " 31  rougher.state.floatbank10_e_air             5290 non-null   float64\n",
      " 32  rougher.state.floatbank10_e_level           5290 non-null   float64\n",
      " 33  rougher.state.floatbank10_f_air             5290 non-null   float64\n",
      " 34  rougher.state.floatbank10_f_level           5290 non-null   float64\n",
      " 35  secondary_cleaner.state.floatbank2_a_air    5287 non-null   float64\n",
      " 36  secondary_cleaner.state.floatbank2_a_level  5290 non-null   float64\n",
      " 37  secondary_cleaner.state.floatbank2_b_air    5288 non-null   float64\n",
      " 38  secondary_cleaner.state.floatbank2_b_level  5290 non-null   float64\n",
      " 39  secondary_cleaner.state.floatbank3_a_air    5281 non-null   float64\n",
      " 40  secondary_cleaner.state.floatbank3_a_level  5290 non-null   float64\n",
      " 41  secondary_cleaner.state.floatbank3_b_air    5290 non-null   float64\n",
      " 42  secondary_cleaner.state.floatbank3_b_level  5290 non-null   float64\n",
      " 43  secondary_cleaner.state.floatbank4_a_air    5290 non-null   float64\n",
      " 44  secondary_cleaner.state.floatbank4_a_level  5290 non-null   float64\n",
      " 45  secondary_cleaner.state.floatbank4_b_air    5290 non-null   float64\n",
      " 46  secondary_cleaner.state.floatbank4_b_level  5290 non-null   float64\n",
      " 47  secondary_cleaner.state.floatbank5_a_air    5290 non-null   float64\n",
      " 48  secondary_cleaner.state.floatbank5_a_level  5290 non-null   float64\n",
      " 49  secondary_cleaner.state.floatbank5_b_air    5290 non-null   float64\n",
      " 50  secondary_cleaner.state.floatbank5_b_level  5290 non-null   float64\n",
      " 51  secondary_cleaner.state.floatbank6_a_air    5290 non-null   float64\n",
      " 52  secondary_cleaner.state.floatbank6_a_level  5290 non-null   float64\n",
      "dtypes: float64(52), object(1)\n",
      "memory usage: 2.1+ MB\n"
     ]
    },
    {
     "data": {
      "text/plain": [
       "None"
      ]
     },
     "metadata": {},
     "output_type": "display_data"
    },
    {
     "name": "stdout",
     "output_type": "stream",
     "text": [
      "<class 'pandas.core.frame.DataFrame'>\n",
      "RangeIndex: 19439 entries, 0 to 19438\n",
      "Data columns (total 87 columns):\n",
      " #   Column                                              Non-Null Count  Dtype  \n",
      "---  ------                                              --------------  -----  \n",
      " 0   date                                                19439 non-null  object \n",
      " 1   final.output.concentrate_ag                         19438 non-null  float64\n",
      " 2   final.output.concentrate_pb                         19438 non-null  float64\n",
      " 3   final.output.concentrate_sol                        19228 non-null  float64\n",
      " 4   final.output.concentrate_au                         19439 non-null  float64\n",
      " 5   final.output.recovery                               19439 non-null  float64\n",
      " 6   final.output.tail_ag                                19438 non-null  float64\n",
      " 7   final.output.tail_pb                                19338 non-null  float64\n",
      " 8   final.output.tail_sol                               19433 non-null  float64\n",
      " 9   final.output.tail_au                                19439 non-null  float64\n",
      " 10  primary_cleaner.input.sulfate                       19415 non-null  float64\n",
      " 11  primary_cleaner.input.depressant                    19402 non-null  float64\n",
      " 12  primary_cleaner.input.feed_size                     19439 non-null  float64\n",
      " 13  primary_cleaner.input.xanthate                      19335 non-null  float64\n",
      " 14  primary_cleaner.output.concentrate_ag               19439 non-null  float64\n",
      " 15  primary_cleaner.output.concentrate_pb               19323 non-null  float64\n",
      " 16  primary_cleaner.output.concentrate_sol              19069 non-null  float64\n",
      " 17  primary_cleaner.output.concentrate_au               19439 non-null  float64\n",
      " 18  primary_cleaner.output.tail_ag                      19435 non-null  float64\n",
      " 19  primary_cleaner.output.tail_pb                      19418 non-null  float64\n",
      " 20  primary_cleaner.output.tail_sol                     19377 non-null  float64\n",
      " 21  primary_cleaner.output.tail_au                      19439 non-null  float64\n",
      " 22  primary_cleaner.state.floatbank8_a_air              19435 non-null  float64\n",
      " 23  primary_cleaner.state.floatbank8_a_level            19438 non-null  float64\n",
      " 24  primary_cleaner.state.floatbank8_b_air              19435 non-null  float64\n",
      " 25  primary_cleaner.state.floatbank8_b_level            19438 non-null  float64\n",
      " 26  primary_cleaner.state.floatbank8_c_air              19437 non-null  float64\n",
      " 27  primary_cleaner.state.floatbank8_c_level            19438 non-null  float64\n",
      " 28  primary_cleaner.state.floatbank8_d_air              19436 non-null  float64\n",
      " 29  primary_cleaner.state.floatbank8_d_level            19438 non-null  float64\n",
      " 30  rougher.calculation.sulfate_to_au_concentrate       19437 non-null  float64\n",
      " 31  rougher.calculation.floatbank10_sulfate_to_au_feed  19437 non-null  float64\n",
      " 32  rougher.calculation.floatbank11_sulfate_to_au_feed  19437 non-null  float64\n",
      " 33  rougher.calculation.au_pb_ratio                     19439 non-null  float64\n",
      " 34  rougher.input.feed_ag                               19439 non-null  float64\n",
      " 35  rougher.input.feed_pb                               19339 non-null  float64\n",
      " 36  rougher.input.feed_rate                             19428 non-null  float64\n",
      " 37  rougher.input.feed_size                             19294 non-null  float64\n",
      " 38  rougher.input.feed_sol                              19340 non-null  float64\n",
      " 39  rougher.input.feed_au                               19439 non-null  float64\n",
      " 40  rougher.input.floatbank10_sulfate                   19405 non-null  float64\n",
      " 41  rougher.input.floatbank10_xanthate                  19431 non-null  float64\n",
      " 42  rougher.input.floatbank11_sulfate                   19395 non-null  float64\n",
      " 43  rougher.input.floatbank11_xanthate                  18986 non-null  float64\n",
      " 44  rougher.output.concentrate_ag                       19439 non-null  float64\n",
      " 45  rougher.output.concentrate_pb                       19439 non-null  float64\n",
      " 46  rougher.output.concentrate_sol                      19416 non-null  float64\n",
      " 47  rougher.output.concentrate_au                       19439 non-null  float64\n",
      " 48  rougher.output.recovery                             19439 non-null  float64\n",
      " 49  rougher.output.tail_ag                              19438 non-null  float64\n",
      " 50  rougher.output.tail_pb                              19439 non-null  float64\n",
      " 51  rougher.output.tail_sol                             19439 non-null  float64\n",
      " 52  rougher.output.tail_au                              19439 non-null  float64\n",
      " 53  rougher.state.floatbank10_a_air                     19438 non-null  float64\n",
      " 54  rougher.state.floatbank10_a_level                   19438 non-null  float64\n",
      " 55  rougher.state.floatbank10_b_air                     19438 non-null  float64\n",
      " 56  rougher.state.floatbank10_b_level                   19438 non-null  float64\n",
      " 57  rougher.state.floatbank10_c_air                     19438 non-null  float64\n",
      " 58  rougher.state.floatbank10_c_level                   19438 non-null  float64\n",
      " 59  rougher.state.floatbank10_d_air                     19439 non-null  float64\n",
      " 60  rougher.state.floatbank10_d_level                   19439 non-null  float64\n",
      " 61  rougher.state.floatbank10_e_air                     19003 non-null  float64\n",
      " 62  rougher.state.floatbank10_e_level                   19439 non-null  float64\n",
      " 63  rougher.state.floatbank10_f_air                     19439 non-null  float64\n",
      " 64  rougher.state.floatbank10_f_level                   19439 non-null  float64\n",
      " 65  secondary_cleaner.output.tail_ag                    19437 non-null  float64\n",
      " 66  secondary_cleaner.output.tail_pb                    19427 non-null  float64\n",
      " 67  secondary_cleaner.output.tail_sol                   17691 non-null  float64\n",
      " 68  secondary_cleaner.output.tail_au                    19439 non-null  float64\n",
      " 69  secondary_cleaner.state.floatbank2_a_air            19219 non-null  float64\n",
      " 70  secondary_cleaner.state.floatbank2_a_level          19438 non-null  float64\n",
      " 71  secondary_cleaner.state.floatbank2_b_air            19416 non-null  float64\n",
      " 72  secondary_cleaner.state.floatbank2_b_level          19438 non-null  float64\n",
      " 73  secondary_cleaner.state.floatbank3_a_air            19426 non-null  float64\n",
      " 74  secondary_cleaner.state.floatbank3_a_level          19438 non-null  float64\n",
      " 75  secondary_cleaner.state.floatbank3_b_air            19438 non-null  float64\n",
      " 76  secondary_cleaner.state.floatbank3_b_level          19438 non-null  float64\n",
      " 77  secondary_cleaner.state.floatbank4_a_air            19433 non-null  float64\n",
      " 78  secondary_cleaner.state.floatbank4_a_level          19438 non-null  float64\n",
      " 79  secondary_cleaner.state.floatbank4_b_air            19438 non-null  float64\n",
      " 80  secondary_cleaner.state.floatbank4_b_level          19438 non-null  float64\n",
      " 81  secondary_cleaner.state.floatbank5_a_air            19438 non-null  float64\n",
      " 82  secondary_cleaner.state.floatbank5_a_level          19438 non-null  float64\n",
      " 83  secondary_cleaner.state.floatbank5_b_air            19438 non-null  float64\n",
      " 84  secondary_cleaner.state.floatbank5_b_level          19438 non-null  float64\n",
      " 85  secondary_cleaner.state.floatbank6_a_air            19437 non-null  float64\n",
      " 86  secondary_cleaner.state.floatbank6_a_level          19438 non-null  float64\n",
      "dtypes: float64(86), object(1)\n",
      "memory usage: 12.9+ MB\n"
     ]
    },
    {
     "data": {
      "text/plain": [
       "None"
      ]
     },
     "metadata": {},
     "output_type": "display_data"
    }
   ],
   "source": [
    "datasets = [train, test, full]\n",
    "for dataset in datasets:\n",
    "  display(dataset.info())"
   ]
  },
  {
   "cell_type": "code",
   "execution_count": 5,
   "metadata": {
    "colab": {
     "base_uri": "https://localhost:8080/",
     "height": 991
    },
    "id": "qlZWpEY3OOeW",
    "outputId": "dda17f81-0968-474e-8f41-3a8f7802285c"
   },
   "outputs": [
    {
     "data": {
      "text/html": [
       "<div>\n",
       "<style scoped>\n",
       "    .dataframe tbody tr th:only-of-type {\n",
       "        vertical-align: middle;\n",
       "    }\n",
       "\n",
       "    .dataframe tbody tr th {\n",
       "        vertical-align: top;\n",
       "    }\n",
       "\n",
       "    .dataframe thead th {\n",
       "        text-align: right;\n",
       "    }\n",
       "</style>\n",
       "<table border=\"1\" class=\"dataframe\">\n",
       "  <thead>\n",
       "    <tr style=\"text-align: right;\">\n",
       "      <th></th>\n",
       "      <th>final.output.concentrate_ag</th>\n",
       "      <th>final.output.concentrate_pb</th>\n",
       "      <th>final.output.concentrate_sol</th>\n",
       "      <th>final.output.concentrate_au</th>\n",
       "      <th>final.output.recovery</th>\n",
       "      <th>final.output.tail_ag</th>\n",
       "      <th>final.output.tail_pb</th>\n",
       "      <th>final.output.tail_sol</th>\n",
       "      <th>final.output.tail_au</th>\n",
       "      <th>primary_cleaner.input.sulfate</th>\n",
       "      <th>...</th>\n",
       "      <th>secondary_cleaner.state.floatbank4_a_air</th>\n",
       "      <th>secondary_cleaner.state.floatbank4_a_level</th>\n",
       "      <th>secondary_cleaner.state.floatbank4_b_air</th>\n",
       "      <th>secondary_cleaner.state.floatbank4_b_level</th>\n",
       "      <th>secondary_cleaner.state.floatbank5_a_air</th>\n",
       "      <th>secondary_cleaner.state.floatbank5_a_level</th>\n",
       "      <th>secondary_cleaner.state.floatbank5_b_air</th>\n",
       "      <th>secondary_cleaner.state.floatbank5_b_level</th>\n",
       "      <th>secondary_cleaner.state.floatbank6_a_air</th>\n",
       "      <th>secondary_cleaner.state.floatbank6_a_level</th>\n",
       "    </tr>\n",
       "  </thead>\n",
       "  <tbody>\n",
       "    <tr>\n",
       "      <th>count</th>\n",
       "      <td>14148.000000</td>\n",
       "      <td>14148.000000</td>\n",
       "      <td>13938.000000</td>\n",
       "      <td>14149.000000</td>\n",
       "      <td>14149.000000</td>\n",
       "      <td>14149.000000</td>\n",
       "      <td>14049.000000</td>\n",
       "      <td>14144.000000</td>\n",
       "      <td>14149.000000</td>\n",
       "      <td>14129.000000</td>\n",
       "      <td>...</td>\n",
       "      <td>14143.000000</td>\n",
       "      <td>14148.000000</td>\n",
       "      <td>14148.000000</td>\n",
       "      <td>14148.000000</td>\n",
       "      <td>14148.000000</td>\n",
       "      <td>14148.000000</td>\n",
       "      <td>14148.000000</td>\n",
       "      <td>14148.000000</td>\n",
       "      <td>14147.000000</td>\n",
       "      <td>14148.000000</td>\n",
       "    </tr>\n",
       "    <tr>\n",
       "      <th>mean</th>\n",
       "      <td>5.142034</td>\n",
       "      <td>10.132960</td>\n",
       "      <td>9.202849</td>\n",
       "      <td>44.003792</td>\n",
       "      <td>66.518832</td>\n",
       "      <td>9.607035</td>\n",
       "      <td>2.597298</td>\n",
       "      <td>10.512122</td>\n",
       "      <td>2.918421</td>\n",
       "      <td>133.320659</td>\n",
       "      <td>...</td>\n",
       "      <td>19.985454</td>\n",
       "      <td>-478.696836</td>\n",
       "      <td>15.487065</td>\n",
       "      <td>-460.229416</td>\n",
       "      <td>16.775136</td>\n",
       "      <td>-483.956022</td>\n",
       "      <td>13.064590</td>\n",
       "      <td>-483.966564</td>\n",
       "      <td>19.577539</td>\n",
       "      <td>-506.798480</td>\n",
       "    </tr>\n",
       "    <tr>\n",
       "      <th>std</th>\n",
       "      <td>1.369586</td>\n",
       "      <td>1.654930</td>\n",
       "      <td>2.790516</td>\n",
       "      <td>4.905261</td>\n",
       "      <td>10.295402</td>\n",
       "      <td>2.319069</td>\n",
       "      <td>0.971843</td>\n",
       "      <td>3.003617</td>\n",
       "      <td>0.903712</td>\n",
       "      <td>39.431659</td>\n",
       "      <td>...</td>\n",
       "      <td>5.657723</td>\n",
       "      <td>50.736021</td>\n",
       "      <td>5.255655</td>\n",
       "      <td>58.843586</td>\n",
       "      <td>5.831906</td>\n",
       "      <td>37.892788</td>\n",
       "      <td>5.765617</td>\n",
       "      <td>39.207913</td>\n",
       "      <td>5.764417</td>\n",
       "      <td>37.079249</td>\n",
       "    </tr>\n",
       "    <tr>\n",
       "      <th>min</th>\n",
       "      <td>0.000000</td>\n",
       "      <td>0.000000</td>\n",
       "      <td>0.000000</td>\n",
       "      <td>0.000000</td>\n",
       "      <td>0.000000</td>\n",
       "      <td>0.000000</td>\n",
       "      <td>0.000000</td>\n",
       "      <td>0.000000</td>\n",
       "      <td>0.000000</td>\n",
       "      <td>0.003112</td>\n",
       "      <td>...</td>\n",
       "      <td>0.000000</td>\n",
       "      <td>-799.709069</td>\n",
       "      <td>0.000000</td>\n",
       "      <td>-799.889113</td>\n",
       "      <td>-0.372054</td>\n",
       "      <td>-797.142475</td>\n",
       "      <td>0.646208</td>\n",
       "      <td>-800.006180</td>\n",
       "      <td>0.195324</td>\n",
       "      <td>-809.398668</td>\n",
       "    </tr>\n",
       "    <tr>\n",
       "      <th>25%</th>\n",
       "      <td>4.211620</td>\n",
       "      <td>9.297355</td>\n",
       "      <td>7.484645</td>\n",
       "      <td>43.276111</td>\n",
       "      <td>62.545817</td>\n",
       "      <td>7.997429</td>\n",
       "      <td>1.905973</td>\n",
       "      <td>8.811324</td>\n",
       "      <td>2.368607</td>\n",
       "      <td>107.006651</td>\n",
       "      <td>...</td>\n",
       "      <td>14.990775</td>\n",
       "      <td>-500.628656</td>\n",
       "      <td>11.894558</td>\n",
       "      <td>-500.149000</td>\n",
       "      <td>11.083980</td>\n",
       "      <td>-500.363177</td>\n",
       "      <td>8.994405</td>\n",
       "      <td>-500.105994</td>\n",
       "      <td>14.989304</td>\n",
       "      <td>-500.745104</td>\n",
       "    </tr>\n",
       "    <tr>\n",
       "      <th>50%</th>\n",
       "      <td>4.994652</td>\n",
       "      <td>10.297144</td>\n",
       "      <td>8.845462</td>\n",
       "      <td>44.872436</td>\n",
       "      <td>67.432775</td>\n",
       "      <td>9.480270</td>\n",
       "      <td>2.592022</td>\n",
       "      <td>10.514621</td>\n",
       "      <td>2.851025</td>\n",
       "      <td>133.018328</td>\n",
       "      <td>...</td>\n",
       "      <td>20.001789</td>\n",
       "      <td>-499.681450</td>\n",
       "      <td>14.975536</td>\n",
       "      <td>-499.388738</td>\n",
       "      <td>17.932223</td>\n",
       "      <td>-499.702452</td>\n",
       "      <td>11.997547</td>\n",
       "      <td>-499.914556</td>\n",
       "      <td>19.984175</td>\n",
       "      <td>-500.061431</td>\n",
       "    </tr>\n",
       "    <tr>\n",
       "      <th>75%</th>\n",
       "      <td>5.859540</td>\n",
       "      <td>11.170603</td>\n",
       "      <td>10.487508</td>\n",
       "      <td>46.166425</td>\n",
       "      <td>72.346428</td>\n",
       "      <td>11.003707</td>\n",
       "      <td>3.241723</td>\n",
       "      <td>11.933009</td>\n",
       "      <td>3.434764</td>\n",
       "      <td>159.825396</td>\n",
       "      <td>...</td>\n",
       "      <td>24.990826</td>\n",
       "      <td>-477.472413</td>\n",
       "      <td>20.059375</td>\n",
       "      <td>-400.039008</td>\n",
       "      <td>21.346550</td>\n",
       "      <td>-487.712108</td>\n",
       "      <td>17.982903</td>\n",
       "      <td>-453.186936</td>\n",
       "      <td>24.991623</td>\n",
       "      <td>-499.536466</td>\n",
       "    </tr>\n",
       "    <tr>\n",
       "      <th>max</th>\n",
       "      <td>16.001945</td>\n",
       "      <td>17.031899</td>\n",
       "      <td>18.124851</td>\n",
       "      <td>52.756638</td>\n",
       "      <td>100.000000</td>\n",
       "      <td>19.552149</td>\n",
       "      <td>5.639565</td>\n",
       "      <td>22.317730</td>\n",
       "      <td>8.197408</td>\n",
       "      <td>250.127834</td>\n",
       "      <td>...</td>\n",
       "      <td>30.115735</td>\n",
       "      <td>-245.239184</td>\n",
       "      <td>24.007913</td>\n",
       "      <td>-145.071088</td>\n",
       "      <td>43.709931</td>\n",
       "      <td>-275.073125</td>\n",
       "      <td>27.926001</td>\n",
       "      <td>-157.396071</td>\n",
       "      <td>32.188906</td>\n",
       "      <td>-104.427459</td>\n",
       "    </tr>\n",
       "  </tbody>\n",
       "</table>\n",
       "<p>8 rows × 86 columns</p>\n",
       "</div>"
      ],
      "text/plain": [
       "       final.output.concentrate_ag  final.output.concentrate_pb  \\\n",
       "count                 14148.000000                 14148.000000   \n",
       "mean                      5.142034                    10.132960   \n",
       "std                       1.369586                     1.654930   \n",
       "min                       0.000000                     0.000000   \n",
       "25%                       4.211620                     9.297355   \n",
       "50%                       4.994652                    10.297144   \n",
       "75%                       5.859540                    11.170603   \n",
       "max                      16.001945                    17.031899   \n",
       "\n",
       "       final.output.concentrate_sol  final.output.concentrate_au  \\\n",
       "count                  13938.000000                 14149.000000   \n",
       "mean                       9.202849                    44.003792   \n",
       "std                        2.790516                     4.905261   \n",
       "min                        0.000000                     0.000000   \n",
       "25%                        7.484645                    43.276111   \n",
       "50%                        8.845462                    44.872436   \n",
       "75%                       10.487508                    46.166425   \n",
       "max                       18.124851                    52.756638   \n",
       "\n",
       "       final.output.recovery  final.output.tail_ag  final.output.tail_pb  \\\n",
       "count           14149.000000          14149.000000          14049.000000   \n",
       "mean               66.518832              9.607035              2.597298   \n",
       "std                10.295402              2.319069              0.971843   \n",
       "min                 0.000000              0.000000              0.000000   \n",
       "25%                62.545817              7.997429              1.905973   \n",
       "50%                67.432775              9.480270              2.592022   \n",
       "75%                72.346428             11.003707              3.241723   \n",
       "max               100.000000             19.552149              5.639565   \n",
       "\n",
       "       final.output.tail_sol  final.output.tail_au  \\\n",
       "count           14144.000000          14149.000000   \n",
       "mean               10.512122              2.918421   \n",
       "std                 3.003617              0.903712   \n",
       "min                 0.000000              0.000000   \n",
       "25%                 8.811324              2.368607   \n",
       "50%                10.514621              2.851025   \n",
       "75%                11.933009              3.434764   \n",
       "max                22.317730              8.197408   \n",
       "\n",
       "       primary_cleaner.input.sulfate  ...  \\\n",
       "count                   14129.000000  ...   \n",
       "mean                      133.320659  ...   \n",
       "std                        39.431659  ...   \n",
       "min                         0.003112  ...   \n",
       "25%                       107.006651  ...   \n",
       "50%                       133.018328  ...   \n",
       "75%                       159.825396  ...   \n",
       "max                       250.127834  ...   \n",
       "\n",
       "       secondary_cleaner.state.floatbank4_a_air  \\\n",
       "count                              14143.000000   \n",
       "mean                                  19.985454   \n",
       "std                                    5.657723   \n",
       "min                                    0.000000   \n",
       "25%                                   14.990775   \n",
       "50%                                   20.001789   \n",
       "75%                                   24.990826   \n",
       "max                                   30.115735   \n",
       "\n",
       "       secondary_cleaner.state.floatbank4_a_level  \\\n",
       "count                                14148.000000   \n",
       "mean                                  -478.696836   \n",
       "std                                     50.736021   \n",
       "min                                   -799.709069   \n",
       "25%                                   -500.628656   \n",
       "50%                                   -499.681450   \n",
       "75%                                   -477.472413   \n",
       "max                                   -245.239184   \n",
       "\n",
       "       secondary_cleaner.state.floatbank4_b_air  \\\n",
       "count                              14148.000000   \n",
       "mean                                  15.487065   \n",
       "std                                    5.255655   \n",
       "min                                    0.000000   \n",
       "25%                                   11.894558   \n",
       "50%                                   14.975536   \n",
       "75%                                   20.059375   \n",
       "max                                   24.007913   \n",
       "\n",
       "       secondary_cleaner.state.floatbank4_b_level  \\\n",
       "count                                14148.000000   \n",
       "mean                                  -460.229416   \n",
       "std                                     58.843586   \n",
       "min                                   -799.889113   \n",
       "25%                                   -500.149000   \n",
       "50%                                   -499.388738   \n",
       "75%                                   -400.039008   \n",
       "max                                   -145.071088   \n",
       "\n",
       "       secondary_cleaner.state.floatbank5_a_air  \\\n",
       "count                              14148.000000   \n",
       "mean                                  16.775136   \n",
       "std                                    5.831906   \n",
       "min                                   -0.372054   \n",
       "25%                                   11.083980   \n",
       "50%                                   17.932223   \n",
       "75%                                   21.346550   \n",
       "max                                   43.709931   \n",
       "\n",
       "       secondary_cleaner.state.floatbank5_a_level  \\\n",
       "count                                14148.000000   \n",
       "mean                                  -483.956022   \n",
       "std                                     37.892788   \n",
       "min                                   -797.142475   \n",
       "25%                                   -500.363177   \n",
       "50%                                   -499.702452   \n",
       "75%                                   -487.712108   \n",
       "max                                   -275.073125   \n",
       "\n",
       "       secondary_cleaner.state.floatbank5_b_air  \\\n",
       "count                              14148.000000   \n",
       "mean                                  13.064590   \n",
       "std                                    5.765617   \n",
       "min                                    0.646208   \n",
       "25%                                    8.994405   \n",
       "50%                                   11.997547   \n",
       "75%                                   17.982903   \n",
       "max                                   27.926001   \n",
       "\n",
       "       secondary_cleaner.state.floatbank5_b_level  \\\n",
       "count                                14148.000000   \n",
       "mean                                  -483.966564   \n",
       "std                                     39.207913   \n",
       "min                                   -800.006180   \n",
       "25%                                   -500.105994   \n",
       "50%                                   -499.914556   \n",
       "75%                                   -453.186936   \n",
       "max                                   -157.396071   \n",
       "\n",
       "       secondary_cleaner.state.floatbank6_a_air  \\\n",
       "count                              14147.000000   \n",
       "mean                                  19.577539   \n",
       "std                                    5.764417   \n",
       "min                                    0.195324   \n",
       "25%                                   14.989304   \n",
       "50%                                   19.984175   \n",
       "75%                                   24.991623   \n",
       "max                                   32.188906   \n",
       "\n",
       "       secondary_cleaner.state.floatbank6_a_level  \n",
       "count                                14148.000000  \n",
       "mean                                  -506.798480  \n",
       "std                                     37.079249  \n",
       "min                                   -809.398668  \n",
       "25%                                   -500.745104  \n",
       "50%                                   -500.061431  \n",
       "75%                                   -499.536466  \n",
       "max                                   -104.427459  \n",
       "\n",
       "[8 rows x 86 columns]"
      ]
     },
     "metadata": {},
     "output_type": "display_data"
    },
    {
     "data": {
      "text/html": [
       "<div>\n",
       "<style scoped>\n",
       "    .dataframe tbody tr th:only-of-type {\n",
       "        vertical-align: middle;\n",
       "    }\n",
       "\n",
       "    .dataframe tbody tr th {\n",
       "        vertical-align: top;\n",
       "    }\n",
       "\n",
       "    .dataframe thead th {\n",
       "        text-align: right;\n",
       "    }\n",
       "</style>\n",
       "<table border=\"1\" class=\"dataframe\">\n",
       "  <thead>\n",
       "    <tr style=\"text-align: right;\">\n",
       "      <th></th>\n",
       "      <th>primary_cleaner.input.sulfate</th>\n",
       "      <th>primary_cleaner.input.depressant</th>\n",
       "      <th>primary_cleaner.input.feed_size</th>\n",
       "      <th>primary_cleaner.input.xanthate</th>\n",
       "      <th>primary_cleaner.state.floatbank8_a_air</th>\n",
       "      <th>primary_cleaner.state.floatbank8_a_level</th>\n",
       "      <th>primary_cleaner.state.floatbank8_b_air</th>\n",
       "      <th>primary_cleaner.state.floatbank8_b_level</th>\n",
       "      <th>primary_cleaner.state.floatbank8_c_air</th>\n",
       "      <th>primary_cleaner.state.floatbank8_c_level</th>\n",
       "      <th>...</th>\n",
       "      <th>secondary_cleaner.state.floatbank4_a_air</th>\n",
       "      <th>secondary_cleaner.state.floatbank4_a_level</th>\n",
       "      <th>secondary_cleaner.state.floatbank4_b_air</th>\n",
       "      <th>secondary_cleaner.state.floatbank4_b_level</th>\n",
       "      <th>secondary_cleaner.state.floatbank5_a_air</th>\n",
       "      <th>secondary_cleaner.state.floatbank5_a_level</th>\n",
       "      <th>secondary_cleaner.state.floatbank5_b_air</th>\n",
       "      <th>secondary_cleaner.state.floatbank5_b_level</th>\n",
       "      <th>secondary_cleaner.state.floatbank6_a_air</th>\n",
       "      <th>secondary_cleaner.state.floatbank6_a_level</th>\n",
       "    </tr>\n",
       "  </thead>\n",
       "  <tbody>\n",
       "    <tr>\n",
       "      <th>count</th>\n",
       "      <td>5286.000000</td>\n",
       "      <td>5285.000000</td>\n",
       "      <td>5290.000000</td>\n",
       "      <td>5286.000000</td>\n",
       "      <td>5.290000e+03</td>\n",
       "      <td>5290.000000</td>\n",
       "      <td>5.290000e+03</td>\n",
       "      <td>5290.000000</td>\n",
       "      <td>5.290000e+03</td>\n",
       "      <td>5290.000000</td>\n",
       "      <td>...</td>\n",
       "      <td>5.290000e+03</td>\n",
       "      <td>5290.000000</td>\n",
       "      <td>5.290000e+03</td>\n",
       "      <td>5290.000000</td>\n",
       "      <td>5290.000000</td>\n",
       "      <td>5290.000000</td>\n",
       "      <td>5290.000000</td>\n",
       "      <td>5290.000000</td>\n",
       "      <td>5290.000000</td>\n",
       "      <td>5290.000000</td>\n",
       "    </tr>\n",
       "    <tr>\n",
       "      <th>mean</th>\n",
       "      <td>174.839652</td>\n",
       "      <td>8.683596</td>\n",
       "      <td>7.266339</td>\n",
       "      <td>1.383803</td>\n",
       "      <td>1.539494e+03</td>\n",
       "      <td>-497.665883</td>\n",
       "      <td>1.545174e+03</td>\n",
       "      <td>-500.273098</td>\n",
       "      <td>1.527272e+03</td>\n",
       "      <td>-498.330680</td>\n",
       "      <td>...</td>\n",
       "      <td>1.632007e+01</td>\n",
       "      <td>-505.144570</td>\n",
       "      <td>1.373544e+01</td>\n",
       "      <td>-463.349858</td>\n",
       "      <td>12.804186</td>\n",
       "      <td>-501.329122</td>\n",
       "      <td>9.881145</td>\n",
       "      <td>-495.663398</td>\n",
       "      <td>17.304935</td>\n",
       "      <td>-501.793193</td>\n",
       "    </tr>\n",
       "    <tr>\n",
       "      <th>std</th>\n",
       "      <td>43.027080</td>\n",
       "      <td>3.072050</td>\n",
       "      <td>0.610219</td>\n",
       "      <td>0.643474</td>\n",
       "      <td>1.167979e+02</td>\n",
       "      <td>19.952431</td>\n",
       "      <td>1.222246e+02</td>\n",
       "      <td>32.968307</td>\n",
       "      <td>1.225380e+02</td>\n",
       "      <td>21.964876</td>\n",
       "      <td>...</td>\n",
       "      <td>3.493583e+00</td>\n",
       "      <td>31.427337</td>\n",
       "      <td>3.430484e+00</td>\n",
       "      <td>86.189107</td>\n",
       "      <td>3.026591</td>\n",
       "      <td>17.951495</td>\n",
       "      <td>2.868205</td>\n",
       "      <td>34.535007</td>\n",
       "      <td>4.536544</td>\n",
       "      <td>39.044215</td>\n",
       "    </tr>\n",
       "    <tr>\n",
       "      <th>min</th>\n",
       "      <td>2.566156</td>\n",
       "      <td>0.003839</td>\n",
       "      <td>5.650000</td>\n",
       "      <td>0.004984</td>\n",
       "      <td>5.445860e-32</td>\n",
       "      <td>-795.316337</td>\n",
       "      <td>6.647490e-32</td>\n",
       "      <td>-799.997015</td>\n",
       "      <td>4.033736e-32</td>\n",
       "      <td>-799.960571</td>\n",
       "      <td>...</td>\n",
       "      <td>1.079872e-16</td>\n",
       "      <td>-799.798523</td>\n",
       "      <td>2.489718e-17</td>\n",
       "      <td>-800.836914</td>\n",
       "      <td>0.069227</td>\n",
       "      <td>-797.323986</td>\n",
       "      <td>0.528083</td>\n",
       "      <td>-800.220337</td>\n",
       "      <td>-0.079426</td>\n",
       "      <td>-809.741464</td>\n",
       "    </tr>\n",
       "    <tr>\n",
       "      <th>25%</th>\n",
       "      <td>147.121401</td>\n",
       "      <td>6.489555</td>\n",
       "      <td>6.890000</td>\n",
       "      <td>0.907623</td>\n",
       "      <td>1.498936e+03</td>\n",
       "      <td>-500.357298</td>\n",
       "      <td>1.498971e+03</td>\n",
       "      <td>-500.703002</td>\n",
       "      <td>1.473230e+03</td>\n",
       "      <td>-501.018117</td>\n",
       "      <td>...</td>\n",
       "      <td>1.403618e+01</td>\n",
       "      <td>-500.868258</td>\n",
       "      <td>1.202862e+01</td>\n",
       "      <td>-500.323028</td>\n",
       "      <td>10.914838</td>\n",
       "      <td>-500.726841</td>\n",
       "      <td>8.036719</td>\n",
       "      <td>-500.194668</td>\n",
       "      <td>13.997317</td>\n",
       "      <td>-500.690984</td>\n",
       "    </tr>\n",
       "    <tr>\n",
       "      <th>50%</th>\n",
       "      <td>177.828489</td>\n",
       "      <td>8.052207</td>\n",
       "      <td>7.250000</td>\n",
       "      <td>1.197610</td>\n",
       "      <td>1.585129e+03</td>\n",
       "      <td>-499.969164</td>\n",
       "      <td>1.595622e+03</td>\n",
       "      <td>-500.028514</td>\n",
       "      <td>1.549595e+03</td>\n",
       "      <td>-500.017711</td>\n",
       "      <td>...</td>\n",
       "      <td>1.700847e+01</td>\n",
       "      <td>-500.115727</td>\n",
       "      <td>1.496486e+01</td>\n",
       "      <td>-499.576513</td>\n",
       "      <td>12.954182</td>\n",
       "      <td>-499.990332</td>\n",
       "      <td>10.004301</td>\n",
       "      <td>-499.990535</td>\n",
       "      <td>16.014935</td>\n",
       "      <td>-500.007126</td>\n",
       "    </tr>\n",
       "    <tr>\n",
       "      <th>75%</th>\n",
       "      <td>208.125438</td>\n",
       "      <td>10.027764</td>\n",
       "      <td>7.600000</td>\n",
       "      <td>1.797819</td>\n",
       "      <td>1.602077e+03</td>\n",
       "      <td>-499.568951</td>\n",
       "      <td>1.602324e+03</td>\n",
       "      <td>-499.293257</td>\n",
       "      <td>1.601144e+03</td>\n",
       "      <td>-498.994130</td>\n",
       "      <td>...</td>\n",
       "      <td>1.803862e+01</td>\n",
       "      <td>-499.404224</td>\n",
       "      <td>1.596213e+01</td>\n",
       "      <td>-400.933805</td>\n",
       "      <td>15.097528</td>\n",
       "      <td>-499.283191</td>\n",
       "      <td>11.997467</td>\n",
       "      <td>-499.719913</td>\n",
       "      <td>21.020013</td>\n",
       "      <td>-499.373018</td>\n",
       "    </tr>\n",
       "    <tr>\n",
       "      <th>max</th>\n",
       "      <td>265.983123</td>\n",
       "      <td>40.000000</td>\n",
       "      <td>15.500000</td>\n",
       "      <td>4.102454</td>\n",
       "      <td>2.103104e+03</td>\n",
       "      <td>-57.195404</td>\n",
       "      <td>1.813084e+03</td>\n",
       "      <td>-142.527229</td>\n",
       "      <td>1.715054e+03</td>\n",
       "      <td>-150.937035</td>\n",
       "      <td>...</td>\n",
       "      <td>3.005180e+01</td>\n",
       "      <td>-401.565212</td>\n",
       "      <td>3.126971e+01</td>\n",
       "      <td>-6.506986</td>\n",
       "      <td>25.258848</td>\n",
       "      <td>-244.483566</td>\n",
       "      <td>14.086866</td>\n",
       "      <td>-137.740004</td>\n",
       "      <td>26.705889</td>\n",
       "      <td>-123.307487</td>\n",
       "    </tr>\n",
       "  </tbody>\n",
       "</table>\n",
       "<p>8 rows × 52 columns</p>\n",
       "</div>"
      ],
      "text/plain": [
       "       primary_cleaner.input.sulfate  primary_cleaner.input.depressant  \\\n",
       "count                    5286.000000                       5285.000000   \n",
       "mean                      174.839652                          8.683596   \n",
       "std                        43.027080                          3.072050   \n",
       "min                         2.566156                          0.003839   \n",
       "25%                       147.121401                          6.489555   \n",
       "50%                       177.828489                          8.052207   \n",
       "75%                       208.125438                         10.027764   \n",
       "max                       265.983123                         40.000000   \n",
       "\n",
       "       primary_cleaner.input.feed_size  primary_cleaner.input.xanthate  \\\n",
       "count                      5290.000000                     5286.000000   \n",
       "mean                          7.266339                        1.383803   \n",
       "std                           0.610219                        0.643474   \n",
       "min                           5.650000                        0.004984   \n",
       "25%                           6.890000                        0.907623   \n",
       "50%                           7.250000                        1.197610   \n",
       "75%                           7.600000                        1.797819   \n",
       "max                          15.500000                        4.102454   \n",
       "\n",
       "       primary_cleaner.state.floatbank8_a_air  \\\n",
       "count                            5.290000e+03   \n",
       "mean                             1.539494e+03   \n",
       "std                              1.167979e+02   \n",
       "min                              5.445860e-32   \n",
       "25%                              1.498936e+03   \n",
       "50%                              1.585129e+03   \n",
       "75%                              1.602077e+03   \n",
       "max                              2.103104e+03   \n",
       "\n",
       "       primary_cleaner.state.floatbank8_a_level  \\\n",
       "count                               5290.000000   \n",
       "mean                                -497.665883   \n",
       "std                                   19.952431   \n",
       "min                                 -795.316337   \n",
       "25%                                 -500.357298   \n",
       "50%                                 -499.969164   \n",
       "75%                                 -499.568951   \n",
       "max                                  -57.195404   \n",
       "\n",
       "       primary_cleaner.state.floatbank8_b_air  \\\n",
       "count                            5.290000e+03   \n",
       "mean                             1.545174e+03   \n",
       "std                              1.222246e+02   \n",
       "min                              6.647490e-32   \n",
       "25%                              1.498971e+03   \n",
       "50%                              1.595622e+03   \n",
       "75%                              1.602324e+03   \n",
       "max                              1.813084e+03   \n",
       "\n",
       "       primary_cleaner.state.floatbank8_b_level  \\\n",
       "count                               5290.000000   \n",
       "mean                                -500.273098   \n",
       "std                                   32.968307   \n",
       "min                                 -799.997015   \n",
       "25%                                 -500.703002   \n",
       "50%                                 -500.028514   \n",
       "75%                                 -499.293257   \n",
       "max                                 -142.527229   \n",
       "\n",
       "       primary_cleaner.state.floatbank8_c_air  \\\n",
       "count                            5.290000e+03   \n",
       "mean                             1.527272e+03   \n",
       "std                              1.225380e+02   \n",
       "min                              4.033736e-32   \n",
       "25%                              1.473230e+03   \n",
       "50%                              1.549595e+03   \n",
       "75%                              1.601144e+03   \n",
       "max                              1.715054e+03   \n",
       "\n",
       "       primary_cleaner.state.floatbank8_c_level  ...  \\\n",
       "count                               5290.000000  ...   \n",
       "mean                                -498.330680  ...   \n",
       "std                                   21.964876  ...   \n",
       "min                                 -799.960571  ...   \n",
       "25%                                 -501.018117  ...   \n",
       "50%                                 -500.017711  ...   \n",
       "75%                                 -498.994130  ...   \n",
       "max                                 -150.937035  ...   \n",
       "\n",
       "       secondary_cleaner.state.floatbank4_a_air  \\\n",
       "count                              5.290000e+03   \n",
       "mean                               1.632007e+01   \n",
       "std                                3.493583e+00   \n",
       "min                                1.079872e-16   \n",
       "25%                                1.403618e+01   \n",
       "50%                                1.700847e+01   \n",
       "75%                                1.803862e+01   \n",
       "max                                3.005180e+01   \n",
       "\n",
       "       secondary_cleaner.state.floatbank4_a_level  \\\n",
       "count                                 5290.000000   \n",
       "mean                                  -505.144570   \n",
       "std                                     31.427337   \n",
       "min                                   -799.798523   \n",
       "25%                                   -500.868258   \n",
       "50%                                   -500.115727   \n",
       "75%                                   -499.404224   \n",
       "max                                   -401.565212   \n",
       "\n",
       "       secondary_cleaner.state.floatbank4_b_air  \\\n",
       "count                              5.290000e+03   \n",
       "mean                               1.373544e+01   \n",
       "std                                3.430484e+00   \n",
       "min                                2.489718e-17   \n",
       "25%                                1.202862e+01   \n",
       "50%                                1.496486e+01   \n",
       "75%                                1.596213e+01   \n",
       "max                                3.126971e+01   \n",
       "\n",
       "       secondary_cleaner.state.floatbank4_b_level  \\\n",
       "count                                 5290.000000   \n",
       "mean                                  -463.349858   \n",
       "std                                     86.189107   \n",
       "min                                   -800.836914   \n",
       "25%                                   -500.323028   \n",
       "50%                                   -499.576513   \n",
       "75%                                   -400.933805   \n",
       "max                                     -6.506986   \n",
       "\n",
       "       secondary_cleaner.state.floatbank5_a_air  \\\n",
       "count                               5290.000000   \n",
       "mean                                  12.804186   \n",
       "std                                    3.026591   \n",
       "min                                    0.069227   \n",
       "25%                                   10.914838   \n",
       "50%                                   12.954182   \n",
       "75%                                   15.097528   \n",
       "max                                   25.258848   \n",
       "\n",
       "       secondary_cleaner.state.floatbank5_a_level  \\\n",
       "count                                 5290.000000   \n",
       "mean                                  -501.329122   \n",
       "std                                     17.951495   \n",
       "min                                   -797.323986   \n",
       "25%                                   -500.726841   \n",
       "50%                                   -499.990332   \n",
       "75%                                   -499.283191   \n",
       "max                                   -244.483566   \n",
       "\n",
       "       secondary_cleaner.state.floatbank5_b_air  \\\n",
       "count                               5290.000000   \n",
       "mean                                   9.881145   \n",
       "std                                    2.868205   \n",
       "min                                    0.528083   \n",
       "25%                                    8.036719   \n",
       "50%                                   10.004301   \n",
       "75%                                   11.997467   \n",
       "max                                   14.086866   \n",
       "\n",
       "       secondary_cleaner.state.floatbank5_b_level  \\\n",
       "count                                 5290.000000   \n",
       "mean                                  -495.663398   \n",
       "std                                     34.535007   \n",
       "min                                   -800.220337   \n",
       "25%                                   -500.194668   \n",
       "50%                                   -499.990535   \n",
       "75%                                   -499.719913   \n",
       "max                                   -137.740004   \n",
       "\n",
       "       secondary_cleaner.state.floatbank6_a_air  \\\n",
       "count                               5290.000000   \n",
       "mean                                  17.304935   \n",
       "std                                    4.536544   \n",
       "min                                   -0.079426   \n",
       "25%                                   13.997317   \n",
       "50%                                   16.014935   \n",
       "75%                                   21.020013   \n",
       "max                                   26.705889   \n",
       "\n",
       "       secondary_cleaner.state.floatbank6_a_level  \n",
       "count                                 5290.000000  \n",
       "mean                                  -501.793193  \n",
       "std                                     39.044215  \n",
       "min                                   -809.741464  \n",
       "25%                                   -500.690984  \n",
       "50%                                   -500.007126  \n",
       "75%                                   -499.373018  \n",
       "max                                   -123.307487  \n",
       "\n",
       "[8 rows x 52 columns]"
      ]
     },
     "metadata": {},
     "output_type": "display_data"
    },
    {
     "data": {
      "text/html": [
       "<div>\n",
       "<style scoped>\n",
       "    .dataframe tbody tr th:only-of-type {\n",
       "        vertical-align: middle;\n",
       "    }\n",
       "\n",
       "    .dataframe tbody tr th {\n",
       "        vertical-align: top;\n",
       "    }\n",
       "\n",
       "    .dataframe thead th {\n",
       "        text-align: right;\n",
       "    }\n",
       "</style>\n",
       "<table border=\"1\" class=\"dataframe\">\n",
       "  <thead>\n",
       "    <tr style=\"text-align: right;\">\n",
       "      <th></th>\n",
       "      <th>final.output.concentrate_ag</th>\n",
       "      <th>final.output.concentrate_pb</th>\n",
       "      <th>final.output.concentrate_sol</th>\n",
       "      <th>final.output.concentrate_au</th>\n",
       "      <th>final.output.recovery</th>\n",
       "      <th>final.output.tail_ag</th>\n",
       "      <th>final.output.tail_pb</th>\n",
       "      <th>final.output.tail_sol</th>\n",
       "      <th>final.output.tail_au</th>\n",
       "      <th>primary_cleaner.input.sulfate</th>\n",
       "      <th>...</th>\n",
       "      <th>secondary_cleaner.state.floatbank4_a_air</th>\n",
       "      <th>secondary_cleaner.state.floatbank4_a_level</th>\n",
       "      <th>secondary_cleaner.state.floatbank4_b_air</th>\n",
       "      <th>secondary_cleaner.state.floatbank4_b_level</th>\n",
       "      <th>secondary_cleaner.state.floatbank5_a_air</th>\n",
       "      <th>secondary_cleaner.state.floatbank5_a_level</th>\n",
       "      <th>secondary_cleaner.state.floatbank5_b_air</th>\n",
       "      <th>secondary_cleaner.state.floatbank5_b_level</th>\n",
       "      <th>secondary_cleaner.state.floatbank6_a_air</th>\n",
       "      <th>secondary_cleaner.state.floatbank6_a_level</th>\n",
       "    </tr>\n",
       "  </thead>\n",
       "  <tbody>\n",
       "    <tr>\n",
       "      <th>count</th>\n",
       "      <td>19438.000000</td>\n",
       "      <td>19438.000000</td>\n",
       "      <td>19228.000000</td>\n",
       "      <td>19439.000000</td>\n",
       "      <td>19439.000000</td>\n",
       "      <td>19438.000000</td>\n",
       "      <td>19338.000000</td>\n",
       "      <td>19433.000000</td>\n",
       "      <td>19439.000000</td>\n",
       "      <td>19415.000000</td>\n",
       "      <td>...</td>\n",
       "      <td>19433.000000</td>\n",
       "      <td>19438.000000</td>\n",
       "      <td>19438.000000</td>\n",
       "      <td>19438.000000</td>\n",
       "      <td>19438.000000</td>\n",
       "      <td>19438.000000</td>\n",
       "      <td>19438.000000</td>\n",
       "      <td>19438.000000</td>\n",
       "      <td>19437.000000</td>\n",
       "      <td>19438.000000</td>\n",
       "    </tr>\n",
       "    <tr>\n",
       "      <th>mean</th>\n",
       "      <td>5.168470</td>\n",
       "      <td>9.978895</td>\n",
       "      <td>9.501224</td>\n",
       "      <td>44.076513</td>\n",
       "      <td>67.050208</td>\n",
       "      <td>9.688589</td>\n",
       "      <td>2.705795</td>\n",
       "      <td>10.583728</td>\n",
       "      <td>3.042467</td>\n",
       "      <td>144.624774</td>\n",
       "      <td>...</td>\n",
       "      <td>18.987674</td>\n",
       "      <td>-485.894516</td>\n",
       "      <td>15.010366</td>\n",
       "      <td>-461.078636</td>\n",
       "      <td>15.694452</td>\n",
       "      <td>-488.684065</td>\n",
       "      <td>12.198224</td>\n",
       "      <td>-487.149827</td>\n",
       "      <td>18.959024</td>\n",
       "      <td>-505.436305</td>\n",
       "    </tr>\n",
       "    <tr>\n",
       "      <th>std</th>\n",
       "      <td>1.372348</td>\n",
       "      <td>1.669240</td>\n",
       "      <td>2.787537</td>\n",
       "      <td>5.129784</td>\n",
       "      <td>10.125840</td>\n",
       "      <td>2.328642</td>\n",
       "      <td>0.949077</td>\n",
       "      <td>2.868782</td>\n",
       "      <td>0.922808</td>\n",
       "      <td>44.464071</td>\n",
       "      <td>...</td>\n",
       "      <td>5.411058</td>\n",
       "      <td>47.758570</td>\n",
       "      <td>4.890228</td>\n",
       "      <td>67.405524</td>\n",
       "      <td>5.510974</td>\n",
       "      <td>34.533396</td>\n",
       "      <td>5.333024</td>\n",
       "      <td>38.347312</td>\n",
       "      <td>5.550498</td>\n",
       "      <td>37.689057</td>\n",
       "    </tr>\n",
       "    <tr>\n",
       "      <th>min</th>\n",
       "      <td>0.000000</td>\n",
       "      <td>0.000000</td>\n",
       "      <td>0.000000</td>\n",
       "      <td>0.000000</td>\n",
       "      <td>0.000000</td>\n",
       "      <td>0.000000</td>\n",
       "      <td>0.000000</td>\n",
       "      <td>0.000000</td>\n",
       "      <td>0.000000</td>\n",
       "      <td>0.003112</td>\n",
       "      <td>...</td>\n",
       "      <td>0.000000</td>\n",
       "      <td>-799.798523</td>\n",
       "      <td>0.000000</td>\n",
       "      <td>-800.836914</td>\n",
       "      <td>-0.372054</td>\n",
       "      <td>-797.323986</td>\n",
       "      <td>0.528083</td>\n",
       "      <td>-800.220337</td>\n",
       "      <td>-0.079426</td>\n",
       "      <td>-809.741464</td>\n",
       "    </tr>\n",
       "    <tr>\n",
       "      <th>25%</th>\n",
       "      <td>4.251240</td>\n",
       "      <td>9.137262</td>\n",
       "      <td>7.722820</td>\n",
       "      <td>43.402215</td>\n",
       "      <td>63.299712</td>\n",
       "      <td>8.062878</td>\n",
       "      <td>2.040119</td>\n",
       "      <td>8.938947</td>\n",
       "      <td>2.461138</td>\n",
       "      <td>114.107029</td>\n",
       "      <td>...</td>\n",
       "      <td>14.975734</td>\n",
       "      <td>-500.704892</td>\n",
       "      <td>11.940294</td>\n",
       "      <td>-500.187742</td>\n",
       "      <td>10.988606</td>\n",
       "      <td>-500.458467</td>\n",
       "      <td>8.971105</td>\n",
       "      <td>-500.129462</td>\n",
       "      <td>14.983037</td>\n",
       "      <td>-500.728067</td>\n",
       "    </tr>\n",
       "    <tr>\n",
       "      <th>50%</th>\n",
       "      <td>5.066094</td>\n",
       "      <td>10.102433</td>\n",
       "      <td>9.218961</td>\n",
       "      <td>45.011244</td>\n",
       "      <td>68.172738</td>\n",
       "      <td>9.743623</td>\n",
       "      <td>2.748730</td>\n",
       "      <td>10.622456</td>\n",
       "      <td>2.984909</td>\n",
       "      <td>143.232103</td>\n",
       "      <td>...</td>\n",
       "      <td>18.017481</td>\n",
       "      <td>-499.837793</td>\n",
       "      <td>14.971014</td>\n",
       "      <td>-499.459786</td>\n",
       "      <td>15.000036</td>\n",
       "      <td>-499.802605</td>\n",
       "      <td>11.019433</td>\n",
       "      <td>-499.935317</td>\n",
       "      <td>19.960541</td>\n",
       "      <td>-500.048400</td>\n",
       "    </tr>\n",
       "    <tr>\n",
       "      <th>75%</th>\n",
       "      <td>5.895527</td>\n",
       "      <td>11.035769</td>\n",
       "      <td>10.947813</td>\n",
       "      <td>46.275313</td>\n",
       "      <td>72.686642</td>\n",
       "      <td>11.134294</td>\n",
       "      <td>3.333216</td>\n",
       "      <td>12.104271</td>\n",
       "      <td>3.571351</td>\n",
       "      <td>175.075656</td>\n",
       "      <td>...</td>\n",
       "      <td>23.012470</td>\n",
       "      <td>-498.249730</td>\n",
       "      <td>19.034162</td>\n",
       "      <td>-400.118106</td>\n",
       "      <td>18.026190</td>\n",
       "      <td>-498.384187</td>\n",
       "      <td>14.019088</td>\n",
       "      <td>-499.436708</td>\n",
       "      <td>24.003170</td>\n",
       "      <td>-499.495378</td>\n",
       "    </tr>\n",
       "    <tr>\n",
       "      <th>max</th>\n",
       "      <td>16.001945</td>\n",
       "      <td>17.031899</td>\n",
       "      <td>19.615720</td>\n",
       "      <td>52.756638</td>\n",
       "      <td>100.000000</td>\n",
       "      <td>19.552149</td>\n",
       "      <td>5.804178</td>\n",
       "      <td>22.317730</td>\n",
       "      <td>8.245022</td>\n",
       "      <td>265.983123</td>\n",
       "      <td>...</td>\n",
       "      <td>30.115735</td>\n",
       "      <td>-245.239184</td>\n",
       "      <td>31.269706</td>\n",
       "      <td>-6.506986</td>\n",
       "      <td>43.709931</td>\n",
       "      <td>-244.483566</td>\n",
       "      <td>27.926001</td>\n",
       "      <td>-137.740004</td>\n",
       "      <td>32.188906</td>\n",
       "      <td>-104.427459</td>\n",
       "    </tr>\n",
       "  </tbody>\n",
       "</table>\n",
       "<p>8 rows × 86 columns</p>\n",
       "</div>"
      ],
      "text/plain": [
       "       final.output.concentrate_ag  final.output.concentrate_pb  \\\n",
       "count                 19438.000000                 19438.000000   \n",
       "mean                      5.168470                     9.978895   \n",
       "std                       1.372348                     1.669240   \n",
       "min                       0.000000                     0.000000   \n",
       "25%                       4.251240                     9.137262   \n",
       "50%                       5.066094                    10.102433   \n",
       "75%                       5.895527                    11.035769   \n",
       "max                      16.001945                    17.031899   \n",
       "\n",
       "       final.output.concentrate_sol  final.output.concentrate_au  \\\n",
       "count                  19228.000000                 19439.000000   \n",
       "mean                       9.501224                    44.076513   \n",
       "std                        2.787537                     5.129784   \n",
       "min                        0.000000                     0.000000   \n",
       "25%                        7.722820                    43.402215   \n",
       "50%                        9.218961                    45.011244   \n",
       "75%                       10.947813                    46.275313   \n",
       "max                       19.615720                    52.756638   \n",
       "\n",
       "       final.output.recovery  final.output.tail_ag  final.output.tail_pb  \\\n",
       "count           19439.000000          19438.000000          19338.000000   \n",
       "mean               67.050208              9.688589              2.705795   \n",
       "std                10.125840              2.328642              0.949077   \n",
       "min                 0.000000              0.000000              0.000000   \n",
       "25%                63.299712              8.062878              2.040119   \n",
       "50%                68.172738              9.743623              2.748730   \n",
       "75%                72.686642             11.134294              3.333216   \n",
       "max               100.000000             19.552149              5.804178   \n",
       "\n",
       "       final.output.tail_sol  final.output.tail_au  \\\n",
       "count           19433.000000          19439.000000   \n",
       "mean               10.583728              3.042467   \n",
       "std                 2.868782              0.922808   \n",
       "min                 0.000000              0.000000   \n",
       "25%                 8.938947              2.461138   \n",
       "50%                10.622456              2.984909   \n",
       "75%                12.104271              3.571351   \n",
       "max                22.317730              8.245022   \n",
       "\n",
       "       primary_cleaner.input.sulfate  ...  \\\n",
       "count                   19415.000000  ...   \n",
       "mean                      144.624774  ...   \n",
       "std                        44.464071  ...   \n",
       "min                         0.003112  ...   \n",
       "25%                       114.107029  ...   \n",
       "50%                       143.232103  ...   \n",
       "75%                       175.075656  ...   \n",
       "max                       265.983123  ...   \n",
       "\n",
       "       secondary_cleaner.state.floatbank4_a_air  \\\n",
       "count                              19433.000000   \n",
       "mean                                  18.987674   \n",
       "std                                    5.411058   \n",
       "min                                    0.000000   \n",
       "25%                                   14.975734   \n",
       "50%                                   18.017481   \n",
       "75%                                   23.012470   \n",
       "max                                   30.115735   \n",
       "\n",
       "       secondary_cleaner.state.floatbank4_a_level  \\\n",
       "count                                19438.000000   \n",
       "mean                                  -485.894516   \n",
       "std                                     47.758570   \n",
       "min                                   -799.798523   \n",
       "25%                                   -500.704892   \n",
       "50%                                   -499.837793   \n",
       "75%                                   -498.249730   \n",
       "max                                   -245.239184   \n",
       "\n",
       "       secondary_cleaner.state.floatbank4_b_air  \\\n",
       "count                              19438.000000   \n",
       "mean                                  15.010366   \n",
       "std                                    4.890228   \n",
       "min                                    0.000000   \n",
       "25%                                   11.940294   \n",
       "50%                                   14.971014   \n",
       "75%                                   19.034162   \n",
       "max                                   31.269706   \n",
       "\n",
       "       secondary_cleaner.state.floatbank4_b_level  \\\n",
       "count                                19438.000000   \n",
       "mean                                  -461.078636   \n",
       "std                                     67.405524   \n",
       "min                                   -800.836914   \n",
       "25%                                   -500.187742   \n",
       "50%                                   -499.459786   \n",
       "75%                                   -400.118106   \n",
       "max                                     -6.506986   \n",
       "\n",
       "       secondary_cleaner.state.floatbank5_a_air  \\\n",
       "count                              19438.000000   \n",
       "mean                                  15.694452   \n",
       "std                                    5.510974   \n",
       "min                                   -0.372054   \n",
       "25%                                   10.988606   \n",
       "50%                                   15.000036   \n",
       "75%                                   18.026190   \n",
       "max                                   43.709931   \n",
       "\n",
       "       secondary_cleaner.state.floatbank5_a_level  \\\n",
       "count                                19438.000000   \n",
       "mean                                  -488.684065   \n",
       "std                                     34.533396   \n",
       "min                                   -797.323986   \n",
       "25%                                   -500.458467   \n",
       "50%                                   -499.802605   \n",
       "75%                                   -498.384187   \n",
       "max                                   -244.483566   \n",
       "\n",
       "       secondary_cleaner.state.floatbank5_b_air  \\\n",
       "count                              19438.000000   \n",
       "mean                                  12.198224   \n",
       "std                                    5.333024   \n",
       "min                                    0.528083   \n",
       "25%                                    8.971105   \n",
       "50%                                   11.019433   \n",
       "75%                                   14.019088   \n",
       "max                                   27.926001   \n",
       "\n",
       "       secondary_cleaner.state.floatbank5_b_level  \\\n",
       "count                                19438.000000   \n",
       "mean                                  -487.149827   \n",
       "std                                     38.347312   \n",
       "min                                   -800.220337   \n",
       "25%                                   -500.129462   \n",
       "50%                                   -499.935317   \n",
       "75%                                   -499.436708   \n",
       "max                                   -137.740004   \n",
       "\n",
       "       secondary_cleaner.state.floatbank6_a_air  \\\n",
       "count                              19437.000000   \n",
       "mean                                  18.959024   \n",
       "std                                    5.550498   \n",
       "min                                   -0.079426   \n",
       "25%                                   14.983037   \n",
       "50%                                   19.960541   \n",
       "75%                                   24.003170   \n",
       "max                                   32.188906   \n",
       "\n",
       "       secondary_cleaner.state.floatbank6_a_level  \n",
       "count                                19438.000000  \n",
       "mean                                  -505.436305  \n",
       "std                                     37.689057  \n",
       "min                                   -809.741464  \n",
       "25%                                   -500.728067  \n",
       "50%                                   -500.048400  \n",
       "75%                                   -499.495378  \n",
       "max                                   -104.427459  \n",
       "\n",
       "[8 rows x 86 columns]"
      ]
     },
     "metadata": {},
     "output_type": "display_data"
    }
   ],
   "source": [
    "for dataset in datasets:\n",
    "  display(dataset.describe())"
   ]
  },
  {
   "cell_type": "code",
   "execution_count": 6,
   "metadata": {
    "colab": {
     "base_uri": "https://localhost:8080/",
     "height": 1000
    },
    "id": "hGY500wjOPKu",
    "outputId": "e2805bb8-db67-4683-9508-bf233313aa91"
   },
   "outputs": [
    {
     "data": {
      "text/html": [
       "<div>\n",
       "<style scoped>\n",
       "    .dataframe tbody tr th:only-of-type {\n",
       "        vertical-align: middle;\n",
       "    }\n",
       "\n",
       "    .dataframe tbody tr th {\n",
       "        vertical-align: top;\n",
       "    }\n",
       "\n",
       "    .dataframe thead th {\n",
       "        text-align: right;\n",
       "    }\n",
       "</style>\n",
       "<table border=\"1\" class=\"dataframe\">\n",
       "  <thead>\n",
       "    <tr style=\"text-align: right;\">\n",
       "      <th></th>\n",
       "      <th>date</th>\n",
       "      <th>final.output.concentrate_ag</th>\n",
       "      <th>final.output.concentrate_pb</th>\n",
       "      <th>final.output.concentrate_sol</th>\n",
       "      <th>final.output.concentrate_au</th>\n",
       "      <th>final.output.recovery</th>\n",
       "      <th>final.output.tail_ag</th>\n",
       "      <th>final.output.tail_pb</th>\n",
       "      <th>final.output.tail_sol</th>\n",
       "      <th>final.output.tail_au</th>\n",
       "      <th>...</th>\n",
       "      <th>secondary_cleaner.state.floatbank4_a_air</th>\n",
       "      <th>secondary_cleaner.state.floatbank4_a_level</th>\n",
       "      <th>secondary_cleaner.state.floatbank4_b_air</th>\n",
       "      <th>secondary_cleaner.state.floatbank4_b_level</th>\n",
       "      <th>secondary_cleaner.state.floatbank5_a_air</th>\n",
       "      <th>secondary_cleaner.state.floatbank5_a_level</th>\n",
       "      <th>secondary_cleaner.state.floatbank5_b_air</th>\n",
       "      <th>secondary_cleaner.state.floatbank5_b_level</th>\n",
       "      <th>secondary_cleaner.state.floatbank6_a_air</th>\n",
       "      <th>secondary_cleaner.state.floatbank6_a_level</th>\n",
       "    </tr>\n",
       "  </thead>\n",
       "  <tbody>\n",
       "    <tr>\n",
       "      <th>0</th>\n",
       "      <td>2016-01-15 00:00:00</td>\n",
       "      <td>6.055403</td>\n",
       "      <td>9.889648</td>\n",
       "      <td>5.507324</td>\n",
       "      <td>42.192020</td>\n",
       "      <td>70.541216</td>\n",
       "      <td>10.411962</td>\n",
       "      <td>0.895447</td>\n",
       "      <td>16.904297</td>\n",
       "      <td>2.143149</td>\n",
       "      <td>...</td>\n",
       "      <td>14.016835</td>\n",
       "      <td>-502.488007</td>\n",
       "      <td>12.099931</td>\n",
       "      <td>-504.715942</td>\n",
       "      <td>9.925633</td>\n",
       "      <td>-498.310211</td>\n",
       "      <td>8.079666</td>\n",
       "      <td>-500.470978</td>\n",
       "      <td>14.151341</td>\n",
       "      <td>-605.841980</td>\n",
       "    </tr>\n",
       "    <tr>\n",
       "      <th>1</th>\n",
       "      <td>2016-01-15 01:00:00</td>\n",
       "      <td>6.029369</td>\n",
       "      <td>9.968944</td>\n",
       "      <td>5.257781</td>\n",
       "      <td>42.701629</td>\n",
       "      <td>69.266198</td>\n",
       "      <td>10.462676</td>\n",
       "      <td>0.927452</td>\n",
       "      <td>16.634514</td>\n",
       "      <td>2.224930</td>\n",
       "      <td>...</td>\n",
       "      <td>13.992281</td>\n",
       "      <td>-505.503262</td>\n",
       "      <td>11.950531</td>\n",
       "      <td>-501.331529</td>\n",
       "      <td>10.039245</td>\n",
       "      <td>-500.169983</td>\n",
       "      <td>7.984757</td>\n",
       "      <td>-500.582168</td>\n",
       "      <td>13.998353</td>\n",
       "      <td>-599.787184</td>\n",
       "    </tr>\n",
       "    <tr>\n",
       "      <th>2</th>\n",
       "      <td>2016-01-15 02:00:00</td>\n",
       "      <td>6.055926</td>\n",
       "      <td>10.213995</td>\n",
       "      <td>5.383759</td>\n",
       "      <td>42.657501</td>\n",
       "      <td>68.116445</td>\n",
       "      <td>10.507046</td>\n",
       "      <td>0.953716</td>\n",
       "      <td>16.208849</td>\n",
       "      <td>2.257889</td>\n",
       "      <td>...</td>\n",
       "      <td>14.015015</td>\n",
       "      <td>-502.520901</td>\n",
       "      <td>11.912783</td>\n",
       "      <td>-501.133383</td>\n",
       "      <td>10.070913</td>\n",
       "      <td>-500.129135</td>\n",
       "      <td>8.013877</td>\n",
       "      <td>-500.517572</td>\n",
       "      <td>14.028663</td>\n",
       "      <td>-601.427363</td>\n",
       "    </tr>\n",
       "    <tr>\n",
       "      <th>3</th>\n",
       "      <td>2016-01-15 03:00:00</td>\n",
       "      <td>6.047977</td>\n",
       "      <td>9.977019</td>\n",
       "      <td>4.858634</td>\n",
       "      <td>42.689819</td>\n",
       "      <td>68.347543</td>\n",
       "      <td>10.422762</td>\n",
       "      <td>0.883763</td>\n",
       "      <td>16.532835</td>\n",
       "      <td>2.146849</td>\n",
       "      <td>...</td>\n",
       "      <td>14.036510</td>\n",
       "      <td>-500.857308</td>\n",
       "      <td>11.999550</td>\n",
       "      <td>-501.193686</td>\n",
       "      <td>9.970366</td>\n",
       "      <td>-499.201640</td>\n",
       "      <td>7.977324</td>\n",
       "      <td>-500.255908</td>\n",
       "      <td>14.005551</td>\n",
       "      <td>-599.996129</td>\n",
       "    </tr>\n",
       "    <tr>\n",
       "      <th>4</th>\n",
       "      <td>2016-01-15 04:00:00</td>\n",
       "      <td>6.148599</td>\n",
       "      <td>10.142511</td>\n",
       "      <td>4.939416</td>\n",
       "      <td>42.774141</td>\n",
       "      <td>66.927016</td>\n",
       "      <td>10.360302</td>\n",
       "      <td>0.792826</td>\n",
       "      <td>16.525686</td>\n",
       "      <td>2.055292</td>\n",
       "      <td>...</td>\n",
       "      <td>14.027298</td>\n",
       "      <td>-499.838632</td>\n",
       "      <td>11.953070</td>\n",
       "      <td>-501.053894</td>\n",
       "      <td>9.925709</td>\n",
       "      <td>-501.686727</td>\n",
       "      <td>7.894242</td>\n",
       "      <td>-500.356035</td>\n",
       "      <td>13.996647</td>\n",
       "      <td>-601.496691</td>\n",
       "    </tr>\n",
       "  </tbody>\n",
       "</table>\n",
       "<p>5 rows × 87 columns</p>\n",
       "</div>"
      ],
      "text/plain": [
       "                  date  final.output.concentrate_ag  \\\n",
       "0  2016-01-15 00:00:00                     6.055403   \n",
       "1  2016-01-15 01:00:00                     6.029369   \n",
       "2  2016-01-15 02:00:00                     6.055926   \n",
       "3  2016-01-15 03:00:00                     6.047977   \n",
       "4  2016-01-15 04:00:00                     6.148599   \n",
       "\n",
       "   final.output.concentrate_pb  final.output.concentrate_sol  \\\n",
       "0                     9.889648                      5.507324   \n",
       "1                     9.968944                      5.257781   \n",
       "2                    10.213995                      5.383759   \n",
       "3                     9.977019                      4.858634   \n",
       "4                    10.142511                      4.939416   \n",
       "\n",
       "   final.output.concentrate_au  final.output.recovery  final.output.tail_ag  \\\n",
       "0                    42.192020              70.541216             10.411962   \n",
       "1                    42.701629              69.266198             10.462676   \n",
       "2                    42.657501              68.116445             10.507046   \n",
       "3                    42.689819              68.347543             10.422762   \n",
       "4                    42.774141              66.927016             10.360302   \n",
       "\n",
       "   final.output.tail_pb  final.output.tail_sol  final.output.tail_au  ...  \\\n",
       "0              0.895447              16.904297              2.143149  ...   \n",
       "1              0.927452              16.634514              2.224930  ...   \n",
       "2              0.953716              16.208849              2.257889  ...   \n",
       "3              0.883763              16.532835              2.146849  ...   \n",
       "4              0.792826              16.525686              2.055292  ...   \n",
       "\n",
       "   secondary_cleaner.state.floatbank4_a_air  \\\n",
       "0                                 14.016835   \n",
       "1                                 13.992281   \n",
       "2                                 14.015015   \n",
       "3                                 14.036510   \n",
       "4                                 14.027298   \n",
       "\n",
       "   secondary_cleaner.state.floatbank4_a_level  \\\n",
       "0                                 -502.488007   \n",
       "1                                 -505.503262   \n",
       "2                                 -502.520901   \n",
       "3                                 -500.857308   \n",
       "4                                 -499.838632   \n",
       "\n",
       "   secondary_cleaner.state.floatbank4_b_air  \\\n",
       "0                                 12.099931   \n",
       "1                                 11.950531   \n",
       "2                                 11.912783   \n",
       "3                                 11.999550   \n",
       "4                                 11.953070   \n",
       "\n",
       "   secondary_cleaner.state.floatbank4_b_level  \\\n",
       "0                                 -504.715942   \n",
       "1                                 -501.331529   \n",
       "2                                 -501.133383   \n",
       "3                                 -501.193686   \n",
       "4                                 -501.053894   \n",
       "\n",
       "   secondary_cleaner.state.floatbank5_a_air  \\\n",
       "0                                  9.925633   \n",
       "1                                 10.039245   \n",
       "2                                 10.070913   \n",
       "3                                  9.970366   \n",
       "4                                  9.925709   \n",
       "\n",
       "   secondary_cleaner.state.floatbank5_a_level  \\\n",
       "0                                 -498.310211   \n",
       "1                                 -500.169983   \n",
       "2                                 -500.129135   \n",
       "3                                 -499.201640   \n",
       "4                                 -501.686727   \n",
       "\n",
       "   secondary_cleaner.state.floatbank5_b_air  \\\n",
       "0                                  8.079666   \n",
       "1                                  7.984757   \n",
       "2                                  8.013877   \n",
       "3                                  7.977324   \n",
       "4                                  7.894242   \n",
       "\n",
       "   secondary_cleaner.state.floatbank5_b_level  \\\n",
       "0                                 -500.470978   \n",
       "1                                 -500.582168   \n",
       "2                                 -500.517572   \n",
       "3                                 -500.255908   \n",
       "4                                 -500.356035   \n",
       "\n",
       "   secondary_cleaner.state.floatbank6_a_air  \\\n",
       "0                                 14.151341   \n",
       "1                                 13.998353   \n",
       "2                                 14.028663   \n",
       "3                                 14.005551   \n",
       "4                                 13.996647   \n",
       "\n",
       "   secondary_cleaner.state.floatbank6_a_level  \n",
       "0                                 -605.841980  \n",
       "1                                 -599.787184  \n",
       "2                                 -601.427363  \n",
       "3                                 -599.996129  \n",
       "4                                 -601.496691  \n",
       "\n",
       "[5 rows x 87 columns]"
      ]
     },
     "metadata": {},
     "output_type": "display_data"
    },
    {
     "data": {
      "text/html": [
       "<div>\n",
       "<style scoped>\n",
       "    .dataframe tbody tr th:only-of-type {\n",
       "        vertical-align: middle;\n",
       "    }\n",
       "\n",
       "    .dataframe tbody tr th {\n",
       "        vertical-align: top;\n",
       "    }\n",
       "\n",
       "    .dataframe thead th {\n",
       "        text-align: right;\n",
       "    }\n",
       "</style>\n",
       "<table border=\"1\" class=\"dataframe\">\n",
       "  <thead>\n",
       "    <tr style=\"text-align: right;\">\n",
       "      <th></th>\n",
       "      <th>date</th>\n",
       "      <th>primary_cleaner.input.sulfate</th>\n",
       "      <th>primary_cleaner.input.depressant</th>\n",
       "      <th>primary_cleaner.input.feed_size</th>\n",
       "      <th>primary_cleaner.input.xanthate</th>\n",
       "      <th>primary_cleaner.state.floatbank8_a_air</th>\n",
       "      <th>primary_cleaner.state.floatbank8_a_level</th>\n",
       "      <th>primary_cleaner.state.floatbank8_b_air</th>\n",
       "      <th>primary_cleaner.state.floatbank8_b_level</th>\n",
       "      <th>primary_cleaner.state.floatbank8_c_air</th>\n",
       "      <th>...</th>\n",
       "      <th>secondary_cleaner.state.floatbank4_a_air</th>\n",
       "      <th>secondary_cleaner.state.floatbank4_a_level</th>\n",
       "      <th>secondary_cleaner.state.floatbank4_b_air</th>\n",
       "      <th>secondary_cleaner.state.floatbank4_b_level</th>\n",
       "      <th>secondary_cleaner.state.floatbank5_a_air</th>\n",
       "      <th>secondary_cleaner.state.floatbank5_a_level</th>\n",
       "      <th>secondary_cleaner.state.floatbank5_b_air</th>\n",
       "      <th>secondary_cleaner.state.floatbank5_b_level</th>\n",
       "      <th>secondary_cleaner.state.floatbank6_a_air</th>\n",
       "      <th>secondary_cleaner.state.floatbank6_a_level</th>\n",
       "    </tr>\n",
       "  </thead>\n",
       "  <tbody>\n",
       "    <tr>\n",
       "      <th>0</th>\n",
       "      <td>2016-09-01 00:59:59</td>\n",
       "      <td>210.800909</td>\n",
       "      <td>14.993118</td>\n",
       "      <td>8.080000</td>\n",
       "      <td>1.005021</td>\n",
       "      <td>1398.981301</td>\n",
       "      <td>-500.225577</td>\n",
       "      <td>1399.144926</td>\n",
       "      <td>-499.919735</td>\n",
       "      <td>1400.102998</td>\n",
       "      <td>...</td>\n",
       "      <td>12.023554</td>\n",
       "      <td>-497.795834</td>\n",
       "      <td>8.016656</td>\n",
       "      <td>-501.289139</td>\n",
       "      <td>7.946562</td>\n",
       "      <td>-432.317850</td>\n",
       "      <td>4.872511</td>\n",
       "      <td>-500.037437</td>\n",
       "      <td>26.705889</td>\n",
       "      <td>-499.709414</td>\n",
       "    </tr>\n",
       "    <tr>\n",
       "      <th>1</th>\n",
       "      <td>2016-09-01 01:59:59</td>\n",
       "      <td>215.392455</td>\n",
       "      <td>14.987471</td>\n",
       "      <td>8.080000</td>\n",
       "      <td>0.990469</td>\n",
       "      <td>1398.777912</td>\n",
       "      <td>-500.057435</td>\n",
       "      <td>1398.055362</td>\n",
       "      <td>-499.778182</td>\n",
       "      <td>1396.151033</td>\n",
       "      <td>...</td>\n",
       "      <td>12.058140</td>\n",
       "      <td>-498.695773</td>\n",
       "      <td>8.130979</td>\n",
       "      <td>-499.634209</td>\n",
       "      <td>7.958270</td>\n",
       "      <td>-525.839648</td>\n",
       "      <td>4.878850</td>\n",
       "      <td>-500.162375</td>\n",
       "      <td>25.019940</td>\n",
       "      <td>-499.819438</td>\n",
       "    </tr>\n",
       "    <tr>\n",
       "      <th>2</th>\n",
       "      <td>2016-09-01 02:59:59</td>\n",
       "      <td>215.259946</td>\n",
       "      <td>12.884934</td>\n",
       "      <td>7.786667</td>\n",
       "      <td>0.996043</td>\n",
       "      <td>1398.493666</td>\n",
       "      <td>-500.868360</td>\n",
       "      <td>1398.860436</td>\n",
       "      <td>-499.764529</td>\n",
       "      <td>1398.075709</td>\n",
       "      <td>...</td>\n",
       "      <td>11.962366</td>\n",
       "      <td>-498.767484</td>\n",
       "      <td>8.096893</td>\n",
       "      <td>-500.827423</td>\n",
       "      <td>8.071056</td>\n",
       "      <td>-500.801673</td>\n",
       "      <td>4.905125</td>\n",
       "      <td>-499.828510</td>\n",
       "      <td>24.994862</td>\n",
       "      <td>-500.622559</td>\n",
       "    </tr>\n",
       "    <tr>\n",
       "      <th>3</th>\n",
       "      <td>2016-09-01 03:59:59</td>\n",
       "      <td>215.336236</td>\n",
       "      <td>12.006805</td>\n",
       "      <td>7.640000</td>\n",
       "      <td>0.863514</td>\n",
       "      <td>1399.618111</td>\n",
       "      <td>-498.863574</td>\n",
       "      <td>1397.440120</td>\n",
       "      <td>-499.211024</td>\n",
       "      <td>1400.129303</td>\n",
       "      <td>...</td>\n",
       "      <td>12.033091</td>\n",
       "      <td>-498.350935</td>\n",
       "      <td>8.074946</td>\n",
       "      <td>-499.474407</td>\n",
       "      <td>7.897085</td>\n",
       "      <td>-500.868509</td>\n",
       "      <td>4.931400</td>\n",
       "      <td>-499.963623</td>\n",
       "      <td>24.948919</td>\n",
       "      <td>-498.709987</td>\n",
       "    </tr>\n",
       "    <tr>\n",
       "      <th>4</th>\n",
       "      <td>2016-09-01 04:59:59</td>\n",
       "      <td>199.099327</td>\n",
       "      <td>10.682530</td>\n",
       "      <td>7.530000</td>\n",
       "      <td>0.805575</td>\n",
       "      <td>1401.268123</td>\n",
       "      <td>-500.808305</td>\n",
       "      <td>1398.128818</td>\n",
       "      <td>-499.504543</td>\n",
       "      <td>1402.172226</td>\n",
       "      <td>...</td>\n",
       "      <td>12.025367</td>\n",
       "      <td>-500.786497</td>\n",
       "      <td>8.054678</td>\n",
       "      <td>-500.397500</td>\n",
       "      <td>8.107890</td>\n",
       "      <td>-509.526725</td>\n",
       "      <td>4.957674</td>\n",
       "      <td>-500.360026</td>\n",
       "      <td>25.003331</td>\n",
       "      <td>-500.856333</td>\n",
       "    </tr>\n",
       "  </tbody>\n",
       "</table>\n",
       "<p>5 rows × 53 columns</p>\n",
       "</div>"
      ],
      "text/plain": [
       "                  date  primary_cleaner.input.sulfate  \\\n",
       "0  2016-09-01 00:59:59                     210.800909   \n",
       "1  2016-09-01 01:59:59                     215.392455   \n",
       "2  2016-09-01 02:59:59                     215.259946   \n",
       "3  2016-09-01 03:59:59                     215.336236   \n",
       "4  2016-09-01 04:59:59                     199.099327   \n",
       "\n",
       "   primary_cleaner.input.depressant  primary_cleaner.input.feed_size  \\\n",
       "0                         14.993118                         8.080000   \n",
       "1                         14.987471                         8.080000   \n",
       "2                         12.884934                         7.786667   \n",
       "3                         12.006805                         7.640000   \n",
       "4                         10.682530                         7.530000   \n",
       "\n",
       "   primary_cleaner.input.xanthate  primary_cleaner.state.floatbank8_a_air  \\\n",
       "0                        1.005021                             1398.981301   \n",
       "1                        0.990469                             1398.777912   \n",
       "2                        0.996043                             1398.493666   \n",
       "3                        0.863514                             1399.618111   \n",
       "4                        0.805575                             1401.268123   \n",
       "\n",
       "   primary_cleaner.state.floatbank8_a_level  \\\n",
       "0                               -500.225577   \n",
       "1                               -500.057435   \n",
       "2                               -500.868360   \n",
       "3                               -498.863574   \n",
       "4                               -500.808305   \n",
       "\n",
       "   primary_cleaner.state.floatbank8_b_air  \\\n",
       "0                             1399.144926   \n",
       "1                             1398.055362   \n",
       "2                             1398.860436   \n",
       "3                             1397.440120   \n",
       "4                             1398.128818   \n",
       "\n",
       "   primary_cleaner.state.floatbank8_b_level  \\\n",
       "0                               -499.919735   \n",
       "1                               -499.778182   \n",
       "2                               -499.764529   \n",
       "3                               -499.211024   \n",
       "4                               -499.504543   \n",
       "\n",
       "   primary_cleaner.state.floatbank8_c_air  ...  \\\n",
       "0                             1400.102998  ...   \n",
       "1                             1396.151033  ...   \n",
       "2                             1398.075709  ...   \n",
       "3                             1400.129303  ...   \n",
       "4                             1402.172226  ...   \n",
       "\n",
       "   secondary_cleaner.state.floatbank4_a_air  \\\n",
       "0                                 12.023554   \n",
       "1                                 12.058140   \n",
       "2                                 11.962366   \n",
       "3                                 12.033091   \n",
       "4                                 12.025367   \n",
       "\n",
       "   secondary_cleaner.state.floatbank4_a_level  \\\n",
       "0                                 -497.795834   \n",
       "1                                 -498.695773   \n",
       "2                                 -498.767484   \n",
       "3                                 -498.350935   \n",
       "4                                 -500.786497   \n",
       "\n",
       "   secondary_cleaner.state.floatbank4_b_air  \\\n",
       "0                                  8.016656   \n",
       "1                                  8.130979   \n",
       "2                                  8.096893   \n",
       "3                                  8.074946   \n",
       "4                                  8.054678   \n",
       "\n",
       "   secondary_cleaner.state.floatbank4_b_level  \\\n",
       "0                                 -501.289139   \n",
       "1                                 -499.634209   \n",
       "2                                 -500.827423   \n",
       "3                                 -499.474407   \n",
       "4                                 -500.397500   \n",
       "\n",
       "   secondary_cleaner.state.floatbank5_a_air  \\\n",
       "0                                  7.946562   \n",
       "1                                  7.958270   \n",
       "2                                  8.071056   \n",
       "3                                  7.897085   \n",
       "4                                  8.107890   \n",
       "\n",
       "   secondary_cleaner.state.floatbank5_a_level  \\\n",
       "0                                 -432.317850   \n",
       "1                                 -525.839648   \n",
       "2                                 -500.801673   \n",
       "3                                 -500.868509   \n",
       "4                                 -509.526725   \n",
       "\n",
       "   secondary_cleaner.state.floatbank5_b_air  \\\n",
       "0                                  4.872511   \n",
       "1                                  4.878850   \n",
       "2                                  4.905125   \n",
       "3                                  4.931400   \n",
       "4                                  4.957674   \n",
       "\n",
       "   secondary_cleaner.state.floatbank5_b_level  \\\n",
       "0                                 -500.037437   \n",
       "1                                 -500.162375   \n",
       "2                                 -499.828510   \n",
       "3                                 -499.963623   \n",
       "4                                 -500.360026   \n",
       "\n",
       "   secondary_cleaner.state.floatbank6_a_air  \\\n",
       "0                                 26.705889   \n",
       "1                                 25.019940   \n",
       "2                                 24.994862   \n",
       "3                                 24.948919   \n",
       "4                                 25.003331   \n",
       "\n",
       "   secondary_cleaner.state.floatbank6_a_level  \n",
       "0                                 -499.709414  \n",
       "1                                 -499.819438  \n",
       "2                                 -500.622559  \n",
       "3                                 -498.709987  \n",
       "4                                 -500.856333  \n",
       "\n",
       "[5 rows x 53 columns]"
      ]
     },
     "metadata": {},
     "output_type": "display_data"
    },
    {
     "data": {
      "text/html": [
       "<div>\n",
       "<style scoped>\n",
       "    .dataframe tbody tr th:only-of-type {\n",
       "        vertical-align: middle;\n",
       "    }\n",
       "\n",
       "    .dataframe tbody tr th {\n",
       "        vertical-align: top;\n",
       "    }\n",
       "\n",
       "    .dataframe thead th {\n",
       "        text-align: right;\n",
       "    }\n",
       "</style>\n",
       "<table border=\"1\" class=\"dataframe\">\n",
       "  <thead>\n",
       "    <tr style=\"text-align: right;\">\n",
       "      <th></th>\n",
       "      <th>date</th>\n",
       "      <th>final.output.concentrate_ag</th>\n",
       "      <th>final.output.concentrate_pb</th>\n",
       "      <th>final.output.concentrate_sol</th>\n",
       "      <th>final.output.concentrate_au</th>\n",
       "      <th>final.output.recovery</th>\n",
       "      <th>final.output.tail_ag</th>\n",
       "      <th>final.output.tail_pb</th>\n",
       "      <th>final.output.tail_sol</th>\n",
       "      <th>final.output.tail_au</th>\n",
       "      <th>...</th>\n",
       "      <th>secondary_cleaner.state.floatbank4_a_air</th>\n",
       "      <th>secondary_cleaner.state.floatbank4_a_level</th>\n",
       "      <th>secondary_cleaner.state.floatbank4_b_air</th>\n",
       "      <th>secondary_cleaner.state.floatbank4_b_level</th>\n",
       "      <th>secondary_cleaner.state.floatbank5_a_air</th>\n",
       "      <th>secondary_cleaner.state.floatbank5_a_level</th>\n",
       "      <th>secondary_cleaner.state.floatbank5_b_air</th>\n",
       "      <th>secondary_cleaner.state.floatbank5_b_level</th>\n",
       "      <th>secondary_cleaner.state.floatbank6_a_air</th>\n",
       "      <th>secondary_cleaner.state.floatbank6_a_level</th>\n",
       "    </tr>\n",
       "  </thead>\n",
       "  <tbody>\n",
       "    <tr>\n",
       "      <th>0</th>\n",
       "      <td>2016-01-15 00:00:00</td>\n",
       "      <td>6.055403</td>\n",
       "      <td>9.889648</td>\n",
       "      <td>5.507324</td>\n",
       "      <td>42.192020</td>\n",
       "      <td>70.541216</td>\n",
       "      <td>10.411962</td>\n",
       "      <td>0.895447</td>\n",
       "      <td>16.904297</td>\n",
       "      <td>2.143149</td>\n",
       "      <td>...</td>\n",
       "      <td>14.016835</td>\n",
       "      <td>-502.488007</td>\n",
       "      <td>12.099931</td>\n",
       "      <td>-504.715942</td>\n",
       "      <td>9.925633</td>\n",
       "      <td>-498.310211</td>\n",
       "      <td>8.079666</td>\n",
       "      <td>-500.470978</td>\n",
       "      <td>14.151341</td>\n",
       "      <td>-605.841980</td>\n",
       "    </tr>\n",
       "    <tr>\n",
       "      <th>1</th>\n",
       "      <td>2016-01-15 01:00:00</td>\n",
       "      <td>6.029369</td>\n",
       "      <td>9.968944</td>\n",
       "      <td>5.257781</td>\n",
       "      <td>42.701629</td>\n",
       "      <td>69.266198</td>\n",
       "      <td>10.462676</td>\n",
       "      <td>0.927452</td>\n",
       "      <td>16.634514</td>\n",
       "      <td>2.224930</td>\n",
       "      <td>...</td>\n",
       "      <td>13.992281</td>\n",
       "      <td>-505.503262</td>\n",
       "      <td>11.950531</td>\n",
       "      <td>-501.331529</td>\n",
       "      <td>10.039245</td>\n",
       "      <td>-500.169983</td>\n",
       "      <td>7.984757</td>\n",
       "      <td>-500.582168</td>\n",
       "      <td>13.998353</td>\n",
       "      <td>-599.787184</td>\n",
       "    </tr>\n",
       "    <tr>\n",
       "      <th>2</th>\n",
       "      <td>2016-01-15 02:00:00</td>\n",
       "      <td>6.055926</td>\n",
       "      <td>10.213995</td>\n",
       "      <td>5.383759</td>\n",
       "      <td>42.657501</td>\n",
       "      <td>68.116445</td>\n",
       "      <td>10.507046</td>\n",
       "      <td>0.953716</td>\n",
       "      <td>16.208849</td>\n",
       "      <td>2.257889</td>\n",
       "      <td>...</td>\n",
       "      <td>14.015015</td>\n",
       "      <td>-502.520901</td>\n",
       "      <td>11.912783</td>\n",
       "      <td>-501.133383</td>\n",
       "      <td>10.070913</td>\n",
       "      <td>-500.129135</td>\n",
       "      <td>8.013877</td>\n",
       "      <td>-500.517572</td>\n",
       "      <td>14.028663</td>\n",
       "      <td>-601.427363</td>\n",
       "    </tr>\n",
       "    <tr>\n",
       "      <th>3</th>\n",
       "      <td>2016-01-15 03:00:00</td>\n",
       "      <td>6.047977</td>\n",
       "      <td>9.977019</td>\n",
       "      <td>4.858634</td>\n",
       "      <td>42.689819</td>\n",
       "      <td>68.347543</td>\n",
       "      <td>10.422762</td>\n",
       "      <td>0.883763</td>\n",
       "      <td>16.532835</td>\n",
       "      <td>2.146849</td>\n",
       "      <td>...</td>\n",
       "      <td>14.036510</td>\n",
       "      <td>-500.857308</td>\n",
       "      <td>11.999550</td>\n",
       "      <td>-501.193686</td>\n",
       "      <td>9.970366</td>\n",
       "      <td>-499.201640</td>\n",
       "      <td>7.977324</td>\n",
       "      <td>-500.255908</td>\n",
       "      <td>14.005551</td>\n",
       "      <td>-599.996129</td>\n",
       "    </tr>\n",
       "    <tr>\n",
       "      <th>4</th>\n",
       "      <td>2016-01-15 04:00:00</td>\n",
       "      <td>6.148599</td>\n",
       "      <td>10.142511</td>\n",
       "      <td>4.939416</td>\n",
       "      <td>42.774141</td>\n",
       "      <td>66.927016</td>\n",
       "      <td>10.360302</td>\n",
       "      <td>0.792826</td>\n",
       "      <td>16.525686</td>\n",
       "      <td>2.055292</td>\n",
       "      <td>...</td>\n",
       "      <td>14.027298</td>\n",
       "      <td>-499.838632</td>\n",
       "      <td>11.953070</td>\n",
       "      <td>-501.053894</td>\n",
       "      <td>9.925709</td>\n",
       "      <td>-501.686727</td>\n",
       "      <td>7.894242</td>\n",
       "      <td>-500.356035</td>\n",
       "      <td>13.996647</td>\n",
       "      <td>-601.496691</td>\n",
       "    </tr>\n",
       "  </tbody>\n",
       "</table>\n",
       "<p>5 rows × 87 columns</p>\n",
       "</div>"
      ],
      "text/plain": [
       "                  date  final.output.concentrate_ag  \\\n",
       "0  2016-01-15 00:00:00                     6.055403   \n",
       "1  2016-01-15 01:00:00                     6.029369   \n",
       "2  2016-01-15 02:00:00                     6.055926   \n",
       "3  2016-01-15 03:00:00                     6.047977   \n",
       "4  2016-01-15 04:00:00                     6.148599   \n",
       "\n",
       "   final.output.concentrate_pb  final.output.concentrate_sol  \\\n",
       "0                     9.889648                      5.507324   \n",
       "1                     9.968944                      5.257781   \n",
       "2                    10.213995                      5.383759   \n",
       "3                     9.977019                      4.858634   \n",
       "4                    10.142511                      4.939416   \n",
       "\n",
       "   final.output.concentrate_au  final.output.recovery  final.output.tail_ag  \\\n",
       "0                    42.192020              70.541216             10.411962   \n",
       "1                    42.701629              69.266198             10.462676   \n",
       "2                    42.657501              68.116445             10.507046   \n",
       "3                    42.689819              68.347543             10.422762   \n",
       "4                    42.774141              66.927016             10.360302   \n",
       "\n",
       "   final.output.tail_pb  final.output.tail_sol  final.output.tail_au  ...  \\\n",
       "0              0.895447              16.904297              2.143149  ...   \n",
       "1              0.927452              16.634514              2.224930  ...   \n",
       "2              0.953716              16.208849              2.257889  ...   \n",
       "3              0.883763              16.532835              2.146849  ...   \n",
       "4              0.792826              16.525686              2.055292  ...   \n",
       "\n",
       "   secondary_cleaner.state.floatbank4_a_air  \\\n",
       "0                                 14.016835   \n",
       "1                                 13.992281   \n",
       "2                                 14.015015   \n",
       "3                                 14.036510   \n",
       "4                                 14.027298   \n",
       "\n",
       "   secondary_cleaner.state.floatbank4_a_level  \\\n",
       "0                                 -502.488007   \n",
       "1                                 -505.503262   \n",
       "2                                 -502.520901   \n",
       "3                                 -500.857308   \n",
       "4                                 -499.838632   \n",
       "\n",
       "   secondary_cleaner.state.floatbank4_b_air  \\\n",
       "0                                 12.099931   \n",
       "1                                 11.950531   \n",
       "2                                 11.912783   \n",
       "3                                 11.999550   \n",
       "4                                 11.953070   \n",
       "\n",
       "   secondary_cleaner.state.floatbank4_b_level  \\\n",
       "0                                 -504.715942   \n",
       "1                                 -501.331529   \n",
       "2                                 -501.133383   \n",
       "3                                 -501.193686   \n",
       "4                                 -501.053894   \n",
       "\n",
       "   secondary_cleaner.state.floatbank5_a_air  \\\n",
       "0                                  9.925633   \n",
       "1                                 10.039245   \n",
       "2                                 10.070913   \n",
       "3                                  9.970366   \n",
       "4                                  9.925709   \n",
       "\n",
       "   secondary_cleaner.state.floatbank5_a_level  \\\n",
       "0                                 -498.310211   \n",
       "1                                 -500.169983   \n",
       "2                                 -500.129135   \n",
       "3                                 -499.201640   \n",
       "4                                 -501.686727   \n",
       "\n",
       "   secondary_cleaner.state.floatbank5_b_air  \\\n",
       "0                                  8.079666   \n",
       "1                                  7.984757   \n",
       "2                                  8.013877   \n",
       "3                                  7.977324   \n",
       "4                                  7.894242   \n",
       "\n",
       "   secondary_cleaner.state.floatbank5_b_level  \\\n",
       "0                                 -500.470978   \n",
       "1                                 -500.582168   \n",
       "2                                 -500.517572   \n",
       "3                                 -500.255908   \n",
       "4                                 -500.356035   \n",
       "\n",
       "   secondary_cleaner.state.floatbank6_a_air  \\\n",
       "0                                 14.151341   \n",
       "1                                 13.998353   \n",
       "2                                 14.028663   \n",
       "3                                 14.005551   \n",
       "4                                 13.996647   \n",
       "\n",
       "   secondary_cleaner.state.floatbank6_a_level  \n",
       "0                                 -605.841980  \n",
       "1                                 -599.787184  \n",
       "2                                 -601.427363  \n",
       "3                                 -599.996129  \n",
       "4                                 -601.496691  \n",
       "\n",
       "[5 rows x 87 columns]"
      ]
     },
     "metadata": {},
     "output_type": "display_data"
    }
   ],
   "source": [
    "for dataset in datasets:\n",
    "  display(dataset.head())"
   ]
  },
  {
   "cell_type": "markdown",
   "metadata": {
    "id": "WkR5Bg_KoEek"
   },
   "source": [
    "У нас есть три выборки full, train, test. Все они разного размера. В test отсутсвтуют целевые признаки. "
   ]
  },
  {
   "cell_type": "markdown",
   "metadata": {},
   "source": [
    "<div class=\"alert alert-warning\">\n",
    "<h2> Комментарий ревьюера <a class=\"tocSkip\"></h2>\n",
    "<hr>\n",
    "<b>Можно доработать:</b> Все импорты в одном блоке. Данные загруженны корректно. Круто, что, пробовал профайлер. Но нужно его предварительно установить через <code>!pip install</code> или убрать из импорта.\n",
    "</div>"
   ]
  },
  {
   "cell_type": "markdown",
   "metadata": {
    "id": "gWBgxKbFh7cj"
   },
   "source": [
    "### 1.2 Проверим, что эффективность обогащения рассчитана правильно"
   ]
  },
  {
   "cell_type": "code",
   "execution_count": 7,
   "metadata": {
    "id": "KIk9Wgk9OPkx"
   },
   "outputs": [],
   "source": [
    "#вычислим эффективность обогащения на обучающей выборке\n",
    "C = train['rougher.output.concentrate_au']\n",
    "F = train['rougher.input.feed_au']\n",
    "T = train['rougher.output.tail_au']"
   ]
  },
  {
   "cell_type": "code",
   "execution_count": 8,
   "metadata": {
    "colab": {
     "base_uri": "https://localhost:8080/"
    },
    "id": "Uk6BBS4_OPwl",
    "outputId": "ebace728-9586-40b4-e2b9-1debc34f7f9e"
   },
   "outputs": [
    {
     "data": {
      "text/plain": [
       "82.70450164550293"
      ]
     },
     "execution_count": 8,
     "metadata": {},
     "output_type": "execute_result"
    }
   ],
   "source": [
    "#создадим новый столбец для наших вычислений\n",
    "train['recovery_calc'] = ((C*(F-T))/(F*(C-T)))*100\n",
    "train['recovery_calc'].mean()"
   ]
  },
  {
   "cell_type": "code",
   "execution_count": 9,
   "metadata": {
    "colab": {
     "base_uri": "https://localhost:8080/"
    },
    "id": "pF3Sb6CxWv7n",
    "outputId": "e2d7068e-d6ec-4dd5-d407-71ee82fef1c6"
   },
   "outputs": [
    {
     "data": {
      "text/plain": [
       "82.70450164550293"
      ]
     },
     "execution_count": 9,
     "metadata": {},
     "output_type": "execute_result"
    }
   ],
   "source": [
    "#сравним с прзнаком rougher.output.recovery\n",
    "train['rougher.output.recovery'].mean()"
   ]
  },
  {
   "cell_type": "markdown",
   "metadata": {
    "id": "XIjFMiGZYQWK"
   },
   "source": [
    "Значения совпадают, поэтому эффективность похоже рассчитана правильно.\n",
    "\n",
    "Найдем среднюю абсолютную ошибку (MAE) между нашими расчётами и значением признака. "
   ]
  },
  {
   "cell_type": "code",
   "execution_count": 10,
   "metadata": {
    "colab": {
     "base_uri": "https://localhost:8080/"
    },
    "id": "-35uCdBZZR2l",
    "outputId": "7ff1e0f2-ab17-41b6-bd1b-cfcdd7eb6dd3"
   },
   "outputs": [
    {
     "name": "stdout",
     "output_type": "stream",
     "text": [
      "9.73512347450521e-15\n"
     ]
    }
   ],
   "source": [
    "print(mean_absolute_error(train['recovery_calc'], train['rougher.output.recovery']))"
   ]
  },
  {
   "cell_type": "code",
   "execution_count": 11,
   "metadata": {
    "id": "_Y2G6pkXqKxn"
   },
   "outputs": [],
   "source": [
    "#удалим наш столбец\n",
    "train.drop('recovery_calc', axis=1, inplace=True)"
   ]
  },
  {
   "cell_type": "markdown",
   "metadata": {
    "id": "8DOLDHF6g_K9"
   },
   "source": [
    "Значение MAE очень маленькое, значит это еще раз подтверждает вывод, что эффективность обогащения рассчитана правильно."
   ]
  },
  {
   "cell_type": "markdown",
   "metadata": {},
   "source": [
    "<div class=\"alert alert-success\">\n",
    "<h2> Комментарий ревьюера <a class=\"tocSkip\"></h2>\n",
    "<hr>\n",
    "<b>Хорошее решение:</b> 👍\n",
    "</div>"
   ]
  },
  {
   "cell_type": "markdown",
   "metadata": {
    "id": "YQJVeKmeiMP4"
   },
   "source": [
    "### 1.3. Проанализируем признаки, недоступные в тестовой выборке. Что это за параметры? К какому типу относятся?"
   ]
  },
  {
   "cell_type": "code",
   "execution_count": 12,
   "metadata": {
    "colab": {
     "base_uri": "https://localhost:8080/"
    },
    "id": "X4qeEN4ZmmaH",
    "outputId": "3e9cb7d9-f243-489b-b6aa-7637fc914737"
   },
   "outputs": [
    {
     "data": {
      "text/plain": [
       "{'final.output.concentrate_ag',\n",
       " 'final.output.concentrate_au',\n",
       " 'final.output.concentrate_pb',\n",
       " 'final.output.concentrate_sol',\n",
       " 'final.output.recovery',\n",
       " 'final.output.tail_ag',\n",
       " 'final.output.tail_au',\n",
       " 'final.output.tail_pb',\n",
       " 'final.output.tail_sol',\n",
       " 'primary_cleaner.output.concentrate_ag',\n",
       " 'primary_cleaner.output.concentrate_au',\n",
       " 'primary_cleaner.output.concentrate_pb',\n",
       " 'primary_cleaner.output.concentrate_sol',\n",
       " 'primary_cleaner.output.tail_ag',\n",
       " 'primary_cleaner.output.tail_au',\n",
       " 'primary_cleaner.output.tail_pb',\n",
       " 'primary_cleaner.output.tail_sol',\n",
       " 'rougher.calculation.au_pb_ratio',\n",
       " 'rougher.calculation.floatbank10_sulfate_to_au_feed',\n",
       " 'rougher.calculation.floatbank11_sulfate_to_au_feed',\n",
       " 'rougher.calculation.sulfate_to_au_concentrate',\n",
       " 'rougher.output.concentrate_ag',\n",
       " 'rougher.output.concentrate_au',\n",
       " 'rougher.output.concentrate_pb',\n",
       " 'rougher.output.concentrate_sol',\n",
       " 'rougher.output.recovery',\n",
       " 'rougher.output.tail_ag',\n",
       " 'rougher.output.tail_au',\n",
       " 'rougher.output.tail_pb',\n",
       " 'rougher.output.tail_sol',\n",
       " 'secondary_cleaner.output.tail_ag',\n",
       " 'secondary_cleaner.output.tail_au',\n",
       " 'secondary_cleaner.output.tail_pb',\n",
       " 'secondary_cleaner.output.tail_sol'}"
      ]
     },
     "execution_count": 12,
     "metadata": {},
     "output_type": "execute_result"
    }
   ],
   "source": [
    "# найдем признаки недоступные в тестовой выборке\n",
    "set(train.columns)-set(test.columns) \n"
   ]
  },
  {
   "cell_type": "markdown",
   "metadata": {
    "id": "8IkFD-fwpd3x"
   },
   "source": [
    "Эти признаки отсутствуют в тестовой выборке. Мы видим, что это признаки, которые относятся к вторичным стадиям обогащения, параметры продуктов(а не сырья), расчетные характеристики, относящиеся к разным этапам, т.е значения final.output, primary_cleaner.output, rougher.calculations, rougher.output, secondary_cleaner.output"
   ]
  },
  {
   "cell_type": "markdown",
   "metadata": {
    "id": "TBeZZopMYBLT"
   },
   "source": [
    "### 1.4 Проведем предобработку данных"
   ]
  },
  {
   "cell_type": "code",
   "execution_count": 13,
   "metadata": {
    "colab": {
     "base_uri": "https://localhost:8080/",
     "height": 1000
    },
    "id": "SNX3mo--X2Fo",
    "outputId": "94d81269-5c56-4403-d024-8268ae880f17"
   },
   "outputs": [
    {
     "data": {
      "text/plain": [
       "date                                            0\n",
       "final.output.concentrate_ag                     1\n",
       "final.output.concentrate_pb                     1\n",
       "final.output.concentrate_sol                  211\n",
       "final.output.concentrate_au                     0\n",
       "                                             ... \n",
       "secondary_cleaner.state.floatbank5_a_level      1\n",
       "secondary_cleaner.state.floatbank5_b_air        1\n",
       "secondary_cleaner.state.floatbank5_b_level      1\n",
       "secondary_cleaner.state.floatbank6_a_air        2\n",
       "secondary_cleaner.state.floatbank6_a_level      1\n",
       "Length: 87, dtype: int64"
      ]
     },
     "metadata": {},
     "output_type": "display_data"
    },
    {
     "data": {
      "text/plain": [
       "date                                           0\n",
       "primary_cleaner.input.sulfate                  4\n",
       "primary_cleaner.input.depressant               5\n",
       "primary_cleaner.input.feed_size                0\n",
       "primary_cleaner.input.xanthate                 4\n",
       "primary_cleaner.state.floatbank8_a_air         0\n",
       "primary_cleaner.state.floatbank8_a_level       0\n",
       "primary_cleaner.state.floatbank8_b_air         0\n",
       "primary_cleaner.state.floatbank8_b_level       0\n",
       "primary_cleaner.state.floatbank8_c_air         0\n",
       "primary_cleaner.state.floatbank8_c_level       0\n",
       "primary_cleaner.state.floatbank8_d_air         0\n",
       "primary_cleaner.state.floatbank8_d_level       0\n",
       "rougher.input.feed_ag                          0\n",
       "rougher.input.feed_pb                          0\n",
       "rougher.input.feed_rate                        3\n",
       "rougher.input.feed_size                        1\n",
       "rougher.input.feed_sol                        21\n",
       "rougher.input.feed_au                          0\n",
       "rougher.input.floatbank10_sulfate              5\n",
       "rougher.input.floatbank10_xanthate             0\n",
       "rougher.input.floatbank11_sulfate              8\n",
       "rougher.input.floatbank11_xanthate            25\n",
       "rougher.state.floatbank10_a_air                0\n",
       "rougher.state.floatbank10_a_level              0\n",
       "rougher.state.floatbank10_b_air                0\n",
       "rougher.state.floatbank10_b_level              0\n",
       "rougher.state.floatbank10_c_air                0\n",
       "rougher.state.floatbank10_c_level              0\n",
       "rougher.state.floatbank10_d_air                0\n",
       "rougher.state.floatbank10_d_level              0\n",
       "rougher.state.floatbank10_e_air                0\n",
       "rougher.state.floatbank10_e_level              0\n",
       "rougher.state.floatbank10_f_air                0\n",
       "rougher.state.floatbank10_f_level              0\n",
       "secondary_cleaner.state.floatbank2_a_air       3\n",
       "secondary_cleaner.state.floatbank2_a_level     0\n",
       "secondary_cleaner.state.floatbank2_b_air       2\n",
       "secondary_cleaner.state.floatbank2_b_level     0\n",
       "secondary_cleaner.state.floatbank3_a_air       9\n",
       "secondary_cleaner.state.floatbank3_a_level     0\n",
       "secondary_cleaner.state.floatbank3_b_air       0\n",
       "secondary_cleaner.state.floatbank3_b_level     0\n",
       "secondary_cleaner.state.floatbank4_a_air       0\n",
       "secondary_cleaner.state.floatbank4_a_level     0\n",
       "secondary_cleaner.state.floatbank4_b_air       0\n",
       "secondary_cleaner.state.floatbank4_b_level     0\n",
       "secondary_cleaner.state.floatbank5_a_air       0\n",
       "secondary_cleaner.state.floatbank5_a_level     0\n",
       "secondary_cleaner.state.floatbank5_b_air       0\n",
       "secondary_cleaner.state.floatbank5_b_level     0\n",
       "secondary_cleaner.state.floatbank6_a_air       0\n",
       "secondary_cleaner.state.floatbank6_a_level     0\n",
       "dtype: int64"
      ]
     },
     "metadata": {},
     "output_type": "display_data"
    },
    {
     "data": {
      "text/plain": [
       "date                                            0\n",
       "final.output.concentrate_ag                     1\n",
       "final.output.concentrate_pb                     1\n",
       "final.output.concentrate_sol                  211\n",
       "final.output.concentrate_au                     0\n",
       "                                             ... \n",
       "secondary_cleaner.state.floatbank5_a_level      1\n",
       "secondary_cleaner.state.floatbank5_b_air        1\n",
       "secondary_cleaner.state.floatbank5_b_level      1\n",
       "secondary_cleaner.state.floatbank6_a_air        2\n",
       "secondary_cleaner.state.floatbank6_a_level      1\n",
       "Length: 87, dtype: int64"
      ]
     },
     "metadata": {},
     "output_type": "display_data"
    }
   ],
   "source": [
    "#найдем пропуски\n",
    "for dataset in datasets:\n",
    "  display(dataset.isna().sum())"
   ]
  },
  {
   "cell_type": "markdown",
   "metadata": {
    "id": "Z8FXwcGpkszF"
   },
   "source": [
    "Поскольку в описании проекта сказано, что данные индексируются датой и временем получения информации (признак date) и соседние по времени параметры часто похожи, заполним пропуски соответствующими значениями в следующем ряду методом bfill.\n"
   ]
  },
  {
   "cell_type": "code",
   "execution_count": 14,
   "metadata": {
    "id": "43IyvuK2ecHM"
   },
   "outputs": [],
   "source": [
    "for dataset in datasets:\n",
    "  dataset.bfill(axis='rows', inplace=True)"
   ]
  },
  {
   "cell_type": "markdown",
   "metadata": {},
   "source": [
    "<div class=\"alert alert-warning\">\n",
    "<h2> Комментарий ревьюера <a class=\"tocSkip\"></h2>\n",
    "<hr>\n",
    "<b>Можно доработать:</b> Правивильнее использовать метод ffil, так как bfill заполняет пропуск следущим значением в ряду. При работе с временными рядами лучше не заглядывать в будущее) \n",
    "</div>"
   ]
  },
  {
   "cell_type": "code",
   "execution_count": 15,
   "metadata": {
    "colab": {
     "base_uri": "https://localhost:8080/",
     "height": 1000
    },
    "id": "o2vJ0aNpfKbe",
    "outputId": "8312ef43-cfc6-4260-f0dc-8dc7d407d7af"
   },
   "outputs": [
    {
     "data": {
      "text/plain": [
       "date                                          0\n",
       "final.output.concentrate_ag                   0\n",
       "final.output.concentrate_pb                   0\n",
       "final.output.concentrate_sol                  0\n",
       "final.output.concentrate_au                   0\n",
       "                                             ..\n",
       "secondary_cleaner.state.floatbank5_a_level    0\n",
       "secondary_cleaner.state.floatbank5_b_air      0\n",
       "secondary_cleaner.state.floatbank5_b_level    0\n",
       "secondary_cleaner.state.floatbank6_a_air      0\n",
       "secondary_cleaner.state.floatbank6_a_level    0\n",
       "Length: 87, dtype: int64"
      ]
     },
     "metadata": {},
     "output_type": "display_data"
    },
    {
     "data": {
      "text/plain": [
       "date                                          0\n",
       "primary_cleaner.input.sulfate                 0\n",
       "primary_cleaner.input.depressant              0\n",
       "primary_cleaner.input.feed_size               0\n",
       "primary_cleaner.input.xanthate                0\n",
       "primary_cleaner.state.floatbank8_a_air        0\n",
       "primary_cleaner.state.floatbank8_a_level      0\n",
       "primary_cleaner.state.floatbank8_b_air        0\n",
       "primary_cleaner.state.floatbank8_b_level      0\n",
       "primary_cleaner.state.floatbank8_c_air        0\n",
       "primary_cleaner.state.floatbank8_c_level      0\n",
       "primary_cleaner.state.floatbank8_d_air        0\n",
       "primary_cleaner.state.floatbank8_d_level      0\n",
       "rougher.input.feed_ag                         0\n",
       "rougher.input.feed_pb                         0\n",
       "rougher.input.feed_rate                       0\n",
       "rougher.input.feed_size                       0\n",
       "rougher.input.feed_sol                        0\n",
       "rougher.input.feed_au                         0\n",
       "rougher.input.floatbank10_sulfate             0\n",
       "rougher.input.floatbank10_xanthate            0\n",
       "rougher.input.floatbank11_sulfate             0\n",
       "rougher.input.floatbank11_xanthate            0\n",
       "rougher.state.floatbank10_a_air               0\n",
       "rougher.state.floatbank10_a_level             0\n",
       "rougher.state.floatbank10_b_air               0\n",
       "rougher.state.floatbank10_b_level             0\n",
       "rougher.state.floatbank10_c_air               0\n",
       "rougher.state.floatbank10_c_level             0\n",
       "rougher.state.floatbank10_d_air               0\n",
       "rougher.state.floatbank10_d_level             0\n",
       "rougher.state.floatbank10_e_air               0\n",
       "rougher.state.floatbank10_e_level             0\n",
       "rougher.state.floatbank10_f_air               0\n",
       "rougher.state.floatbank10_f_level             0\n",
       "secondary_cleaner.state.floatbank2_a_air      0\n",
       "secondary_cleaner.state.floatbank2_a_level    0\n",
       "secondary_cleaner.state.floatbank2_b_air      0\n",
       "secondary_cleaner.state.floatbank2_b_level    0\n",
       "secondary_cleaner.state.floatbank3_a_air      0\n",
       "secondary_cleaner.state.floatbank3_a_level    0\n",
       "secondary_cleaner.state.floatbank3_b_air      0\n",
       "secondary_cleaner.state.floatbank3_b_level    0\n",
       "secondary_cleaner.state.floatbank4_a_air      0\n",
       "secondary_cleaner.state.floatbank4_a_level    0\n",
       "secondary_cleaner.state.floatbank4_b_air      0\n",
       "secondary_cleaner.state.floatbank4_b_level    0\n",
       "secondary_cleaner.state.floatbank5_a_air      0\n",
       "secondary_cleaner.state.floatbank5_a_level    0\n",
       "secondary_cleaner.state.floatbank5_b_air      0\n",
       "secondary_cleaner.state.floatbank5_b_level    0\n",
       "secondary_cleaner.state.floatbank6_a_air      0\n",
       "secondary_cleaner.state.floatbank6_a_level    0\n",
       "dtype: int64"
      ]
     },
     "metadata": {},
     "output_type": "display_data"
    },
    {
     "data": {
      "text/plain": [
       "date                                          0\n",
       "final.output.concentrate_ag                   0\n",
       "final.output.concentrate_pb                   0\n",
       "final.output.concentrate_sol                  0\n",
       "final.output.concentrate_au                   0\n",
       "                                             ..\n",
       "secondary_cleaner.state.floatbank5_a_level    0\n",
       "secondary_cleaner.state.floatbank5_b_air      0\n",
       "secondary_cleaner.state.floatbank5_b_level    0\n",
       "secondary_cleaner.state.floatbank6_a_air      0\n",
       "secondary_cleaner.state.floatbank6_a_level    0\n",
       "Length: 87, dtype: int64"
      ]
     },
     "metadata": {},
     "output_type": "display_data"
    }
   ],
   "source": [
    "#проверим\n",
    "for dataset in datasets:\n",
    "  display(dataset.isna().sum())"
   ]
  },
  {
   "cell_type": "code",
   "execution_count": 16,
   "metadata": {
    "colab": {
     "base_uri": "https://localhost:8080/"
    },
    "id": "gsvtmKsAgkpN",
    "outputId": "e6106715-8022-47e2-e603-87a353e19125"
   },
   "outputs": [
    {
     "data": {
      "text/plain": [
       "0        False\n",
       "1        False\n",
       "2        False\n",
       "3        False\n",
       "4        False\n",
       "         ...  \n",
       "14144    False\n",
       "14145    False\n",
       "14146    False\n",
       "14147    False\n",
       "14148    False\n",
       "Length: 14149, dtype: bool"
      ]
     },
     "execution_count": 16,
     "metadata": {},
     "output_type": "execute_result"
    }
   ],
   "source": [
    "#проверим данные на дубликаты\n",
    "train.duplicated()"
   ]
  },
  {
   "cell_type": "code",
   "execution_count": 17,
   "metadata": {
    "colab": {
     "base_uri": "https://localhost:8080/"
    },
    "id": "G1WTuwkCgk_M",
    "outputId": "fe12ed48-5c05-4665-d0f8-dffdcb811027"
   },
   "outputs": [
    {
     "data": {
      "text/plain": [
       "0        False\n",
       "1        False\n",
       "2        False\n",
       "3        False\n",
       "4        False\n",
       "         ...  \n",
       "19434    False\n",
       "19435    False\n",
       "19436    False\n",
       "19437    False\n",
       "19438    False\n",
       "Length: 19439, dtype: bool"
      ]
     },
     "execution_count": 17,
     "metadata": {},
     "output_type": "execute_result"
    }
   ],
   "source": [
    "full.duplicated()"
   ]
  },
  {
   "cell_type": "code",
   "execution_count": 18,
   "metadata": {
    "colab": {
     "base_uri": "https://localhost:8080/"
    },
    "id": "Wn9Q3vTrglMz",
    "outputId": "d6c61905-99e8-4542-92c6-78a1c8330e88"
   },
   "outputs": [
    {
     "data": {
      "text/plain": [
       "0       False\n",
       "1       False\n",
       "2       False\n",
       "3       False\n",
       "4       False\n",
       "        ...  \n",
       "5285    False\n",
       "5286    False\n",
       "5287    False\n",
       "5288    False\n",
       "5289    False\n",
       "Length: 5290, dtype: bool"
      ]
     },
     "execution_count": 18,
     "metadata": {},
     "output_type": "execute_result"
    }
   ],
   "source": [
    "test.duplicated()"
   ]
  },
  {
   "cell_type": "markdown",
   "metadata": {
    "id": "YaDe1sVhN3Un"
   },
   "source": [
    "## Анализ данных"
   ]
  },
  {
   "cell_type": "markdown",
   "metadata": {
    "id": "o_R54tcn_6rB"
   },
   "source": [
    "### 2.1 Посмотрим, как меняется концентрация металлов (Au, Ag, Pb) на различных этапах очистки. "
   ]
  },
  {
   "cell_type": "code",
   "execution_count": 19,
   "metadata": {
    "id": "TD15JuI-CpxN"
   },
   "outputs": [],
   "source": [
    "#отфильтруем даные для серебра\n",
    "df_ag = full[['rougher.output.concentrate_ag', \n",
    "              'primary_cleaner.output.concentrate_ag', \n",
    "              'final.output.concentrate_ag']]\n",
    "#переименуем столбцы для лучшей читаемости\n",
    "df_ag = df_ag.rename(columns={'rougher.output.concentrate_ag': 'флотация', \n",
    "                              'primary_cleaner.output.concentrate_ag': 'первичная очистка', \n",
    "                              'final.output.concentrate_ag': 'финальная очистка'})"
   ]
  },
  {
   "cell_type": "code",
   "execution_count": 20,
   "metadata": {
    "id": "I2H6C9s5CqYx"
   },
   "outputs": [],
   "source": [
    "#отфильтруем даные для свинца\n",
    "df_pb = full[['rougher.output.concentrate_pb', \n",
    "              'primary_cleaner.output.concentrate_pb', \n",
    "              'final.output.concentrate_pb']]\n",
    "#переименуем столбцы для лучшей читаемости\n",
    "df_pb = df_pb.rename(columns={'rougher.output.concentrate_pb': 'флотация', \n",
    "                              'primary_cleaner.output.concentrate_pb': 'первичная очистка', \n",
    "                              'final.output.concentrate_pb': 'финальная очистка'})"
   ]
  },
  {
   "cell_type": "code",
   "execution_count": 21,
   "metadata": {
    "id": "fmRjbhT8I2ed"
   },
   "outputs": [],
   "source": [
    "#отфильтруем даные для золота\n",
    "df_au = full[['rougher.output.concentrate_au', \n",
    "              'primary_cleaner.output.concentrate_au', \n",
    "              'final.output.concentrate_au']]\n",
    "#переименуем столбцы для лучшей читаемости\n",
    "df_au = df_au.rename(columns={'rougher.output.concentrate_au': 'флотация', \n",
    "                              'primary_cleaner.output.concentrate_au': 'первичная очистка', \n",
    "                              'final.output.concentrate_au': 'финальная очистка'})"
   ]
  },
  {
   "cell_type": "code",
   "execution_count": 22,
   "metadata": {
    "colab": {
     "base_uri": "https://localhost:8080/",
     "height": 376
    },
    "id": "mEtjKvcJJ4t_",
    "outputId": "57d17c40-3c92-4e0e-c7ff-5c9e57882755"
   },
   "outputs": [
    {
     "data": {
      "text/plain": [
       "Text(0.5, 0.98, 'Изменение концентрации металлов на различных этапах очистки')"
      ]
     },
     "execution_count": 22,
     "metadata": {},
     "output_type": "execute_result"
    },
    {
     "data": {
      "image/png": "[encoded data removed]",
      "text/plain": [
       "<Figure size 1584x432 with 3 Axes>"
      ]
     },
     "metadata": {
      "needs_background": "light"
     },
     "output_type": "display_data"
    }
   ],
   "source": [
    "#построим графики для каждого металла.\n",
    "fig, (ax1, ax2, ax3) = plt.subplots(1, 3, linewidth=3, figsize=(22, 6))#1 ряд, 3 графика\n",
    "\n",
    "df_ag.mean().plot(ax=ax1, subplots=True, fontsize=12)\n",
    "ax1.set_title('Серебро (Ag)', fontsize=16)\n",
    "ax1.set_ylabel('Концентрация металла', fontsize=14)\n",
    "ax1.set_xlabel('Стадии очистки', fontsize=14)\n",
    "\n",
    "df_pb.mean().plot(ax=ax2, subplots=True, fontsize=12)\n",
    "ax2.set_title('Свинец (Pb)', fontsize=16)\n",
    "ax2.set_ylabel('Концентрация металла', fontsize=14)\n",
    "ax2.set_xlabel('Стадии очистки', fontsize=14)\n",
    "\n",
    "df_au.mean().plot(ax=ax3, subplots=True, fontsize=12)\n",
    "ax3.set_title('Золото (Au)', fontsize=16)\n",
    "ax3.set_ylabel('Концентрация металла', fontsize=14)\n",
    "ax3.set_xlabel('Стадии очистки', fontsize=14)\n",
    "\n",
    "\n",
    "plt.suptitle('Изменение концентрации металлов на различных этапах очистки', fontsize=18, fontweight='bold')"
   ]
  },
  {
   "cell_type": "markdown",
   "metadata": {
    "id": "5sJAAzhpgJQP"
   },
   "source": [
    "Концентрация серебра уменьшается в процессе очистки. Самая большая концентрация на первой стадии и самая маленькая на конечной.\n",
    "\n",
    "Концентрация свинца значительно повышается от стадии флотации к первичной очистке, и еще немного повышается на стадии финальной очистки.\n",
    "\n",
    "Концентрация золота равномерно повышается от флотации до финальной очистки."
   ]
  },
  {
   "cell_type": "markdown",
   "metadata": {},
   "source": [
    "<div class=\"alert alert-success\">\n",
    "<h2> Комментарий ревьюера <a class=\"tocSkip\"></h2>\n",
    "<hr>\n",
    "<b>Хорошее решение:</b> 👍 Также для того, чтобы увидеть форму распределений можно построить гистограммы или violin plot.\n",
    "</div>"
   ]
  },
  {
   "cell_type": "markdown",
   "metadata": {
    "id": "fK2jqT_yHKPV"
   },
   "source": [
    "### 2.2. Сравним распределения размеров гранул сырья на обучающей и тестовой выборках. "
   ]
  },
  {
   "cell_type": "code",
   "execution_count": 23,
   "metadata": {
    "colab": {
     "base_uri": "https://localhost:8080/",
     "height": 295
    },
    "id": "oThDC0EcGlae",
    "outputId": "eee1a4df-cf69-46b2-e1dc-ad6c7c70e75c",
    "scrolled": true
   },
   "outputs": [
    {
     "data": {
      "text/plain": [
       "<matplotlib.legend.Legend at 0x7fda554887f0>"
      ]
     },
     "execution_count": 23,
     "metadata": {},
     "output_type": "execute_result"
    },
    {
     "data": {
      "image/png": "[encoded data removed]",
      "text/plain": [
       "<Figure size 432x288 with 1 Axes>"
      ]
     },
     "metadata": {
      "needs_background": "light"
     },
     "output_type": "display_data"
    }
   ],
   "source": [
    "#построим гистограммы\n",
    "train['rougher.input.feed_size'].hist(bins=200, alpha=0.5, label='train')\n",
    "test['rougher.input.feed_size'].hist(bins=200, alpha=0.5, label='test')\n",
    "plt.xlabel('размер частиц, мк')\n",
    "plt.ylabel('количество наблюдений')\n",
    "plt.legend()"
   ]
  },
  {
   "cell_type": "markdown",
   "metadata": {},
   "source": [
    "<div class=\"alert alert-warning\">\n",
    "<h2> Комментарий ревьюера <a class=\"tocSkip\"></h2>\n",
    "<hr>\n",
    "<b>Можно дорботать:</b> Дополнение. Для того, чтобы сравнивать распредения есть множество статистических тестов. Советую ознакомиться с тестом Колмогорова-Смирнова для сравнения распределений. Будет полезно) <a href=\"https://docs.scipy.org/doc/scipy/reference/generated/scipy.stats.kstest.html\"> ссылка </a>. Но этот тест тоже покажет, что данные распределения отличаются. Также лучше изобразить гистограммы в относительных частотах, чтобы было проще сравнивать.\n",
    "</div>"
   ]
  },
  {
   "cell_type": "code",
   "execution_count": 24,
   "metadata": {
    "colab": {
     "base_uri": "https://localhost:8080/"
    },
    "id": "WWJ7q_L3Jmry",
    "outputId": "06561e9d-7bde-4ff0-e87c-6e168120f50f"
   },
   "outputs": [
    {
     "data": {
      "text/plain": [
       "count    14149.000000\n",
       "mean        59.955950\n",
       "std         23.286534\n",
       "min          9.659576\n",
       "25%         48.920770\n",
       "50%         55.301596\n",
       "75%         65.941463\n",
       "max        484.967466\n",
       "Name: rougher.input.feed_size, dtype: float64"
      ]
     },
     "execution_count": 24,
     "metadata": {},
     "output_type": "execute_result"
    }
   ],
   "source": [
    "train['rougher.input.feed_size'].describe()"
   ]
  },
  {
   "cell_type": "code",
   "execution_count": 25,
   "metadata": {
    "colab": {
     "base_uri": "https://localhost:8080/"
    },
    "id": "y61N1X-UJvxa",
    "outputId": "02790c72-899d-4c40-8f5a-29eb1ea8a80b"
   },
   "outputs": [
    {
     "data": {
      "text/plain": [
       "count    5290.000000\n",
       "mean       55.952917\n",
       "std        19.080412\n",
       "min         0.046369\n",
       "25%        43.906504\n",
       "50%        50.846843\n",
       "75%        62.451165\n",
       "max       392.494040\n",
       "Name: rougher.input.feed_size, dtype: float64"
      ]
     },
     "execution_count": 25,
     "metadata": {},
     "output_type": "execute_result"
    }
   ],
   "source": [
    "test['rougher.input.feed_size'].describe()"
   ]
  },
  {
   "cell_type": "code",
   "execution_count": 26,
   "metadata": {
    "colab": {
     "base_uri": "https://localhost:8080/"
    },
    "id": "gv8uAC_oGmJG",
    "outputId": "b129ea7d-4244-4948-f7e9-cdba8ebf21de"
   },
   "outputs": [
    {
     "data": {
      "text/plain": [
       "542.2243580294288"
      ]
     },
     "execution_count": 26,
     "metadata": {},
     "output_type": "execute_result"
    }
   ],
   "source": [
    "var_train = np.var(train['rougher.input.feed_size'])\n",
    "var_train"
   ]
  },
  {
   "cell_type": "code",
   "execution_count": 27,
   "metadata": {
    "colab": {
     "base_uri": "https://localhost:8080/"
    },
    "id": "BaiUSwXHGma2",
    "outputId": "3e80ae9c-4fd6-4395-f958-6dc3bfc33ef3"
   },
   "outputs": [
    {
     "data": {
      "text/plain": [
       "363.9933174835001"
      ]
     },
     "execution_count": 27,
     "metadata": {},
     "output_type": "execute_result"
    }
   ],
   "source": [
    "var_test = np.var(test['rougher.input.feed_size'])\n",
    "var_test"
   ]
  },
  {
   "cell_type": "markdown",
   "metadata": {
    "id": "hLcwjKW2Pj4O"
   },
   "source": [
    "На гистограмме видно, что распределения не сильно отличаются, учитывая большее количество наблюдений для обучающей выборки. Дисперсия для обучающей выборки равна 542, для тестовой -- 364. Разница не маленькая, но как видно по гистограмме в обучающих данных довольно много выбросов. Метод describe показал, что средний размер гранул сырья на обучающей выборке 60 микрон, а на тестовой - 56. 4 микрон - совсем не большая разница, так что будем считать, что распределения примерно равны."
   ]
  },
  {
   "cell_type": "markdown",
   "metadata": {
    "id": "0wrqYMn-fG9l"
   },
   "source": [
    "### 2.3 Исследуем суммарную концентрацию всех веществ на разных стадиях: в сырье, в черновом и финальном концентратах."
   ]
  },
  {
   "cell_type": "code",
   "execution_count": 28,
   "metadata": {
    "id": "WNgJ8Bn8pcfE"
   },
   "outputs": [],
   "source": [
    "# найдем суммарную концентрацию металлов (ag, pb, sol, au) в сырье\n",
    "sum_r_feed = full[['rougher.input.feed_ag', \n",
    "                   'rougher.input.feed_pb', \n",
    "                   'rougher.input.feed_sol', \n",
    "                   'rougher.input.feed_au']].sum(axis=1)"
   ]
  },
  {
   "cell_type": "code",
   "execution_count": 29,
   "metadata": {
    "colab": {
     "base_uri": "https://localhost:8080/"
    },
    "id": "Y9Xbw5Mfp96I",
    "outputId": "b7678c60-781c-4d71-d97c-416a76a371de"
   },
   "outputs": [
    {
     "data": {
      "text/plain": [
       "0    51.680034\n",
       "1    50.659114\n",
       "2    50.609929\n",
       "3    51.061546\n",
       "4    47.859163\n",
       "dtype: float64"
      ]
     },
     "execution_count": 29,
     "metadata": {},
     "output_type": "execute_result"
    }
   ],
   "source": [
    "sum_r_feed.head()"
   ]
  },
  {
   "cell_type": "code",
   "execution_count": 30,
   "metadata": {
    "colab": {
     "base_uri": "https://localhost:8080/",
     "height": 515
    },
    "id": "OvxyhjvOpmTG",
    "outputId": "44c753c1-abc8-4f4c-bc3a-70240e6937de"
   },
   "outputs": [
    {
     "data": {
      "text/plain": [
       "Text(0.5, 1.0, 'Суммарная концентрация металлов в сырье')"
      ]
     },
     "execution_count": 30,
     "metadata": {},
     "output_type": "execute_result"
    },
    {
     "data": {
      "image/png": "[encoded data removed]",
      "text/plain": [
       "<Figure size 1152x576 with 1 Axes>"
      ]
     },
     "metadata": {
      "needs_background": "light"
     },
     "output_type": "display_data"
    }
   ],
   "source": [
    "#построим гистограмму для суммарной концентрации металлов в сырье\n",
    "plt.subplots(figsize = (16,8))\n",
    "sns.histplot(sum_r_feed, fill=True, bins=300, palette='coolwarm')\n",
    "plt.title('Суммарная концентрация металлов в сырье')"
   ]
  },
  {
   "cell_type": "code",
   "execution_count": 31,
   "metadata": {
    "id": "jsh7bvg-rnF4"
   },
   "outputs": [],
   "source": [
    "# найдем суммарную концентрацию металлов (ag, pb, sol, au) в черновом концентрате\n",
    "sum_r_conc = full[['rougher.output.concentrate_pb', \n",
    "                   'rougher.output.concentrate_ag', \n",
    "                   'rougher.output.concentrate_sol', \n",
    "                   'rougher.output.concentrate_au']].sum(axis=1)"
   ]
  },
  {
   "cell_type": "code",
   "execution_count": 32,
   "metadata": {
    "colab": {
     "base_uri": "https://localhost:8080/",
     "height": 515
    },
    "id": "Rq3LiSwEsHBx",
    "outputId": "631a7c1c-67a5-4951-d1da-5813515a35fd"
   },
   "outputs": [
    {
     "data": {
      "text/plain": [
       "Text(0.5, 1.0, 'Суммарная концентрация металлов в черновом концентрате')"
      ]
     },
     "execution_count": 32,
     "metadata": {},
     "output_type": "execute_result"
    },
    {
     "data": {
      "image/png": "[encoded data removed]",
      "text/plain": [
       "<Figure size 1152x576 with 1 Axes>"
      ]
     },
     "metadata": {
      "needs_background": "light"
     },
     "output_type": "display_data"
    }
   ],
   "source": [
    "#построим гистограмму для суммарной концентрации металлов в черновом концентрате\n",
    "plt.subplots(figsize = (16,8))\n",
    "sns.histplot(sum_r_conc, fill=True, bins=300, palette='coolwarm')\n",
    "plt.title('Суммарная концентрация металлов в черновом концентрате')"
   ]
  },
  {
   "cell_type": "code",
   "execution_count": 33,
   "metadata": {
    "id": "MWewKImSslUp"
   },
   "outputs": [],
   "source": [
    "# найдем суммарную концентрацию металлов (ag, pb, sol, au) в финальном концентрате\n",
    "sum_fin_conc = full[['final.output.concentrate_pb', \n",
    "                   'final.output.concentrate_ag', \n",
    "                   'final.output.concentrate_sol', \n",
    "                   'final.output.concentrate_au']].sum(axis=1)"
   ]
  },
  {
   "cell_type": "code",
   "execution_count": 34,
   "metadata": {
    "colab": {
     "base_uri": "https://localhost:8080/",
     "height": 515
    },
    "id": "HMwcG5PpsvJ6",
    "outputId": "6fdcd366-c2d3-4f31-aa72-8ab687f35326"
   },
   "outputs": [
    {
     "data": {
      "text/plain": [
       "Text(0.5, 1.0, 'Суммарная концентрация металлов в финальном концентрате')"
      ]
     },
     "execution_count": 34,
     "metadata": {},
     "output_type": "execute_result"
    },
    {
     "data": {
      "image/png": "[encoded data removed]",
      "text/plain": [
       "<Figure size 1152x576 with 1 Axes>"
      ]
     },
     "metadata": {
      "needs_background": "light"
     },
     "output_type": "display_data"
    }
   ],
   "source": [
    "#построим гистограмму для суммарной концентрации металлов в финальном концентрате\n",
    "plt.subplots(figsize = (16,8))\n",
    "sns.histplot(sum_fin_conc, fill=True, bins=300, palette='coolwarm')\n",
    "plt.title('Суммарная концентрация металлов в финальном концентрате')"
   ]
  },
  {
   "cell_type": "markdown",
   "metadata": {
    "id": "GHFTmWExOZTm"
   },
   "source": [
    "Мы видим, что аномалии в основном присутствуют на черновом этапе очистке, особенном много значений в районе нуля. На этапе сырья их почти нет, в финальном концентрате есть, но не так много как на черновом. Эти аномалии могут влиять на конечные рассчетные характеристики. Мы могли бы их удалить, но поскольку в тестовой выборке содержатся только признаки для сырья, а в них почти нет аномалий, это не имеет большого смысла."
   ]
  },
  {
   "cell_type": "markdown",
   "metadata": {},
   "source": [
    "<div class=\"alert alert-warning\">\n",
    "<h2> Комментарий ревьюера <a class=\"tocSkip\"></h2>\n",
    "<hr>\n",
    "<b>Можно дорботать:</b> Не согласен. Эти аномалии могли появиться в результате сбоя оборудования, значит нет гарантий, что остальные признаки правильные. Я бы удалил аномалии из-за этого.\n",
    "</div>"
   ]
  },
  {
   "cell_type": "markdown",
   "metadata": {
    "id": "e6W2Ki_pN3Uo"
   },
   "source": [
    "## Модель"
   ]
  },
  {
   "cell_type": "code",
   "execution_count": 35,
   "metadata": {
    "colab": {
     "base_uri": "https://localhost:8080/",
     "height": 201
    },
    "id": "VVq58G0LO43P",
    "outputId": "46701753-318f-4fb4-a7ff-cea7d8d9b4cc"
   },
   "outputs": [
    {
     "data": {
      "text/html": [
       "<div>\n",
       "<style scoped>\n",
       "    .dataframe tbody tr th:only-of-type {\n",
       "        vertical-align: middle;\n",
       "    }\n",
       "\n",
       "    .dataframe tbody tr th {\n",
       "        vertical-align: top;\n",
       "    }\n",
       "\n",
       "    .dataframe thead th {\n",
       "        text-align: right;\n",
       "    }\n",
       "</style>\n",
       "<table border=\"1\" class=\"dataframe\">\n",
       "  <thead>\n",
       "    <tr style=\"text-align: right;\">\n",
       "      <th></th>\n",
       "      <th>date</th>\n",
       "      <th>rougher.output.recovery</th>\n",
       "      <th>final.output.recovery</th>\n",
       "    </tr>\n",
       "  </thead>\n",
       "  <tbody>\n",
       "    <tr>\n",
       "      <th>0</th>\n",
       "      <td>2016-01-15 00:00:00</td>\n",
       "      <td>87.107763</td>\n",
       "      <td>70.541216</td>\n",
       "    </tr>\n",
       "    <tr>\n",
       "      <th>1</th>\n",
       "      <td>2016-01-15 01:00:00</td>\n",
       "      <td>86.843261</td>\n",
       "      <td>69.266198</td>\n",
       "    </tr>\n",
       "    <tr>\n",
       "      <th>2</th>\n",
       "      <td>2016-01-15 02:00:00</td>\n",
       "      <td>86.842308</td>\n",
       "      <td>68.116445</td>\n",
       "    </tr>\n",
       "    <tr>\n",
       "      <th>3</th>\n",
       "      <td>2016-01-15 03:00:00</td>\n",
       "      <td>87.226430</td>\n",
       "      <td>68.347543</td>\n",
       "    </tr>\n",
       "    <tr>\n",
       "      <th>4</th>\n",
       "      <td>2016-01-15 04:00:00</td>\n",
       "      <td>86.688794</td>\n",
       "      <td>66.927016</td>\n",
       "    </tr>\n",
       "  </tbody>\n",
       "</table>\n",
       "</div>"
      ],
      "text/plain": [
       "                  date  rougher.output.recovery  final.output.recovery\n",
       "0  2016-01-15 00:00:00                87.107763              70.541216\n",
       "1  2016-01-15 01:00:00                86.843261              69.266198\n",
       "2  2016-01-15 02:00:00                86.842308              68.116445\n",
       "3  2016-01-15 03:00:00                87.226430              68.347543\n",
       "4  2016-01-15 04:00:00                86.688794              66.927016"
      ]
     },
     "execution_count": 35,
     "metadata": {},
     "output_type": "execute_result"
    }
   ],
   "source": [
    "#создадим датасет для целевых признаков, недостающих в тестовой выборке\n",
    "df_target = full[['date', 'rougher.output.recovery', 'final.output.recovery']]\n",
    "df_target.head()"
   ]
  },
  {
   "cell_type": "code",
   "execution_count": 36,
   "metadata": {
    "id": "EeRZnOHNPrPZ"
   },
   "outputs": [],
   "source": [
    "#и добавим эти признаки в тестовую выборку из полной\n",
    "test = test.merge(df_target, how = 'left', on = 'date')"
   ]
  },
  {
   "cell_type": "code",
   "execution_count": 37,
   "metadata": {
    "id": "HJnyC9frRXeX"
   },
   "outputs": [],
   "source": [
    "# удалим столбец с датой\n",
    "test.drop(['date'], axis=1, inplace=True)"
   ]
  },
  {
   "cell_type": "code",
   "execution_count": 38,
   "metadata": {
    "id": "SWb9hW6TUWQn"
   },
   "outputs": [],
   "source": [
    "#удалим из тренировочной выборки те признаки, которых нет в тестовой\n",
    "train = train.drop(set(train.columns)-set(test.columns), axis=1)\n"
   ]
  },
  {
   "cell_type": "markdown",
   "metadata": {
    "id": "shuBcOb7484L"
   },
   "source": [
    "### 3.1 Напишем функцию для вычисления итоговой sMAPE"
   ]
  },
  {
   "cell_type": "code",
   "execution_count": 39,
   "metadata": {
    "id": "YXtc89oy5EnB"
   },
   "outputs": [],
   "source": [
    "# sMape - «симметричное среднее абсолютное процентное отклонение»\n",
    "# эта метрика похожа на MAE, но выражается не в абсолютных величинах, а в относительных. \n",
    "# Почему симметричная? Она одинаково учитывает масштаб и целевого признака, и предсказания.\n",
    "\n",
    "'''я использовала cross_val_score и cros_val_predict, чтобы сравнить результаты \n",
    "этих методов, поэтому у меня две функции для sMape'''\n",
    "\n",
    "def smape_total(target_rougher, predicted_rougher, target_final, predicted_final):\n",
    "  smape_rough = 1/len(target_rougher) * np.sum(2 * np.abs(\n",
    "      target_rougher - predicted_rougher) / (np.abs(target_rougher) + np.abs(predicted_rougher))*100)\n",
    "  smape_fin = 1/len(target_final) * np.sum(2 * np.abs(\n",
    "      target_final - predicted_final) / (np.abs(target_final) + np.abs(predicted_final))*100)\n",
    "  return (0.25*smape_rough) + (0.75*smape_fin)\n",
    "\n"
   ]
  },
  {
   "cell_type": "markdown",
   "metadata": {},
   "source": [
    "<div class=\"alert alert-warning\">\n",
    "<h2> Комментарий ревьюера <a class=\"tocSkip\"></h2>\n",
    "<hr>\n",
    "<b>Можно дорботать:</b>\n",
    "<a href=\"https://typethepipe.com/post/symmetric-mape-is-not-symmetric/\"> Объясняется, почему ошибка симметричная. </a>"
   ]
  },
  {
   "cell_type": "code",
   "execution_count": 40,
   "metadata": {
    "id": "DSvwAeiGkFJi"
   },
   "outputs": [],
   "source": [
    "def smape(target, predicted):\n",
    "  return 1/len(target) * np.sum(2 * np.abs(\n",
    "       target - predicted) / (np.abs(target) + np.abs(predicted))*100)\n",
    "def smape_final(rougher, final):\n",
    "  return 0.25*rougher + 0.75*final"
   ]
  },
  {
   "cell_type": "code",
   "execution_count": 41,
   "metadata": {
    "id": "R74jMhiU5E4p"
   },
   "outputs": [],
   "source": [
    "# выделим признаки на тренировочной выборке для чернового концентрата (rougher)\n",
    "features_train_r = train.filter(regex='^rougher',axis=1)\n",
    "features_train_r = features_train_r.drop(['rougher.output.recovery'], axis=1)\n",
    "target_train_r = train['rougher.output.recovery']\n",
    "\n",
    "# и для финального концентрата (final)\n",
    "features_train_f = train.drop(['rougher.output.recovery', 'final.output.recovery'], axis=1)\n",
    "target_train_f = train['final.output.recovery']\n",
    "\n",
    "# #выделим признаки на тестовой выборке для чернового концентрата (rougher)\n",
    "features_test_r = test.filter(regex='^rougher',axis=1)\n",
    "features_test_r = features_test_r.drop(['rougher.output.recovery'], axis=1)\n",
    "target_test_r = test['rougher.output.recovery']\n",
    "\n",
    "# и для финального концентрата (final)\n",
    "features_test_f = test.drop(['rougher.output.recovery', 'final.output.recovery'], axis=1)\n",
    "target_test_f = test['final.output.recovery']"
   ]
  },
  {
   "cell_type": "code",
   "execution_count": 42,
   "metadata": {
    "colab": {
     "base_uri": "https://localhost:8080/",
     "height": 148
    },
    "id": "737P1-WeKkZ0",
    "outputId": "1df25ece-d43d-4254-b2b9-d77f57f12419"
   },
   "outputs": [
    {
     "data": {
      "text/plain": [
       "(14149, 22)"
      ]
     },
     "metadata": {},
     "output_type": "display_data"
    },
    {
     "data": {
      "text/plain": [
       "(14149,)"
      ]
     },
     "metadata": {},
     "output_type": "display_data"
    },
    {
     "data": {
      "text/plain": [
       "(14149, 52)"
      ]
     },
     "metadata": {},
     "output_type": "display_data"
    },
    {
     "data": {
      "text/plain": [
       "(14149,)"
      ]
     },
     "metadata": {},
     "output_type": "display_data"
    },
    {
     "data": {
      "text/plain": [
       "(5290, 22)"
      ]
     },
     "metadata": {},
     "output_type": "display_data"
    },
    {
     "data": {
      "text/plain": [
       "(5290,)"
      ]
     },
     "metadata": {},
     "output_type": "display_data"
    },
    {
     "data": {
      "text/plain": [
       "(5290, 52)"
      ]
     },
     "metadata": {},
     "output_type": "display_data"
    },
    {
     "data": {
      "text/plain": [
       "(5290,)"
      ]
     },
     "metadata": {},
     "output_type": "display_data"
    }
   ],
   "source": [
    "# проверим размер признаков\n",
    "display(features_train_r.shape)\n",
    "display(target_train_r.shape)\n",
    "\n",
    "display(features_train_f.shape)\n",
    "display(target_train_f.shape)\n",
    "\n",
    "display(features_test_r.shape)\n",
    "display(target_test_r.shape)\n",
    "\n",
    "display(features_test_f.shape)\n",
    "display(target_test_f.shape)"
   ]
  },
  {
   "cell_type": "markdown",
   "metadata": {
    "id": "C3uTsnXSrsKx"
   },
   "source": [
    "### 3.2 Обучим и проверим несколько моделей"
   ]
  },
  {
   "cell_type": "code",
   "execution_count": 43,
   "metadata": {
    "colab": {
     "base_uri": "https://localhost:8080/"
    },
    "id": "b0I63KGOq2jP",
    "outputId": "280fc003-6a5a-4c33-fe5a-112d06a786d3"
   },
   "outputs": [],
   "source": [
    "# random_state = 12345\n",
    "# cv = 5\n",
    "# models = [LinearRegression(),\n",
    "#           DecisionTreeRegressor(random_state=random_state),\n",
    "#           RandomForestRegressor(random_state=random_state)]\n",
    "# results_cross_val = []\n",
    "\n",
    "# for model in models:\n",
    "#   scorer = make_scorer(smape, greater_is_better=False)\n",
    "#   cross_val_score_r = cross_val_score(model, features_train_r, target_train_r,\n",
    "#                                       cv=cv, scoring = scorer).mean()\n",
    "#   cross_val_score_f = cross_val_score(model, features_train_f, target_train_f,\n",
    "#                                       cv=cv, scoring = scorer).mean()\n",
    "#   results_cross_val.append({'Модель:': model.__class__.__name__,\n",
    "#                             'cross_val_score_r':cross_val_score_r,\n",
    "#                             'cross_val_score_f':cross_val_score_f})\n",
    "#   print(smape_final(cross_val_score_r, cross_val_score_f))\n",
    "# print(pd.DataFrame(results_cross_val))\n",
    "# print()"
   ]
  },
  {
   "cell_type": "code",
   "execution_count": 44,
   "metadata": {
    "colab": {
     "base_uri": "https://localhost:8080/"
    },
    "id": "-Pv7SA9EL5EK",
    "outputId": "467fa4a5-386d-41ef-8c59-33dbea4dca4d"
   },
   "outputs": [],
   "source": [
    "# построим модель для линейной регрессии и сделаем кросс-валидацию методом cross_val_predict\n",
    "# model = LinearRegression()\n",
    "# predicted_r = cross_val_predict(model, features_train_r, target_train_r, cv=5)\n",
    "# predicted_f = cross_val_predict(model, features_train_f, target_train_f, cv=5)\n",
    "# print('Итоговое sMape для линейной регрессии:', smape_total(target_train_r, predicted_r, target_train_f, predicted_f))\n"
   ]
  },
  {
   "cell_type": "code",
   "execution_count": 45,
   "metadata": {
    "colab": {
     "base_uri": "https://localhost:8080/"
    },
    "id": "LNH_efWNWAfU",
    "outputId": "01e1124f-f03a-45bf-ebe1-42109ece3112"
   },
   "outputs": [
    {
     "name": "stdout",
     "output_type": "stream",
     "text": [
      "Итоговое sMape для линейной регрессии: -12.087260472858084\n"
     ]
    }
   ],
   "source": [
    "# построим модель для линейной регрессии и сделаем кросс-валидацию методом cross_val_score\n",
    "model = LinearRegression()\n",
    "scorer = make_scorer(smape, greater_is_better=False)\n",
    "rougher_lin = cross_val_score(model, features_train_r, target_train_r, scoring=scorer, cv=5)\n",
    "final_lin =  cross_val_score(model, features_train_f, target_train_f, scoring=scorer, cv=5)\n",
    "print('Итоговое sMape для линейной регрессии:', smape_final(rougher_lin, final_lin).mean())"
   ]
  },
  {
   "cell_type": "code",
   "execution_count": 46,
   "metadata": {
    "colab": {
     "base_uri": "https://localhost:8080/"
    },
    "id": "pXn2pP7inBDR",
    "outputId": "c729249a-6e46-472d-9c5f-da02e3c88fcf"
   },
   "outputs": [],
   "source": [
    "# построим модель для решающего дерева и найдем наилучшие гиперпараметры\n",
    "# for depth in range(1, 22, 2):\n",
    "#     model2 = DecisionTreeRegressor(random_state=12345, max_depth = depth)\n",
    "#     predicted_r = cross_val_predict(model2, features_train_r, target_train_r, cv=5)\n",
    "#     predicted_f = cross_val_predict(model2, features_train_f, target_train_f, cv=5)\n",
    "#     print('Глубина:',depth)\n",
    "#     print('Итоговое sMAPE для решающего дерева:',smape_total(target_train_r, predicted_r, target_train_f, predicted_f))\n",
    "#     print('')\n",
    "# print()"
   ]
  },
  {
   "cell_type": "code",
   "execution_count": 47,
   "metadata": {
    "colab": {
     "base_uri": "https://localhost:8080/"
    },
    "id": "qkIzzYp7hI2z",
    "outputId": "609036c9-a9ac-4616-fe8a-62bd7610a148"
   },
   "outputs": [
    {
     "name": "stdout",
     "output_type": "stream",
     "text": [
      "Глубина: 1\n",
      "Итоговое sMAPE для решающего дерева: -11.398605696208332\n",
      "\n",
      "Глубина: 3\n",
      "Итоговое sMAPE для решающего дерева: -11.216765520639076\n",
      "\n",
      "Глубина: 5\n",
      "Итоговое sMAPE для решающего дерева: -11.775061129140564\n",
      "\n",
      "Глубина: 7\n",
      "Итоговое sMAPE для решающего дерева: -14.678428519798725\n",
      "\n",
      "Глубина: 9\n",
      "Итоговое sMAPE для решающего дерева: -17.560638989145485\n",
      "\n",
      "Глубина: 11\n",
      "Итоговое sMAPE для решающего дерева: -18.44119086914546\n",
      "\n",
      "\n"
     ]
    }
   ],
   "source": [
    "for depth in range(1, 12, 2):\n",
    "    model2 = DecisionTreeRegressor(random_state=12345, max_depth = depth)\n",
    "    scorer = make_scorer(smape, greater_is_better=False)\n",
    "    rougher_tree = cross_val_score(model2, features_train_r, target_train_r, scoring=scorer, cv=5)\n",
    "    final_tree = cross_val_score(model2, features_train_f, target_train_f, scoring=scorer, cv=5)\n",
    "    print('Глубина:',depth)\n",
    "    print('Итоговое sMAPE для решающего дерева:',smape_final(rougher_tree, final_tree).mean())\n",
    "    print('')\n",
    "print()"
   ]
  },
  {
   "cell_type": "code",
   "execution_count": 48,
   "metadata": {},
   "outputs": [],
   "source": [
    "# model=DecisionTreeRegressor(random_state=12345)\n",
    "# parameters={\"splitter\":[\"best\",\"random\"],\n",
    "#             \"max_depth\" : [1,3,5,7,9,11,12],\n",
    "#            \"min_samples_leaf\":[1,2,3,4,5,6,7,8,9,10],\n",
    "#            \"min_weight_fraction_leaf\":[0.1,0.2,0.3,0.4,0.5],\n",
    "#            \"max_features\":[\"auto\",\"log2\",\"sqrt\",None],\n",
    "#            \"max_leaf_nodes\":[None,10,20,30,40,50,60,70,80,90] }\n",
    "# tuning_model=GridSearchCV(model,param_grid=parameters,cv=3,verbose=3)\n",
    "# rougher_tree = cross_val_score(tuning_model, features_train_r, target_train_r, scoring=scorer, cv=5)\n",
    "# final_tree = cross_val_score(tuning_model, features_train_f, target_train_f, scoring=scorer, cv=5)\n",
    "# print('Итоговое sMAPE для решающего дерева:',smape_final(rougher_tree, final_tree).mean())\n",
    "\n",
    "\n"
   ]
  },
  {
   "cell_type": "markdown",
   "metadata": {
    "id": "FIH0-lXqKHBu"
   },
   "source": [
    "Наилучший результат sMape -11.2 при глубине 3. Этот результат лучше, чем у линейной регрессии."
   ]
  },
  {
   "cell_type": "markdown",
   "metadata": {},
   "source": [
    "<div class=\"alert alert-warning\">\n",
    "<h2> Комментарий ревьюера <a class=\"tocSkip\"></h2>\n",
    "<hr>\n",
    "<b>Можно дорботать:</b> Для поиска гипперпараметров при кросс-валидации можно воспользовать GridSearchCV.\n",
    "</div>"
   ]
  },
  {
   "cell_type": "markdown",
   "metadata": {},
   "source": [
    "<div class=\"alert alert-warning\">\n",
    "<h2> Комментарий ревьюера <a class=\"tocSkip\"></h2>\n",
    "<hr>\n",
    "<b>Можно дорботать:</b> Важно знать, что GridSearchCV пытается максимизировать метрику, а smape надо минимизировать. Можно пойти двумя путями. 1) Просто умножить нашу метрику на -1. Или использовать метод make_scorer из sklearn с аргументом greater_is_better=False.\n",
    "</div>"
   ]
  },
  {
   "cell_type": "markdown",
   "metadata": {},
   "source": [
    "<div class=\"alert alert-warning\">\n",
    "<h2> Комментарий ревьюера <a class=\"tocSkip\"></h2>\n",
    "<hr>    \n",
    "<b>Можно доработать:</b> Сразу небольшое дополнение, GridSearch(перебор параметров) не самый оптимальный способ подбора гипперпараметров, так как это перебор, а он долгий, а если модели сложные и данных много, то мы перебирать гипперпарметры будем оооочень долго. Есть техника по поиску гипперпараметров оптимальным образом, называется <a href=\"https://machinelearningmastery.com/what-is-bayesian-optimization/\"> Bayes Search </a>. Но тема достаточно сложная. Детали работы данного алгоритма я и сам до конца не понимаю, но вполне можно использовать в качестве черного ящика.\n",
    "</div>"
   ]
  },
  {
   "cell_type": "markdown",
   "metadata": {
    "id": "AaHxZaUwuBvU"
   },
   "source": [
    "### 3.3 Проверим лучшую модель на тестовой выборке"
   ]
  },
  {
   "cell_type": "code",
   "execution_count": 49,
   "metadata": {},
   "outputs": [
    {
     "name": "stdout",
     "output_type": "stream",
     "text": [
      "Итоговое sMAPE на тестовой выборке: 9.397953978076298\n"
     ]
    }
   ],
   "source": [
    "model_r = DecisionTreeRegressor(random_state=12345, max_depth = 3)\n",
    "model_f = DecisionTreeRegressor(random_state=12345, max_depth = 3)\n",
    "model_r.fit(features_train_r, target_train_r)\n",
    "model_f.fit(features_train_f, target_train_f)\n",
    "test_predictions_r = model_r.predict(features_test_r)\n",
    "test_predictions_f = model_f.predict(features_test_f)\n",
    "print('Итоговое sMAPE на тестовой выборке:',smape_total(\n",
    "    target_test_r, test_predictions_r, target_test_f, test_predictions_f).mean())"
   ]
  },
  {
   "cell_type": "markdown",
   "metadata": {},
   "source": [
    "### 3.4 Проверим модель на адекватность"
   ]
  },
  {
   "cell_type": "code",
   "execution_count": 50,
   "metadata": {
    "colab": {
     "base_uri": "https://localhost:8080/"
    },
    "id": "B9jw-gLKpwO5",
    "outputId": "5f9d00cc-0435-428d-88d3-d279d703f8e2"
   },
   "outputs": [
    {
     "name": "stdout",
     "output_type": "stream",
     "text": [
      "Итоговое sMAPE для DummyRegressor: 10.289630376021034\n"
     ]
    }
   ],
   "source": [
    "dummy_model_r = DummyRegressor(strategy=\"mean\")\n",
    "dummy_model_f = DummyRegressor(strategy=\"mean\")\n",
    "dummy_model_r.fit(features_train_r, target_train_r)\n",
    "dummy_model_f.fit(features_train_f, target_train_f)\n",
    "test_predictions_r = dummy_model_r.predict(features_test_r)\n",
    "test_predictions_f = dummy_model_f.predict(features_test_f)\n",
    "\n",
    "print('Итоговое sMAPE для DummyRegressor:',smape_total(\n",
    "    target_test_r, test_predictions_r, target_test_f, test_predictions_f).mean())"
   ]
  },
  {
   "cell_type": "markdown",
   "metadata": {
    "id": "arCYWtmRt1uo"
   },
   "source": [
    "Итак, минимальное значение sMape на тестовой выборке у решающего дерева (max_depth=3) -- 9.39. Этот результат лучше среднего, модель вменяема."
   ]
  },
  {
   "cell_type": "markdown",
   "metadata": {
    "id": "mvW5urgQMDVd"
   },
   "source": [
    "<div class=\"alert alert-warning\">\n",
    "<h2> Комментарий ревьюера <a class=\"tocSkip\"></h2>\n",
    "<hr>    \n",
    "<b>Можно доработать:</b> При проверке нам не нужно проводить кросс-валидацию. Используй метод transform, а потом посчитай метрику.\n",
    "</div>"
   ]
  },
  {
   "cell_type": "markdown",
   "metadata": {},
   "source": [
    "<div class=\"alert alert-warning\">\n",
    "<h2> Комментарий ревьюера <a class=\"tocSkip\"></h2>\n",
    "<hr>    \n",
    "<b>Можно доработать:</b> Можно добавить проверку на адекватность модели) Рекомендую ознакомиться с <a href=\"https://scikit-learn.org/stable/modules/generated/sklearn.dummy.DummyClassifier.html\">Dummy Models</a>. Это удобная обертка для константных моделей)\n",
    "</div>"
   ]
  },
  {
   "cell_type": "markdown",
   "metadata": {
    "id": "HHn8D32-N3Uq"
   },
   "source": [
    "## Чек-лист готовности проекта"
   ]
  },
  {
   "cell_type": "markdown",
   "metadata": {
    "id": "sNNQe9SVN3Ur"
   },
   "source": [
    "- [x]  Jupyter Notebook открыт\n",
    "- [ ]  Весь код выполняется без ошибок\n",
    "- [ ]  Ячейки с кодом расположены в порядке выполнения\n",
    "- [ ]  Выполнен шаг 1: данные подготовлены\n",
    "    - [ ]  Проверена формула вычисления эффективности обогащения\n",
    "    - [ ]  Проанализированы признаки, недоступные в тестовой выборке\n",
    "    - [ ]  Проведена предобработка данных\n",
    "- [ ]  Выполнен шаг 2: данные проанализированы\n",
    "    - [ ]  Исследовано изменение концентрации элементов на каждом этапе\n",
    "    - [ ]  Проанализированы распределения размеров гранул на обучающей и тестовой выборках\n",
    "    - [ ]  Исследованы суммарные концентрации\n",
    "- [ ]  Выполнен шаг 3: построена модель прогнозирования\n",
    "    - [ ]  Написана функция для вычисления итогового *sMAPE*\n",
    "    - [ ]  Обучено и проверено несколько моделей\n",
    "    - [ ]  Выбрана лучшая модель, её качество проверено на тестовой выборке"
   ]
  },
  {
   "cell_type": "markdown",
   "metadata": {},
   "source": [
    "<div class=\"alert alert-info\">\n",
    "<h2> Комментарий ревьюера <a class=\"tocSkip\"></h2>\n",
    "<hr>\n",
    "Так, вот что нужно сделать:\n",
    "<li> Dummy model</li>\n",
    "<li> Поправить скорер и добавить GridSearch</li>\n",
    "Проект отличный! Мне очень понравился) Молодец👍 По-желанию можно добавить XGBoost. Также советую посмотреть одну библиотеку для байсовского поиска гипперпараметров (Hyperopt)\n",
    "</div>"
   ]
  },
  {
   "cell_type": "markdown",
   "metadata": {},
   "source": [
    "<div class=\"alert alert-info\">\n",
    "<h2> Комментарий студента<a class=\"tocSkip\"></h2>\n",
    "<hr>  \n",
    "    Спасибо за комментарии!\n",
    "    \n",
    "    - Dummy model у меня есть. Я ее исправила и выделила отдельным пунктом\n",
    "    \n",
    "    - Скорер исправила\n",
    "    \n",
    "    - GridSearch добавила, но он работает очень медленно. Ждала большк 2 часов и не дождалась.\n",
    "    \n",
    "    - про transform не поняла\n",
    "</div>"
   ]
  },
  {
   "cell_type": "markdown",
   "metadata": {},
   "source": [
    "<div class=\"alert alert-info\">\n",
    "<h2> Комментарий ревьюера <a class=\"tocSkip\"></h2>\n",
    "<hr>\n",
    "Молодец👍 Проект принимаю) Про трансформ - это моя ошибка) Не обращай внимание на комментарий)\n",
    "</div>"
   ]
  }
 ],
 "metadata": {
  "ExecuteTimeLog": [
   {
    "duration": 475,
    "start_time": "2022-05-30T18:54:03.161Z"
   },
   {
    "duration": 0,
    "start_time": "2022-05-30T18:54:03.639Z"
   },
   {
    "duration": 0,
    "start_time": "2022-05-30T18:54:03.640Z"
   },
   {
    "duration": 0,
    "start_time": "2022-05-30T18:54:03.641Z"
   },
   {
    "duration": 0,
    "start_time": "2022-05-30T18:54:03.642Z"
   },
   {
    "duration": 0,
    "start_time": "2022-05-30T18:54:03.643Z"
   },
   {
    "duration": 0,
    "start_time": "2022-05-30T18:54:03.644Z"
   },
   {
    "duration": 0,
    "start_time": "2022-05-30T18:54:03.646Z"
   },
   {
    "duration": 0,
    "start_time": "2022-05-30T18:54:03.647Z"
   },
   {
    "duration": 0,
    "start_time": "2022-05-30T18:54:03.648Z"
   },
   {
    "duration": 0,
    "start_time": "2022-05-30T18:54:03.649Z"
   },
   {
    "duration": 0,
    "start_time": "2022-05-30T18:54:03.651Z"
   },
   {
    "duration": 0,
    "start_time": "2022-05-30T18:54:03.652Z"
   },
   {
    "duration": 0,
    "start_time": "2022-05-30T18:54:03.653Z"
   },
   {
    "duration": 0,
    "start_time": "2022-05-30T18:54:03.654Z"
   },
   {
    "duration": 0,
    "start_time": "2022-05-30T18:54:03.655Z"
   },
   {
    "duration": 0,
    "start_time": "2022-05-30T18:54:03.656Z"
   },
   {
    "duration": 0,
    "start_time": "2022-05-30T18:54:03.658Z"
   },
   {
    "duration": 0,
    "start_time": "2022-05-30T18:54:03.659Z"
   },
   {
    "duration": 0,
    "start_time": "2022-05-30T18:54:03.691Z"
   },
   {
    "duration": 0,
    "start_time": "2022-05-30T18:54:03.693Z"
   },
   {
    "duration": 0,
    "start_time": "2022-05-30T18:54:03.694Z"
   },
   {
    "duration": 0,
    "start_time": "2022-05-30T18:54:03.695Z"
   },
   {
    "duration": 0,
    "start_time": "2022-05-30T18:54:03.696Z"
   },
   {
    "duration": 0,
    "start_time": "2022-05-30T18:54:03.696Z"
   },
   {
    "duration": 0,
    "start_time": "2022-05-30T18:54:03.697Z"
   },
   {
    "duration": 0,
    "start_time": "2022-05-30T18:54:03.698Z"
   },
   {
    "duration": 0,
    "start_time": "2022-05-30T18:54:03.699Z"
   },
   {
    "duration": 0,
    "start_time": "2022-05-30T18:54:03.700Z"
   },
   {
    "duration": 0,
    "start_time": "2022-05-30T18:54:03.701Z"
   },
   {
    "duration": 0,
    "start_time": "2022-05-30T18:54:03.702Z"
   },
   {
    "duration": 0,
    "start_time": "2022-05-30T18:54:03.703Z"
   },
   {
    "duration": 0,
    "start_time": "2022-05-30T18:54:03.704Z"
   },
   {
    "duration": 0,
    "start_time": "2022-05-30T18:54:03.705Z"
   },
   {
    "duration": 0,
    "start_time": "2022-05-30T18:54:03.707Z"
   },
   {
    "duration": 0,
    "start_time": "2022-05-30T18:54:03.708Z"
   },
   {
    "duration": 0,
    "start_time": "2022-05-30T18:54:03.709Z"
   },
   {
    "duration": 0,
    "start_time": "2022-05-30T18:54:03.710Z"
   },
   {
    "duration": 0,
    "start_time": "2022-05-30T18:54:03.711Z"
   },
   {
    "duration": 0,
    "start_time": "2022-05-30T18:54:03.712Z"
   },
   {
    "duration": 0,
    "start_time": "2022-05-30T18:54:03.714Z"
   },
   {
    "duration": 0,
    "start_time": "2022-05-30T18:54:03.715Z"
   },
   {
    "duration": 0,
    "start_time": "2022-05-30T18:54:03.716Z"
   },
   {
    "duration": 0,
    "start_time": "2022-05-30T18:54:03.718Z"
   },
   {
    "duration": 0,
    "start_time": "2022-05-30T18:54:03.719Z"
   },
   {
    "duration": 0,
    "start_time": "2022-05-30T18:54:03.720Z"
   },
   {
    "duration": 0,
    "start_time": "2022-05-30T18:54:03.721Z"
   },
   {
    "duration": 0,
    "start_time": "2022-05-30T18:54:03.722Z"
   },
   {
    "duration": 12613,
    "start_time": "2022-05-30T18:54:36.478Z"
   },
   {
    "duration": 1716,
    "start_time": "2022-05-30T18:54:49.093Z"
   },
   {
    "duration": 3009,
    "start_time": "2022-05-30T18:54:50.811Z"
   },
   {
    "duration": 40,
    "start_time": "2022-05-30T18:54:53.822Z"
   },
   {
    "duration": 550,
    "start_time": "2022-05-30T18:54:53.864Z"
   },
   {
    "duration": 45,
    "start_time": "2022-05-30T18:54:54.415Z"
   },
   {
    "duration": 2,
    "start_time": "2022-05-30T18:54:54.462Z"
   },
   {
    "duration": 27,
    "start_time": "2022-05-30T18:54:54.465Z"
   },
   {
    "duration": 4,
    "start_time": "2022-05-30T18:54:54.494Z"
   },
   {
    "duration": 5,
    "start_time": "2022-05-30T18:54:54.499Z"
   },
   {
    "duration": 15,
    "start_time": "2022-05-30T18:54:54.506Z"
   },
   {
    "duration": 4,
    "start_time": "2022-05-30T18:54:54.522Z"
   },
   {
    "duration": 19,
    "start_time": "2022-05-30T18:54:54.527Z"
   },
   {
    "duration": 11,
    "start_time": "2022-05-30T18:54:54.549Z"
   },
   {
    "duration": 42,
    "start_time": "2022-05-30T18:54:54.562Z"
   },
   {
    "duration": 120,
    "start_time": "2022-05-30T18:54:54.605Z"
   },
   {
    "duration": 89,
    "start_time": "2022-05-30T18:54:54.727Z"
   },
   {
    "duration": 26,
    "start_time": "2022-05-30T18:54:54.817Z"
   },
   {
    "duration": 4,
    "start_time": "2022-05-30T18:54:54.845Z"
   },
   {
    "duration": 6,
    "start_time": "2022-05-30T18:54:54.851Z"
   },
   {
    "duration": 9,
    "start_time": "2022-05-30T18:54:54.858Z"
   },
   {
    "duration": 400,
    "start_time": "2022-05-30T18:54:54.868Z"
   },
   {
    "duration": 771,
    "start_time": "2022-05-30T18:54:55.270Z"
   },
   {
    "duration": 8,
    "start_time": "2022-05-30T18:54:56.042Z"
   },
   {
    "duration": 8,
    "start_time": "2022-05-30T18:54:56.051Z"
   },
   {
    "duration": 4,
    "start_time": "2022-05-30T18:54:56.060Z"
   },
   {
    "duration": 27,
    "start_time": "2022-05-30T18:54:56.065Z"
   },
   {
    "duration": 4,
    "start_time": "2022-05-30T18:54:56.094Z"
   },
   {
    "duration": 6,
    "start_time": "2022-05-30T18:54:56.099Z"
   },
   {
    "duration": 507,
    "start_time": "2022-05-30T18:54:56.106Z"
   },
   {
    "duration": 5,
    "start_time": "2022-05-30T18:54:56.614Z"
   },
   {
    "duration": 504,
    "start_time": "2022-05-30T18:54:56.620Z"
   },
   {
    "duration": 5,
    "start_time": "2022-05-30T18:54:57.126Z"
   },
   {
    "duration": 660,
    "start_time": "2022-05-30T18:54:57.133Z"
   },
   {
    "duration": 9,
    "start_time": "2022-05-30T18:54:57.795Z"
   },
   {
    "duration": 17,
    "start_time": "2022-05-30T18:54:57.805Z"
   },
   {
    "duration": 6,
    "start_time": "2022-05-30T18:54:57.823Z"
   },
   {
    "duration": 5,
    "start_time": "2022-05-30T18:54:57.830Z"
   },
   {
    "duration": 5,
    "start_time": "2022-05-30T18:54:57.836Z"
   },
   {
    "duration": 5,
    "start_time": "2022-05-30T18:54:57.842Z"
   },
   {
    "duration": 14,
    "start_time": "2022-05-30T18:54:57.851Z"
   },
   {
    "duration": 12,
    "start_time": "2022-05-30T18:54:57.892Z"
   },
   {
    "duration": 372453,
    "start_time": "2022-05-30T18:54:57.906Z"
   },
   {
    "duration": 2539,
    "start_time": "2022-05-30T19:01:10.361Z"
   },
   {
    "duration": 2286,
    "start_time": "2022-05-30T19:01:12.906Z"
   },
   {
    "duration": 37985,
    "start_time": "2022-05-30T19:01:15.194Z"
   },
   {
    "duration": 39423,
    "start_time": "2022-05-30T19:01:53.180Z"
   },
   {
    "duration": 459,
    "start_time": "2022-05-30T19:02:32.604Z"
   },
   {
    "duration": 41,
    "start_time": "2022-05-30T19:02:33.064Z"
   },
   {
    "duration": 57,
    "start_time": "2022-05-31T14:20:24.705Z"
   },
   {
    "duration": 3,
    "start_time": "2022-05-31T14:20:48.337Z"
   },
   {
    "duration": 505,
    "start_time": "2022-05-31T14:20:48.342Z"
   },
   {
    "duration": 0,
    "start_time": "2022-05-31T14:20:48.850Z"
   },
   {
    "duration": 0,
    "start_time": "2022-05-31T14:20:48.851Z"
   },
   {
    "duration": 0,
    "start_time": "2022-05-31T14:20:48.852Z"
   },
   {
    "duration": 0,
    "start_time": "2022-05-31T14:20:48.853Z"
   },
   {
    "duration": 0,
    "start_time": "2022-05-31T14:20:48.854Z"
   },
   {
    "duration": 0,
    "start_time": "2022-05-31T14:20:48.855Z"
   },
   {
    "duration": 0,
    "start_time": "2022-05-31T14:20:48.856Z"
   },
   {
    "duration": 0,
    "start_time": "2022-05-31T14:20:48.857Z"
   },
   {
    "duration": 0,
    "start_time": "2022-05-31T14:20:48.858Z"
   },
   {
    "duration": 0,
    "start_time": "2022-05-31T14:20:48.859Z"
   },
   {
    "duration": 0,
    "start_time": "2022-05-31T14:20:48.860Z"
   },
   {
    "duration": 0,
    "start_time": "2022-05-31T14:20:48.861Z"
   },
   {
    "duration": 0,
    "start_time": "2022-05-31T14:20:48.862Z"
   },
   {
    "duration": 0,
    "start_time": "2022-05-31T14:20:48.862Z"
   },
   {
    "duration": 0,
    "start_time": "2022-05-31T14:20:48.863Z"
   },
   {
    "duration": 0,
    "start_time": "2022-05-31T14:20:48.864Z"
   },
   {
    "duration": 0,
    "start_time": "2022-05-31T14:20:48.865Z"
   },
   {
    "duration": 0,
    "start_time": "2022-05-31T14:20:48.866Z"
   },
   {
    "duration": 1,
    "start_time": "2022-05-31T14:20:48.867Z"
   },
   {
    "duration": 0,
    "start_time": "2022-05-31T14:20:48.868Z"
   },
   {
    "duration": 0,
    "start_time": "2022-05-31T14:20:48.869Z"
   },
   {
    "duration": 0,
    "start_time": "2022-05-31T14:20:48.870Z"
   },
   {
    "duration": 0,
    "start_time": "2022-05-31T14:20:48.872Z"
   },
   {
    "duration": 0,
    "start_time": "2022-05-31T14:20:48.873Z"
   },
   {
    "duration": 0,
    "start_time": "2022-05-31T14:20:48.873Z"
   },
   {
    "duration": 0,
    "start_time": "2022-05-31T14:20:48.874Z"
   },
   {
    "duration": 0,
    "start_time": "2022-05-31T14:20:48.875Z"
   },
   {
    "duration": 0,
    "start_time": "2022-05-31T14:20:48.876Z"
   },
   {
    "duration": 0,
    "start_time": "2022-05-31T14:20:48.877Z"
   },
   {
    "duration": 0,
    "start_time": "2022-05-31T14:20:48.878Z"
   },
   {
    "duration": 0,
    "start_time": "2022-05-31T14:20:48.881Z"
   },
   {
    "duration": 0,
    "start_time": "2022-05-31T14:20:48.882Z"
   },
   {
    "duration": 0,
    "start_time": "2022-05-31T14:20:48.882Z"
   },
   {
    "duration": 0,
    "start_time": "2022-05-31T14:20:48.927Z"
   },
   {
    "duration": 0,
    "start_time": "2022-05-31T14:20:48.928Z"
   },
   {
    "duration": 0,
    "start_time": "2022-05-31T14:20:48.929Z"
   },
   {
    "duration": 0,
    "start_time": "2022-05-31T14:20:48.930Z"
   },
   {
    "duration": 0,
    "start_time": "2022-05-31T14:20:48.931Z"
   },
   {
    "duration": 0,
    "start_time": "2022-05-31T14:20:48.933Z"
   },
   {
    "duration": 0,
    "start_time": "2022-05-31T14:20:48.934Z"
   },
   {
    "duration": 0,
    "start_time": "2022-05-31T14:20:48.934Z"
   },
   {
    "duration": 0,
    "start_time": "2022-05-31T14:20:48.935Z"
   },
   {
    "duration": 0,
    "start_time": "2022-05-31T14:20:48.936Z"
   },
   {
    "duration": 0,
    "start_time": "2022-05-31T14:20:48.937Z"
   },
   {
    "duration": 0,
    "start_time": "2022-05-31T14:20:48.938Z"
   },
   {
    "duration": 0,
    "start_time": "2022-05-31T14:20:48.939Z"
   },
   {
    "duration": 0,
    "start_time": "2022-05-31T14:20:48.940Z"
   },
   {
    "duration": 0,
    "start_time": "2022-05-31T14:20:48.942Z"
   },
   {
    "duration": 4,
    "start_time": "2022-05-31T14:21:42.689Z"
   },
   {
    "duration": 1527,
    "start_time": "2022-05-31T14:21:42.695Z"
   },
   {
    "duration": 3199,
    "start_time": "2022-05-31T14:21:44.224Z"
   },
   {
    "duration": 45,
    "start_time": "2022-05-31T14:21:47.425Z"
   },
   {
    "duration": 646,
    "start_time": "2022-05-31T14:21:47.472Z"
   },
   {
    "duration": 86,
    "start_time": "2022-05-31T14:21:48.120Z"
   },
   {
    "duration": 3,
    "start_time": "2022-05-31T14:21:48.227Z"
   },
   {
    "duration": 16,
    "start_time": "2022-05-31T14:21:48.232Z"
   },
   {
    "duration": 5,
    "start_time": "2022-05-31T14:21:48.250Z"
   },
   {
    "duration": 17,
    "start_time": "2022-05-31T14:21:48.256Z"
   },
   {
    "duration": 24,
    "start_time": "2022-05-31T14:21:48.275Z"
   },
   {
    "duration": 6,
    "start_time": "2022-05-31T14:21:48.300Z"
   },
   {
    "duration": 46,
    "start_time": "2022-05-31T14:21:48.307Z"
   },
   {
    "duration": 17,
    "start_time": "2022-05-31T14:21:48.358Z"
   },
   {
    "duration": 54,
    "start_time": "2022-05-31T14:21:48.378Z"
   },
   {
    "duration": 162,
    "start_time": "2022-05-31T14:21:48.434Z"
   },
   {
    "duration": 116,
    "start_time": "2022-05-31T14:21:48.598Z"
   },
   {
    "duration": 32,
    "start_time": "2022-05-31T14:21:48.716Z"
   },
   {
    "duration": 5,
    "start_time": "2022-05-31T14:21:48.750Z"
   },
   {
    "duration": 18,
    "start_time": "2022-05-31T14:21:48.757Z"
   },
   {
    "duration": 26,
    "start_time": "2022-05-31T14:21:48.777Z"
   },
   {
    "duration": 447,
    "start_time": "2022-05-31T14:21:48.805Z"
   },
   {
    "duration": 878,
    "start_time": "2022-05-31T14:21:49.253Z"
   },
   {
    "duration": 12,
    "start_time": "2022-05-31T14:21:50.133Z"
   },
   {
    "duration": 11,
    "start_time": "2022-05-31T14:21:50.148Z"
   },
   {
    "duration": 24,
    "start_time": "2022-05-31T14:21:50.164Z"
   },
   {
    "duration": 15,
    "start_time": "2022-05-31T14:21:50.190Z"
   },
   {
    "duration": 13,
    "start_time": "2022-05-31T14:21:50.207Z"
   },
   {
    "duration": 19,
    "start_time": "2022-05-31T14:21:50.226Z"
   },
   {
    "duration": 578,
    "start_time": "2022-05-31T14:21:50.246Z"
   },
   {
    "duration": 5,
    "start_time": "2022-05-31T14:21:50.826Z"
   },
   {
    "duration": 585,
    "start_time": "2022-05-31T14:21:50.833Z"
   },
   {
    "duration": 8,
    "start_time": "2022-05-31T14:21:51.421Z"
   },
   {
    "duration": 751,
    "start_time": "2022-05-31T14:21:51.431Z"
   },
   {
    "duration": 9,
    "start_time": "2022-05-31T14:21:52.184Z"
   },
   {
    "duration": 17,
    "start_time": "2022-05-31T14:21:52.195Z"
   },
   {
    "duration": 8,
    "start_time": "2022-05-31T14:21:52.226Z"
   },
   {
    "duration": 7,
    "start_time": "2022-05-31T14:21:52.236Z"
   },
   {
    "duration": 6,
    "start_time": "2022-05-31T14:21:52.245Z"
   },
   {
    "duration": 10,
    "start_time": "2022-05-31T14:21:52.252Z"
   },
   {
    "duration": 26,
    "start_time": "2022-05-31T14:21:52.267Z"
   },
   {
    "duration": 41,
    "start_time": "2022-05-31T14:21:52.295Z"
   },
   {
    "duration": 4,
    "start_time": "2022-05-31T14:24:02.670Z"
   },
   {
    "duration": 1345,
    "start_time": "2022-05-31T14:24:02.676Z"
   },
   {
    "duration": 752,
    "start_time": "2022-05-31T14:24:04.023Z"
   },
   {
    "duration": 60,
    "start_time": "2022-05-31T14:24:04.777Z"
   },
   {
    "duration": 645,
    "start_time": "2022-05-31T14:24:04.839Z"
   },
   {
    "duration": 65,
    "start_time": "2022-05-31T14:24:05.486Z"
   },
   {
    "duration": 3,
    "start_time": "2022-05-31T14:24:05.553Z"
   },
   {
    "duration": 13,
    "start_time": "2022-05-31T14:24:05.557Z"
   },
   {
    "duration": 10,
    "start_time": "2022-05-31T14:24:05.572Z"
   },
   {
    "duration": 5,
    "start_time": "2022-05-31T14:24:05.584Z"
   },
   {
    "duration": 38,
    "start_time": "2022-05-31T14:24:05.592Z"
   },
   {
    "duration": 6,
    "start_time": "2022-05-31T14:24:05.632Z"
   },
   {
    "duration": 33,
    "start_time": "2022-05-31T14:24:05.639Z"
   },
   {
    "duration": 16,
    "start_time": "2022-05-31T14:24:05.674Z"
   },
   {
    "duration": 65,
    "start_time": "2022-05-31T14:24:05.693Z"
   },
   {
    "duration": 153,
    "start_time": "2022-05-31T14:24:05.761Z"
   },
   {
    "duration": 102,
    "start_time": "2022-05-31T14:24:05.915Z"
   },
   {
    "duration": 32,
    "start_time": "2022-05-31T14:24:06.018Z"
   },
   {
    "duration": 5,
    "start_time": "2022-05-31T14:24:06.052Z"
   },
   {
    "duration": 12,
    "start_time": "2022-05-31T14:24:06.059Z"
   },
   {
    "duration": 8,
    "start_time": "2022-05-31T14:24:06.073Z"
   },
   {
    "duration": 434,
    "start_time": "2022-05-31T14:24:06.082Z"
   },
   {
    "duration": 851,
    "start_time": "2022-05-31T14:24:06.517Z"
   },
   {
    "duration": 10,
    "start_time": "2022-05-31T14:24:07.370Z"
   },
   {
    "duration": 9,
    "start_time": "2022-05-31T14:24:07.381Z"
   },
   {
    "duration": 5,
    "start_time": "2022-05-31T14:24:07.392Z"
   },
   {
    "duration": 30,
    "start_time": "2022-05-31T14:24:07.400Z"
   },
   {
    "duration": 9,
    "start_time": "2022-05-31T14:24:07.432Z"
   },
   {
    "duration": 11,
    "start_time": "2022-05-31T14:24:07.445Z"
   },
   {
    "duration": 562,
    "start_time": "2022-05-31T14:24:07.457Z"
   },
   {
    "duration": 7,
    "start_time": "2022-05-31T14:24:08.021Z"
   },
   {
    "duration": 607,
    "start_time": "2022-05-31T14:24:08.030Z"
   },
   {
    "duration": 6,
    "start_time": "2022-05-31T14:24:08.639Z"
   },
   {
    "duration": 709,
    "start_time": "2022-05-31T14:24:08.647Z"
   },
   {
    "duration": 10,
    "start_time": "2022-05-31T14:24:09.358Z"
   },
   {
    "duration": 33,
    "start_time": "2022-05-31T14:24:09.369Z"
   },
   {
    "duration": 14,
    "start_time": "2022-05-31T14:24:09.404Z"
   },
   {
    "duration": 31,
    "start_time": "2022-05-31T14:24:09.419Z"
   },
   {
    "duration": 44,
    "start_time": "2022-05-31T14:24:09.452Z"
   },
   {
    "duration": 27,
    "start_time": "2022-05-31T14:24:09.498Z"
   },
   {
    "duration": 49,
    "start_time": "2022-05-31T14:24:09.527Z"
   },
   {
    "duration": 38,
    "start_time": "2022-05-31T14:24:09.578Z"
   },
   {
    "duration": 22,
    "start_time": "2022-05-31T14:24:09.617Z"
   },
   {
    "duration": 3100,
    "start_time": "2022-05-31T14:24:09.641Z"
   },
   {
    "duration": 3491,
    "start_time": "2022-05-31T14:24:12.746Z"
   },
   {
    "duration": 42470,
    "start_time": "2022-05-31T14:24:16.240Z"
   },
   {
    "duration": 43053,
    "start_time": "2022-05-31T14:24:58.712Z"
   },
   {
    "duration": 5,
    "start_time": "2022-05-31T14:25:41.767Z"
   },
   {
    "duration": 2242,
    "start_time": "2022-05-31T14:25:41.774Z"
   },
   {
    "duration": 46,
    "start_time": "2022-05-31T14:25:44.020Z"
   },
   {
    "duration": 132,
    "start_time": "2022-05-31T14:37:34.196Z"
   },
   {
    "duration": 12,
    "start_time": "2022-05-31T14:42:18.218Z"
   },
   {
    "duration": 328,
    "start_time": "2022-05-31T14:42:53.841Z"
   },
   {
    "duration": 334,
    "start_time": "2022-05-31T14:43:36.218Z"
   },
   {
    "duration": 349,
    "start_time": "2022-05-31T14:44:24.335Z"
   },
   {
    "duration": 368,
    "start_time": "2022-05-31T14:46:18.392Z"
   },
   {
    "duration": 325,
    "start_time": "2022-05-31T15:07:33.197Z"
   },
   {
    "duration": 14,
    "start_time": "2022-05-31T15:09:51.684Z"
   },
   {
    "duration": 13,
    "start_time": "2022-05-31T15:10:01.572Z"
   },
   {
    "duration": 10,
    "start_time": "2022-05-31T15:10:25.672Z"
   },
   {
    "duration": 330,
    "start_time": "2022-05-31T15:12:24.788Z"
   },
   {
    "duration": 4,
    "start_time": "2022-05-31T15:55:08.006Z"
   },
   {
    "duration": 15,
    "start_time": "2022-05-31T15:58:54.664Z"
   },
   {
    "duration": 19,
    "start_time": "2022-05-31T15:59:34.706Z"
   },
   {
    "duration": 5,
    "start_time": "2022-05-31T16:07:47.152Z"
   },
   {
    "duration": 1268,
    "start_time": "2022-05-31T16:07:47.159Z"
   },
   {
    "duration": 756,
    "start_time": "2022-05-31T16:07:48.429Z"
   },
   {
    "duration": 53,
    "start_time": "2022-05-31T16:07:49.187Z"
   },
   {
    "duration": 616,
    "start_time": "2022-05-31T16:07:49.242Z"
   },
   {
    "duration": 52,
    "start_time": "2022-05-31T16:07:49.859Z"
   },
   {
    "duration": 14,
    "start_time": "2022-05-31T16:07:49.913Z"
   },
   {
    "duration": 11,
    "start_time": "2022-05-31T16:07:49.929Z"
   },
   {
    "duration": 4,
    "start_time": "2022-05-31T16:07:49.941Z"
   },
   {
    "duration": 6,
    "start_time": "2022-05-31T16:07:49.948Z"
   },
   {
    "duration": 17,
    "start_time": "2022-05-31T16:07:49.955Z"
   },
   {
    "duration": 4,
    "start_time": "2022-05-31T16:07:49.974Z"
   },
   {
    "duration": 53,
    "start_time": "2022-05-31T16:07:49.979Z"
   },
   {
    "duration": 14,
    "start_time": "2022-05-31T16:07:50.033Z"
   },
   {
    "duration": 28,
    "start_time": "2022-05-31T16:07:50.048Z"
   },
   {
    "duration": 138,
    "start_time": "2022-05-31T16:07:50.077Z"
   },
   {
    "duration": 95,
    "start_time": "2022-05-31T16:07:50.216Z"
   },
   {
    "duration": 31,
    "start_time": "2022-05-31T16:07:50.313Z"
   },
   {
    "duration": 4,
    "start_time": "2022-05-31T16:07:50.346Z"
   },
   {
    "duration": 21,
    "start_time": "2022-05-31T16:07:50.351Z"
   },
   {
    "duration": 7,
    "start_time": "2022-05-31T16:07:50.374Z"
   },
   {
    "duration": 396,
    "start_time": "2022-05-31T16:07:50.382Z"
   },
   {
    "duration": 916,
    "start_time": "2022-05-31T16:07:50.779Z"
   },
   {
    "duration": 10,
    "start_time": "2022-05-31T16:07:51.697Z"
   },
   {
    "duration": 22,
    "start_time": "2022-05-31T16:07:51.711Z"
   },
   {
    "duration": 9,
    "start_time": "2022-05-31T16:07:51.735Z"
   },
   {
    "duration": 13,
    "start_time": "2022-05-31T16:07:51.747Z"
   },
   {
    "duration": 13,
    "start_time": "2022-05-31T16:07:51.764Z"
   },
   {
    "duration": 14,
    "start_time": "2022-05-31T16:07:51.779Z"
   },
   {
    "duration": 615,
    "start_time": "2022-05-31T16:07:51.796Z"
   },
   {
    "duration": 5,
    "start_time": "2022-05-31T16:07:52.414Z"
   },
   {
    "duration": 532,
    "start_time": "2022-05-31T16:07:52.432Z"
   },
   {
    "duration": 5,
    "start_time": "2022-05-31T16:07:52.965Z"
   },
   {
    "duration": 673,
    "start_time": "2022-05-31T16:07:52.972Z"
   },
   {
    "duration": 10,
    "start_time": "2022-05-31T16:07:53.647Z"
   },
   {
    "duration": 24,
    "start_time": "2022-05-31T16:07:53.659Z"
   },
   {
    "duration": 20,
    "start_time": "2022-05-31T16:07:53.685Z"
   },
   {
    "duration": 13,
    "start_time": "2022-05-31T16:07:53.706Z"
   },
   {
    "duration": 12,
    "start_time": "2022-05-31T16:07:53.721Z"
   },
   {
    "duration": 37,
    "start_time": "2022-05-31T16:07:53.735Z"
   },
   {
    "duration": 37,
    "start_time": "2022-05-31T16:07:53.774Z"
   },
   {
    "duration": 36,
    "start_time": "2022-05-31T16:07:53.813Z"
   },
   {
    "duration": 25,
    "start_time": "2022-05-31T16:07:53.851Z"
   },
   {
    "duration": 2159,
    "start_time": "2022-05-31T16:07:53.877Z"
   },
   {
    "duration": 2103,
    "start_time": "2022-05-31T16:07:56.128Z"
   },
   {
    "duration": 93,
    "start_time": "2022-05-31T16:07:58.234Z"
   },
   {
    "duration": 41274,
    "start_time": "2022-05-31T16:07:58.329Z"
   },
   {
    "duration": 39786,
    "start_time": "2022-05-31T16:08:39.605Z"
   },
   {
    "duration": 3,
    "start_time": "2022-05-31T16:15:04.802Z"
   },
   {
    "duration": 1369,
    "start_time": "2022-05-31T16:15:04.807Z"
   },
   {
    "duration": 773,
    "start_time": "2022-05-31T16:15:06.178Z"
   },
   {
    "duration": 74,
    "start_time": "2022-05-31T16:15:06.952Z"
   },
   {
    "duration": 658,
    "start_time": "2022-05-31T16:15:07.029Z"
   },
   {
    "duration": 67,
    "start_time": "2022-05-31T16:15:07.689Z"
   },
   {
    "duration": 3,
    "start_time": "2022-05-31T16:15:07.757Z"
   },
   {
    "duration": 19,
    "start_time": "2022-05-31T16:15:07.761Z"
   },
   {
    "duration": 11,
    "start_time": "2022-05-31T16:15:07.781Z"
   },
   {
    "duration": 12,
    "start_time": "2022-05-31T16:15:07.793Z"
   },
   {
    "duration": 28,
    "start_time": "2022-05-31T16:15:07.807Z"
   },
   {
    "duration": 5,
    "start_time": "2022-05-31T16:15:07.837Z"
   },
   {
    "duration": 22,
    "start_time": "2022-05-31T16:15:07.843Z"
   },
   {
    "duration": 12,
    "start_time": "2022-05-31T16:15:07.867Z"
   },
   {
    "duration": 51,
    "start_time": "2022-05-31T16:15:07.881Z"
   },
   {
    "duration": 130,
    "start_time": "2022-05-31T16:15:07.934Z"
   },
   {
    "duration": 105,
    "start_time": "2022-05-31T16:15:08.066Z"
   },
   {
    "duration": 26,
    "start_time": "2022-05-31T16:15:08.173Z"
   },
   {
    "duration": 25,
    "start_time": "2022-05-31T16:15:08.202Z"
   },
   {
    "duration": 10,
    "start_time": "2022-05-31T16:15:08.230Z"
   },
   {
    "duration": 14,
    "start_time": "2022-05-31T16:15:08.243Z"
   },
   {
    "duration": 444,
    "start_time": "2022-05-31T16:15:08.259Z"
   },
   {
    "duration": 907,
    "start_time": "2022-05-31T16:15:08.705Z"
   },
   {
    "duration": 15,
    "start_time": "2022-05-31T16:15:09.613Z"
   },
   {
    "duration": 7,
    "start_time": "2022-05-31T16:15:09.630Z"
   },
   {
    "duration": 4,
    "start_time": "2022-05-31T16:15:09.639Z"
   },
   {
    "duration": 7,
    "start_time": "2022-05-31T16:15:09.645Z"
   },
   {
    "duration": 8,
    "start_time": "2022-05-31T16:15:09.654Z"
   },
   {
    "duration": 11,
    "start_time": "2022-05-31T16:15:09.665Z"
   },
   {
    "duration": 596,
    "start_time": "2022-05-31T16:15:09.678Z"
   },
   {
    "duration": 6,
    "start_time": "2022-05-31T16:15:10.276Z"
   },
   {
    "duration": 573,
    "start_time": "2022-05-31T16:15:10.284Z"
   },
   {
    "duration": 7,
    "start_time": "2022-05-31T16:15:10.859Z"
   },
   {
    "duration": 837,
    "start_time": "2022-05-31T16:15:10.868Z"
   },
   {
    "duration": 17,
    "start_time": "2022-05-31T16:15:11.709Z"
   },
   {
    "duration": 20,
    "start_time": "2022-05-31T16:15:11.729Z"
   },
   {
    "duration": 20,
    "start_time": "2022-05-31T16:15:11.754Z"
   },
   {
    "duration": 15,
    "start_time": "2022-05-31T16:15:11.776Z"
   },
   {
    "duration": 7,
    "start_time": "2022-05-31T16:15:11.793Z"
   },
   {
    "duration": 6,
    "start_time": "2022-05-31T16:15:11.803Z"
   },
   {
    "duration": 21,
    "start_time": "2022-05-31T16:15:11.811Z"
   },
   {
    "duration": 19,
    "start_time": "2022-05-31T16:15:11.834Z"
   },
   {
    "duration": 3,
    "start_time": "2022-05-31T16:15:11.854Z"
   },
   {
    "duration": 2269,
    "start_time": "2022-05-31T16:15:11.859Z"
   },
   {
    "duration": 2009,
    "start_time": "2022-05-31T16:15:14.131Z"
   },
   {
    "duration": 86,
    "start_time": "2022-05-31T16:15:16.142Z"
   },
   {
    "duration": 14701,
    "start_time": "2022-05-31T16:15:16.230Z"
   },
   {
    "duration": 0,
    "start_time": "2022-05-31T16:15:30.933Z"
   },
   {
    "duration": 0,
    "start_time": "2022-05-31T16:15:30.934Z"
   },
   {
    "duration": 0,
    "start_time": "2022-05-31T16:15:30.935Z"
   },
   {
    "duration": 0,
    "start_time": "2022-05-31T16:15:30.936Z"
   },
   {
    "duration": 4,
    "start_time": "2022-05-31T16:16:18.814Z"
   },
   {
    "duration": 1345,
    "start_time": "2022-05-31T16:16:18.820Z"
   },
   {
    "duration": 731,
    "start_time": "2022-05-31T16:16:20.167Z"
   },
   {
    "duration": 54,
    "start_time": "2022-05-31T16:16:20.900Z"
   },
   {
    "duration": 698,
    "start_time": "2022-05-31T16:16:20.957Z"
   },
   {
    "duration": 77,
    "start_time": "2022-05-31T16:16:21.657Z"
   },
   {
    "duration": 3,
    "start_time": "2022-05-31T16:16:21.736Z"
   },
   {
    "duration": 11,
    "start_time": "2022-05-31T16:16:21.741Z"
   },
   {
    "duration": 4,
    "start_time": "2022-05-31T16:16:21.753Z"
   },
   {
    "duration": 10,
    "start_time": "2022-05-31T16:16:21.758Z"
   },
   {
    "duration": 20,
    "start_time": "2022-05-31T16:16:21.769Z"
   },
   {
    "duration": 5,
    "start_time": "2022-05-31T16:16:21.790Z"
   },
   {
    "duration": 44,
    "start_time": "2022-05-31T16:16:21.797Z"
   },
   {
    "duration": 13,
    "start_time": "2022-05-31T16:16:21.842Z"
   },
   {
    "duration": 21,
    "start_time": "2022-05-31T16:16:21.857Z"
   },
   {
    "duration": 152,
    "start_time": "2022-05-31T16:16:21.880Z"
   },
   {
    "duration": 103,
    "start_time": "2022-05-31T16:16:22.034Z"
   },
   {
    "duration": 25,
    "start_time": "2022-05-31T16:16:22.139Z"
   },
   {
    "duration": 4,
    "start_time": "2022-05-31T16:16:22.166Z"
   },
   {
    "duration": 7,
    "start_time": "2022-05-31T16:16:22.172Z"
   },
   {
    "duration": 6,
    "start_time": "2022-05-31T16:16:22.181Z"
   },
   {
    "duration": 419,
    "start_time": "2022-05-31T16:16:22.189Z"
   },
   {
    "duration": 898,
    "start_time": "2022-05-31T16:16:22.612Z"
   },
   {
    "duration": 20,
    "start_time": "2022-05-31T16:16:23.511Z"
   },
   {
    "duration": 8,
    "start_time": "2022-05-31T16:16:23.532Z"
   },
   {
    "duration": 4,
    "start_time": "2022-05-31T16:16:23.542Z"
   },
   {
    "duration": 5,
    "start_time": "2022-05-31T16:16:23.548Z"
   },
   {
    "duration": 7,
    "start_time": "2022-05-31T16:16:23.555Z"
   },
   {
    "duration": 7,
    "start_time": "2022-05-31T16:16:23.563Z"
   },
   {
    "duration": 612,
    "start_time": "2022-05-31T16:16:23.572Z"
   },
   {
    "duration": 5,
    "start_time": "2022-05-31T16:16:24.186Z"
   },
   {
    "duration": 585,
    "start_time": "2022-05-31T16:16:24.192Z"
   },
   {
    "duration": 4,
    "start_time": "2022-05-31T16:16:24.779Z"
   },
   {
    "duration": 710,
    "start_time": "2022-05-31T16:16:24.785Z"
   },
   {
    "duration": 10,
    "start_time": "2022-05-31T16:16:25.496Z"
   },
   {
    "duration": 25,
    "start_time": "2022-05-31T16:16:25.507Z"
   },
   {
    "duration": 6,
    "start_time": "2022-05-31T16:16:25.533Z"
   },
   {
    "duration": 6,
    "start_time": "2022-05-31T16:16:25.540Z"
   },
   {
    "duration": 7,
    "start_time": "2022-05-31T16:16:25.547Z"
   },
   {
    "duration": 8,
    "start_time": "2022-05-31T16:16:25.556Z"
   },
   {
    "duration": 19,
    "start_time": "2022-05-31T16:16:25.565Z"
   },
   {
    "duration": 41,
    "start_time": "2022-05-31T16:16:25.585Z"
   },
   {
    "duration": 3,
    "start_time": "2022-05-31T16:16:25.628Z"
   },
   {
    "duration": 12,
    "start_time": "2022-05-31T16:16:25.632Z"
   },
   {
    "duration": 2581,
    "start_time": "2022-05-31T16:16:25.646Z"
   },
   {
    "duration": 4,
    "start_time": "2022-05-31T16:16:28.229Z"
   },
   {
    "duration": 40817,
    "start_time": "2022-05-31T16:16:28.234Z"
   },
   {
    "duration": 4,
    "start_time": "2022-05-31T18:39:31.468Z"
   },
   {
    "duration": 1366,
    "start_time": "2022-05-31T18:39:31.475Z"
   },
   {
    "duration": 931,
    "start_time": "2022-05-31T18:39:32.843Z"
   },
   {
    "duration": 65,
    "start_time": "2022-05-31T18:39:33.776Z"
   },
   {
    "duration": 611,
    "start_time": "2022-05-31T18:39:33.843Z"
   },
   {
    "duration": 52,
    "start_time": "2022-05-31T18:39:34.456Z"
   },
   {
    "duration": 3,
    "start_time": "2022-05-31T18:39:34.527Z"
   },
   {
    "duration": 14,
    "start_time": "2022-05-31T18:39:34.532Z"
   },
   {
    "duration": 6,
    "start_time": "2022-05-31T18:39:34.547Z"
   },
   {
    "duration": 8,
    "start_time": "2022-05-31T18:39:34.555Z"
   },
   {
    "duration": 19,
    "start_time": "2022-05-31T18:39:34.565Z"
   },
   {
    "duration": 4,
    "start_time": "2022-05-31T18:39:34.586Z"
   },
   {
    "duration": 48,
    "start_time": "2022-05-31T18:39:34.592Z"
   },
   {
    "duration": 13,
    "start_time": "2022-05-31T18:39:34.642Z"
   },
   {
    "duration": 24,
    "start_time": "2022-05-31T18:39:34.657Z"
   },
   {
    "duration": 169,
    "start_time": "2022-05-31T18:39:34.683Z"
   },
   {
    "duration": 100,
    "start_time": "2022-05-31T18:39:34.854Z"
   },
   {
    "duration": 37,
    "start_time": "2022-05-31T18:39:34.956Z"
   },
   {
    "duration": 5,
    "start_time": "2022-05-31T18:39:34.995Z"
   },
   {
    "duration": 26,
    "start_time": "2022-05-31T18:39:35.002Z"
   },
   {
    "duration": 11,
    "start_time": "2022-05-31T18:39:35.030Z"
   },
   {
    "duration": 410,
    "start_time": "2022-05-31T18:39:35.043Z"
   },
   {
    "duration": 924,
    "start_time": "2022-05-31T18:39:35.454Z"
   },
   {
    "duration": 9,
    "start_time": "2022-05-31T18:39:36.380Z"
   },
   {
    "duration": 11,
    "start_time": "2022-05-31T18:39:36.390Z"
   },
   {
    "duration": 5,
    "start_time": "2022-05-31T18:39:36.402Z"
   },
   {
    "duration": 9,
    "start_time": "2022-05-31T18:39:36.428Z"
   },
   {
    "duration": 11,
    "start_time": "2022-05-31T18:39:36.438Z"
   },
   {
    "duration": 5,
    "start_time": "2022-05-31T18:39:36.452Z"
   },
   {
    "duration": 581,
    "start_time": "2022-05-31T18:39:36.459Z"
   },
   {
    "duration": 6,
    "start_time": "2022-05-31T18:39:37.041Z"
   },
   {
    "duration": 547,
    "start_time": "2022-05-31T18:39:37.048Z"
   },
   {
    "duration": 5,
    "start_time": "2022-05-31T18:39:37.597Z"
   },
   {
    "duration": 688,
    "start_time": "2022-05-31T18:39:37.604Z"
   },
   {
    "duration": 10,
    "start_time": "2022-05-31T18:39:38.293Z"
   },
   {
    "duration": 24,
    "start_time": "2022-05-31T18:39:38.305Z"
   },
   {
    "duration": 6,
    "start_time": "2022-05-31T18:39:38.331Z"
   },
   {
    "duration": 9,
    "start_time": "2022-05-31T18:39:38.339Z"
   },
   {
    "duration": 7,
    "start_time": "2022-05-31T18:39:38.349Z"
   },
   {
    "duration": 7,
    "start_time": "2022-05-31T18:39:38.358Z"
   },
   {
    "duration": 24,
    "start_time": "2022-05-31T18:39:38.367Z"
   },
   {
    "duration": 39,
    "start_time": "2022-05-31T18:39:38.393Z"
   },
   {
    "duration": 3,
    "start_time": "2022-05-31T18:39:38.434Z"
   },
   {
    "duration": 9,
    "start_time": "2022-05-31T18:39:38.439Z"
   },
   {
    "duration": 2887,
    "start_time": "2022-05-31T18:39:38.449Z"
   },
   {
    "duration": 89,
    "start_time": "2022-05-31T18:39:41.338Z"
   },
   {
    "duration": 14373,
    "start_time": "2022-05-31T18:39:41.429Z"
   },
   {
    "duration": 3,
    "start_time": "2022-05-31T18:39:55.804Z"
   },
   {
    "duration": 330,
    "start_time": "2022-05-31T18:39:55.809Z"
   },
   {
    "duration": 9,
    "start_time": "2022-05-31T18:39:56.141Z"
   }
  ],
  "colab": {
   "collapsed_sections": [
    "Nnlkics_ijA1"
   ],
   "name": "сборный проект-2.ipynb",
   "provenance": [],
   "toc_visible": true
  },
  "kernelspec": {
   "display_name": "Python 3 (ipykernel)",
   "language": "python",
   "name": "python3"
  },
  "language_info": {
   "codemirror_mode": {
    "name": "ipython",
    "version": 3
   },
   "file_extension": ".py",
   "mimetype": "text/x-python",
   "name": "python",
   "nbconvert_exporter": "python",
   "pygments_lexer": "ipython3",
   "version": "3.9.5"
  },
  "toc": {
   "base_numbering": 1,
   "nav_menu": {},
   "number_sections": true,
   "sideBar": true,
   "skip_h1_title": true,
   "title_cell": "Содержание",
   "title_sidebar": "Contents",
   "toc_cell": true,
   "toc_position": {},
   "toc_section_display": true,
   "toc_window_display": true
  }
 },
 "nbformat": 4,
 "nbformat_minor": 1
}
